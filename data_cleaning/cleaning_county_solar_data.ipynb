{
  "nbformat": 4,
  "nbformat_minor": 0,
  "metadata": {
    "colab": {
      "name": "cleaning_county_solar_data.ipynb",
      "provenance": [],
      "mount_file_id": "1oSD1DJLyE5WAcuBhAugh9M6VQTUqe6-I",
      "authorship_tag": "ABX9TyNhtQk+yI31YNKJ5wATby8C",
      "include_colab_link": true
    },
    "kernelspec": {
      "name": "python3",
      "display_name": "Python 3"
    }
  },
  "cells": [
    {
      "cell_type": "markdown",
      "metadata": {
        "id": "view-in-github",
        "colab_type": "text"
      },
      "source": [
        "<a href=\"https://colab.research.google.com/github/jnelly79/Colorado_Solar_Installation_Adoption_Rates_DS/blob/master/data_cleaning/cleaning_county_solar_data.ipynb\" target=\"_parent\"><img src=\"https://colab.research.google.com/assets/colab-badge.svg\" alt=\"Open In Colab\"/></a>"
      ]
    },
    {
      "cell_type": "code",
      "metadata": {
        "id": "E5XdmdO1s724",
        "colab_type": "code",
        "colab": {}
      },
      "source": [
        "# Import Pandas\n",
        "import pandas as pd"
      ],
      "execution_count": null,
      "outputs": []
    },
    {
      "cell_type": "code",
      "metadata": {
        "id": "-K771BIItDGT",
        "colab_type": "code",
        "colab": {}
      },
      "source": [
        "# Read the county demographic solar data estimates.\n",
        "df = pd.read_csv('/content/drive/My Drive/datasets/data_practicum/county_demographic_solar_data_est.csv')"
      ],
      "execution_count": null,
      "outputs": []
    },
    {
      "cell_type": "code",
      "metadata": {
        "id": "cXH-NHRrulfY",
        "colab_type": "code",
        "colab": {
          "base_uri": "https://localhost:8080/",
          "height": 325
        },
        "outputId": "7152edda-f2a5-428a-be67-9152349f99c7"
      },
      "source": [
        "df.head()"
      ],
      "execution_count": null,
      "outputs": [
        {
          "output_type": "execute_result",
          "data": {
            "text/html": [
              "<div>\n",
              "<style scoped>\n",
              "    .dataframe tbody tr th:only-of-type {\n",
              "        vertical-align: middle;\n",
              "    }\n",
              "\n",
              "    .dataframe tbody tr th {\n",
              "        vertical-align: top;\n",
              "    }\n",
              "\n",
              "    .dataframe thead th {\n",
              "        text-align: right;\n",
              "    }\n",
              "</style>\n",
              "<table border=\"1\" class=\"dataframe\">\n",
              "  <thead>\n",
              "    <tr style=\"text-align: right;\">\n",
              "      <th></th>\n",
              "      <th>Unnamed: 0</th>\n",
              "      <th>CFIPS</th>\n",
              "      <th>YEAR</th>\n",
              "      <th>COUNTY</th>\n",
              "      <th>Households</th>\n",
              "      <th>total_roofs_installed</th>\n",
              "      <th>total_est_roofs</th>\n",
              "      <th>total_est_sqft_of_overall_roofs</th>\n",
              "      <th>total_est_capacity_of_mW_dc</th>\n",
              "      <th>total_est_MWh_ac_per_year</th>\n",
              "      <th>total_est_median_roof_space</th>\n",
              "      <th>total_est_median_kW_dc_capacity</th>\n",
              "      <th>total_est_median_kWH_ac_per_year</th>\n",
              "      <th>total_est_carbon_metric_tons</th>\n",
              "      <th>total_est_cars_off_road__per_yr</th>\n",
              "      <th>total_est_number_tree_seedlings_grown_10_yrs</th>\n",
              "    </tr>\n",
              "  </thead>\n",
              "  <tbody>\n",
              "    <tr>\n",
              "      <th>0</th>\n",
              "      <td>0</td>\n",
              "      <td>1</td>\n",
              "      <td>2017</td>\n",
              "      <td>Adams County</td>\n",
              "      <td>168930</td>\n",
              "      <td>2.2K</td>\n",
              "      <td>117K</td>\n",
              "      <td>144M</td>\n",
              "      <td>2K</td>\n",
              "      <td>2.9M</td>\n",
              "      <td>564.0</td>\n",
              "      <td>8.0</td>\n",
              "      <td>11.5K</td>\n",
              "      <td>1.8M</td>\n",
              "      <td>375K</td>\n",
              "      <td>45.5M</td>\n",
              "    </tr>\n",
              "    <tr>\n",
              "      <th>1</th>\n",
              "      <td>1</td>\n",
              "      <td>3</td>\n",
              "      <td>2017</td>\n",
              "      <td>Alamosa County</td>\n",
              "      <td>6203</td>\n",
              "      <td>NaN</td>\n",
              "      <td>NaN</td>\n",
              "      <td>NaN</td>\n",
              "      <td>NaN</td>\n",
              "      <td>NaN</td>\n",
              "      <td>NaN</td>\n",
              "      <td>NaN</td>\n",
              "      <td>NaN</td>\n",
              "      <td>NaN</td>\n",
              "      <td>NaN</td>\n",
              "      <td>NaN</td>\n",
              "    </tr>\n",
              "    <tr>\n",
              "      <th>2</th>\n",
              "      <td>2</td>\n",
              "      <td>5</td>\n",
              "      <td>2017</td>\n",
              "      <td>Arapahoe County</td>\n",
              "      <td>250210</td>\n",
              "      <td>3.4K</td>\n",
              "      <td>146K</td>\n",
              "      <td>168M</td>\n",
              "      <td>2.4K</td>\n",
              "      <td>3.4M</td>\n",
              "      <td>599.0</td>\n",
              "      <td>8.5</td>\n",
              "      <td>12.4K</td>\n",
              "      <td>2.1M</td>\n",
              "      <td>441K</td>\n",
              "      <td>53.5M</td>\n",
              "    </tr>\n",
              "    <tr>\n",
              "      <th>3</th>\n",
              "      <td>3</td>\n",
              "      <td>7</td>\n",
              "      <td>2017</td>\n",
              "      <td>Archuleta County</td>\n",
              "      <td>5814</td>\n",
              "      <td>NaN</td>\n",
              "      <td>NaN</td>\n",
              "      <td>NaN</td>\n",
              "      <td>NaN</td>\n",
              "      <td>NaN</td>\n",
              "      <td>NaN</td>\n",
              "      <td>NaN</td>\n",
              "      <td>NaN</td>\n",
              "      <td>NaN</td>\n",
              "      <td>NaN</td>\n",
              "      <td>NaN</td>\n",
              "    </tr>\n",
              "    <tr>\n",
              "      <th>4</th>\n",
              "      <td>4</td>\n",
              "      <td>9</td>\n",
              "      <td>2017</td>\n",
              "      <td>Baca County</td>\n",
              "      <td>1521</td>\n",
              "      <td>NaN</td>\n",
              "      <td>NaN</td>\n",
              "      <td>NaN</td>\n",
              "      <td>NaN</td>\n",
              "      <td>NaN</td>\n",
              "      <td>NaN</td>\n",
              "      <td>NaN</td>\n",
              "      <td>NaN</td>\n",
              "      <td>NaN</td>\n",
              "      <td>NaN</td>\n",
              "      <td>NaN</td>\n",
              "    </tr>\n",
              "  </tbody>\n",
              "</table>\n",
              "</div>"
            ],
            "text/plain": [
              "   Unnamed: 0  ...  total_est_number_tree_seedlings_grown_10_yrs\n",
              "0           0  ...                                         45.5M\n",
              "1           1  ...                                           NaN\n",
              "2           2  ...                                         53.5M\n",
              "3           3  ...                                           NaN\n",
              "4           4  ...                                           NaN\n",
              "\n",
              "[5 rows x 16 columns]"
            ]
          },
          "metadata": {
            "tags": []
          },
          "execution_count": 3
        }
      ]
    },
    {
      "cell_type": "code",
      "metadata": {
        "id": "uTO7F6uzxnm4",
        "colab_type": "code",
        "colab": {
          "base_uri": "https://localhost:8080/",
          "height": 329
        },
        "outputId": "27ca6d78-4df1-4f20-9677-5cb97f471106"
      },
      "source": [
        "# Figure out the dtypes.\n",
        "df.dtypes"
      ],
      "execution_count": null,
      "outputs": [
        {
          "output_type": "execute_result",
          "data": {
            "text/plain": [
              "Unnamed: 0                                        int64\n",
              "CFIPS                                             int64\n",
              "YEAR                                              int64\n",
              "COUNTY                                           object\n",
              "Households                                        int64\n",
              "total_roofs_installed                            object\n",
              "total_est_roofs                                  object\n",
              "total_est_sqft_of_overall_roofs                  object\n",
              "total_est_capacity_of_mW_dc                      object\n",
              "total_est_MWh_ac_per_year                        object\n",
              "total_est_median_roof_space                     float64\n",
              "total_est_median_kW_dc_capacity                 float64\n",
              "total_est_median_kWH_ac_per_year                 object\n",
              "total_est_carbon_metric_tons                     object\n",
              "total_est_cars_off_road__per_yr                  object\n",
              "total_est_number_tree_seedlings_grown_10_yrs     object\n",
              "dtype: object"
            ]
          },
          "metadata": {
            "tags": []
          },
          "execution_count": 4
        }
      ]
    },
    {
      "cell_type": "code",
      "metadata": {
        "id": "xW9u_H56FylF",
        "colab_type": "code",
        "colab": {}
      },
      "source": [
        "# Convert all Dtypes to str.\n",
        "df = df.astype(str)"
      ],
      "execution_count": null,
      "outputs": []
    },
    {
      "cell_type": "code",
      "metadata": {
        "id": "KhXBNT6kDvrn",
        "colab_type": "code",
        "colab": {}
      },
      "source": [
        "# Function to return numbers back to integer format.\n",
        "def convert_si_to_number(x):\n",
        "    total_stars = 0\n",
        "    if 'K' in x:\n",
        "        if len(x) > 1:\n",
        "            total_stars = float(x.replace('K', '')) * 1000 # convert k to a thousand\n",
        "    elif 'M' in x:\n",
        "        if len(x) > 1:\n",
        "            total_stars = float(x.replace('M', '')) * 1000000 # convert M to a million\n",
        "    elif 'B' in x:\n",
        "      total_stars = float(x.replace('B', '')) * 1000000000 # convert B to a Billion\n",
        "    elif ',' in x:\n",
        "      total_stars = float(x.replace(',','')) # removing ,\n",
        "    elif 'nan' in x:\n",
        "      pass\n",
        "    elif '.' in x:\n",
        "      total_stars = int(x.replace('.',''))\n",
        "    else:\n",
        "        total_stars = int(x) # Less than 1000\n",
        "    \n",
        "    return int(total_stars)"
      ],
      "execution_count": null,
      "outputs": []
    },
    {
      "cell_type": "code",
      "metadata": {
        "id": "9BYbht2YD8rK",
        "colab_type": "code",
        "colab": {}
      },
      "source": [
        "# Apply function to all the scraped data coloumns in the dataframe.\n",
        "df['total_roofs_installed'] = df['total_roofs_installed'].apply(convert_si_to_number)\n",
        "df['total_est_roofs'] = df['total_est_roofs'].apply(convert_si_to_number)\n",
        "df['total_est_sqft_of_overall_roofs'] = df['total_est_sqft_of_overall_roofs'].apply(convert_si_to_number)\n",
        "df['total_est_capacity_of_mW_dc'] = df['total_est_capacity_of_mW_dc'].apply(convert_si_to_number)\n",
        "df['total_est_MWh_ac_per_year'] = df['total_est_MWh_ac_per_year'].apply(convert_si_to_number)\n",
        "df['total_est_median_roof_space'] = df['total_est_median_roof_space'].apply(convert_si_to_number)\n",
        "df['total_est_median_kW_dc_capacity'] = df['total_est_median_kW_dc_capacity'].apply(convert_si_to_number)\n",
        "df['total_est_median_kWH_ac_per_year'] = df['total_est_median_kWH_ac_per_year'].apply(convert_si_to_number)\n",
        "df['total_est_carbon_metric_tons'] = df['total_est_carbon_metric_tons'].apply(convert_si_to_number)\n",
        "df['total_est_cars_off_road__per_yr'] = df['total_est_cars_off_road__per_yr'].apply(convert_si_to_number)\n",
        "df['total_est_number_tree_seedlings_grown_10_yrs'] = df['total_est_number_tree_seedlings_grown_10_yrs'].apply(convert_si_to_number)"
      ],
      "execution_count": null,
      "outputs": []
    },
    {
      "cell_type": "code",
      "metadata": {
        "id": "pVlbCcxbGC_e",
        "colab_type": "code",
        "colab": {
          "base_uri": "https://localhost:8080/",
          "height": 325
        },
        "outputId": "efbb92a4-16ad-4313-cf83-d6e198c5589b"
      },
      "source": [
        "df.head()"
      ],
      "execution_count": null,
      "outputs": [
        {
          "output_type": "execute_result",
          "data": {
            "text/html": [
              "<div>\n",
              "<style scoped>\n",
              "    .dataframe tbody tr th:only-of-type {\n",
              "        vertical-align: middle;\n",
              "    }\n",
              "\n",
              "    .dataframe tbody tr th {\n",
              "        vertical-align: top;\n",
              "    }\n",
              "\n",
              "    .dataframe thead th {\n",
              "        text-align: right;\n",
              "    }\n",
              "</style>\n",
              "<table border=\"1\" class=\"dataframe\">\n",
              "  <thead>\n",
              "    <tr style=\"text-align: right;\">\n",
              "      <th></th>\n",
              "      <th>Unnamed: 0</th>\n",
              "      <th>CFIPS</th>\n",
              "      <th>YEAR</th>\n",
              "      <th>COUNTY</th>\n",
              "      <th>Households</th>\n",
              "      <th>total_roofs_installed</th>\n",
              "      <th>total_est_roofs</th>\n",
              "      <th>total_est_sqft_of_overall_roofs</th>\n",
              "      <th>total_est_capacity_of_mW_dc</th>\n",
              "      <th>total_est_MWh_ac_per_year</th>\n",
              "      <th>total_est_median_roof_space</th>\n",
              "      <th>total_est_median_kW_dc_capacity</th>\n",
              "      <th>total_est_median_kWH_ac_per_year</th>\n",
              "      <th>total_est_carbon_metric_tons</th>\n",
              "      <th>total_est_cars_off_road__per_yr</th>\n",
              "      <th>total_est_number_tree_seedlings_grown_10_yrs</th>\n",
              "    </tr>\n",
              "  </thead>\n",
              "  <tbody>\n",
              "    <tr>\n",
              "      <th>0</th>\n",
              "      <td>0</td>\n",
              "      <td>1</td>\n",
              "      <td>2017</td>\n",
              "      <td>Adams County</td>\n",
              "      <td>168930</td>\n",
              "      <td>2200</td>\n",
              "      <td>117000</td>\n",
              "      <td>144000000</td>\n",
              "      <td>2000</td>\n",
              "      <td>2900000</td>\n",
              "      <td>5640</td>\n",
              "      <td>80</td>\n",
              "      <td>11500</td>\n",
              "      <td>1800000</td>\n",
              "      <td>375000</td>\n",
              "      <td>45500000</td>\n",
              "    </tr>\n",
              "    <tr>\n",
              "      <th>1</th>\n",
              "      <td>1</td>\n",
              "      <td>3</td>\n",
              "      <td>2017</td>\n",
              "      <td>Alamosa County</td>\n",
              "      <td>6203</td>\n",
              "      <td>0</td>\n",
              "      <td>0</td>\n",
              "      <td>0</td>\n",
              "      <td>0</td>\n",
              "      <td>0</td>\n",
              "      <td>0</td>\n",
              "      <td>0</td>\n",
              "      <td>0</td>\n",
              "      <td>0</td>\n",
              "      <td>0</td>\n",
              "      <td>0</td>\n",
              "    </tr>\n",
              "    <tr>\n",
              "      <th>2</th>\n",
              "      <td>2</td>\n",
              "      <td>5</td>\n",
              "      <td>2017</td>\n",
              "      <td>Arapahoe County</td>\n",
              "      <td>250210</td>\n",
              "      <td>3400</td>\n",
              "      <td>146000</td>\n",
              "      <td>168000000</td>\n",
              "      <td>2400</td>\n",
              "      <td>3400000</td>\n",
              "      <td>5990</td>\n",
              "      <td>85</td>\n",
              "      <td>12400</td>\n",
              "      <td>2100000</td>\n",
              "      <td>441000</td>\n",
              "      <td>53500000</td>\n",
              "    </tr>\n",
              "    <tr>\n",
              "      <th>3</th>\n",
              "      <td>3</td>\n",
              "      <td>7</td>\n",
              "      <td>2017</td>\n",
              "      <td>Archuleta County</td>\n",
              "      <td>5814</td>\n",
              "      <td>0</td>\n",
              "      <td>0</td>\n",
              "      <td>0</td>\n",
              "      <td>0</td>\n",
              "      <td>0</td>\n",
              "      <td>0</td>\n",
              "      <td>0</td>\n",
              "      <td>0</td>\n",
              "      <td>0</td>\n",
              "      <td>0</td>\n",
              "      <td>0</td>\n",
              "    </tr>\n",
              "    <tr>\n",
              "      <th>4</th>\n",
              "      <td>4</td>\n",
              "      <td>9</td>\n",
              "      <td>2017</td>\n",
              "      <td>Baca County</td>\n",
              "      <td>1521</td>\n",
              "      <td>0</td>\n",
              "      <td>0</td>\n",
              "      <td>0</td>\n",
              "      <td>0</td>\n",
              "      <td>0</td>\n",
              "      <td>0</td>\n",
              "      <td>0</td>\n",
              "      <td>0</td>\n",
              "      <td>0</td>\n",
              "      <td>0</td>\n",
              "      <td>0</td>\n",
              "    </tr>\n",
              "  </tbody>\n",
              "</table>\n",
              "</div>"
            ],
            "text/plain": [
              "  Unnamed: 0  ... total_est_number_tree_seedlings_grown_10_yrs\n",
              "0          0  ...                                     45500000\n",
              "1          1  ...                                            0\n",
              "2          2  ...                                     53500000\n",
              "3          3  ...                                            0\n",
              "4          4  ...                                            0\n",
              "\n",
              "[5 rows x 16 columns]"
            ]
          },
          "metadata": {
            "tags": []
          },
          "execution_count": 8
        }
      ]
    },
    {
      "cell_type": "code",
      "metadata": {
        "id": "Kp3A5ity1t90",
        "colab_type": "code",
        "colab": {}
      },
      "source": [
        "# Export the cleaned and reformated data back to a csv or excel file.\n",
        "df.to_excel('/content/drive/My Drive/datasets/data_practicum/county_demographic_solar_data_est.xlsx', sheet_name='cleaned')"
      ],
      "execution_count": null,
      "outputs": []
    }
  ]
}