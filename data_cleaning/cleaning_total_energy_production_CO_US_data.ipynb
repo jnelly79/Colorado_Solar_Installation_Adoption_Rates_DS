{
  "nbformat": 4,
  "nbformat_minor": 0,
  "metadata": {
    "colab": {
      "name": "cleaning_total_energy_production_CO_US_data.ipynb",
      "provenance": [],
      "mount_file_id": "1TJfLhttQSO4GCLiJmeZd5Ol1jRAqqTTg",
      "authorship_tag": "ABX9TyPNt5vHx2Ptw89xAGS5q6uM",
      "include_colab_link": true
    },
    "kernelspec": {
      "name": "python3",
      "display_name": "Python 3"
    }
  },
  "cells": [
    {
      "cell_type": "markdown",
      "metadata": {
        "id": "view-in-github",
        "colab_type": "text"
      },
      "source": [
        "<a href=\"https://colab.research.google.com/github/jnelly79/Colorado_Solar_Installation_Adoption_Rates_DS/blob/master/data_cleaning/cleaning_total_energy_production_CO_US_data.ipynb\" target=\"_parent\"><img src=\"https://colab.research.google.com/assets/colab-badge.svg\" alt=\"Open In Colab\"/></a>"
      ]
    },
    {
      "cell_type": "code",
      "metadata": {
        "id": "E5XdmdO1s724",
        "colab_type": "code",
        "colab": {}
      },
      "source": [
        "# Import pandas\n",
        "import pandas as pd"
      ],
      "execution_count": null,
      "outputs": []
    },
    {
      "cell_type": "code",
      "metadata": {
        "id": "-K771BIItDGT",
        "colab_type": "code",
        "colab": {}
      },
      "source": [
        "# Read in the data for total energy production in US/CO.\n",
        "df = pd.read_excel('/content/drive/My Drive/datasets/data_practicum/total_energy_production_US_in_btu.xlsx', sheet_name='cleaning')"
      ],
      "execution_count": null,
      "outputs": []
    },
    {
      "cell_type": "code",
      "metadata": {
        "id": "cXH-NHRrulfY",
        "colab_type": "code",
        "colab": {
          "base_uri": "https://localhost:8080/",
          "height": 219
        },
        "outputId": "86b492d8-7d66-47f8-cea1-edf368bed59a"
      },
      "source": [
        "df.head()"
      ],
      "execution_count": null,
      "outputs": [
        {
          "output_type": "execute_result",
          "data": {
            "text/html": [
              "<div>\n",
              "<style scoped>\n",
              "    .dataframe tbody tr th:only-of-type {\n",
              "        vertical-align: middle;\n",
              "    }\n",
              "\n",
              "    .dataframe tbody tr th {\n",
              "        vertical-align: top;\n",
              "    }\n",
              "\n",
              "    .dataframe thead th {\n",
              "        text-align: right;\n",
              "    }\n",
              "</style>\n",
              "<table border=\"1\" class=\"dataframe\">\n",
              "  <thead>\n",
              "    <tr style=\"text-align: right;\">\n",
              "      <th></th>\n",
              "      <th>State</th>\n",
              "      <th>Coal</th>\n",
              "      <th>Natural Gas</th>\n",
              "      <th>Crude Oil</th>\n",
              "      <th>Nuclear Electric Power</th>\n",
              "      <th>Biofuels</th>\n",
              "      <th>Other Renewable Energy</th>\n",
              "      <th>Total Renewable energy without Biofuel btu</th>\n",
              "      <th>Overall Total btu</th>\n",
              "    </tr>\n",
              "  </thead>\n",
              "  <tbody>\n",
              "    <tr>\n",
              "      <th>0</th>\n",
              "      <td>Alabama</td>\n",
              "      <td>326.748</td>\n",
              "      <td>159.695</td>\n",
              "      <td>39.071</td>\n",
              "      <td>446.097</td>\n",
              "      <td>0.000</td>\n",
              "      <td>255.547</td>\n",
              "      <td>255.547</td>\n",
              "      <td>1227.157</td>\n",
              "    </tr>\n",
              "    <tr>\n",
              "      <th>1</th>\n",
              "      <td>Alaska</td>\n",
              "      <td>14.365</td>\n",
              "      <td>382.663</td>\n",
              "      <td>1032.81</td>\n",
              "      <td>0.000</td>\n",
              "      <td>0.000</td>\n",
              "      <td>23.677</td>\n",
              "      <td>23.677</td>\n",
              "      <td>1453.518</td>\n",
              "    </tr>\n",
              "    <tr>\n",
              "      <th>2</th>\n",
              "      <td>Arizona</td>\n",
              "      <td>134.024</td>\n",
              "      <td>0.058</td>\n",
              "      <td>0.074</td>\n",
              "      <td>338.246</td>\n",
              "      <td>6.811</td>\n",
              "      <td>141.869</td>\n",
              "      <td>148.680</td>\n",
              "      <td>621.083</td>\n",
              "    </tr>\n",
              "    <tr>\n",
              "      <th>3</th>\n",
              "      <td>Arkansas</td>\n",
              "      <td>0.832</td>\n",
              "      <td>721.333</td>\n",
              "      <td>30.263</td>\n",
              "      <td>132.736</td>\n",
              "      <td>0.000</td>\n",
              "      <td>109.448</td>\n",
              "      <td>109.448</td>\n",
              "      <td>994.612</td>\n",
              "    </tr>\n",
              "    <tr>\n",
              "      <th>4</th>\n",
              "      <td>California</td>\n",
              "      <td>0.000</td>\n",
              "      <td>236.845</td>\n",
              "      <td>996.414</td>\n",
              "      <td>187.227</td>\n",
              "      <td>29.799</td>\n",
              "      <td>1085.502</td>\n",
              "      <td>1115.301</td>\n",
              "      <td>2535.788</td>\n",
              "    </tr>\n",
              "  </tbody>\n",
              "</table>\n",
              "</div>"
            ],
            "text/plain": [
              "        State  ...  Overall Total btu\n",
              "0     Alabama  ...           1227.157\n",
              "1      Alaska  ...           1453.518\n",
              "2     Arizona  ...            621.083\n",
              "3    Arkansas  ...            994.612\n",
              "4  California  ...           2535.788\n",
              "\n",
              "[5 rows x 9 columns]"
            ]
          },
          "metadata": {
            "tags": []
          },
          "execution_count": 67
        }
      ]
    },
    {
      "cell_type": "code",
      "metadata": {
        "id": "uTO7F6uzxnm4",
        "colab_type": "code",
        "colab": {
          "base_uri": "https://localhost:8080/",
          "height": 200
        },
        "outputId": "cbe75ec1-9e69-4a67-8c1a-26ff904c3233"
      },
      "source": [
        "# Find out what the dtypes of the columns are,\n",
        "df.dtypes"
      ],
      "execution_count": null,
      "outputs": [
        {
          "output_type": "execute_result",
          "data": {
            "text/plain": [
              "State                                          object\n",
              "Coal                                          float64\n",
              "Natural Gas                                    object\n",
              "Crude Oil                                      object\n",
              "Nuclear Electric Power                        float64\n",
              "Biofuels                                      float64\n",
              "Other Renewable Energy                        float64\n",
              "Total Renewable energy without Biofuel btu    float64\n",
              "Overall Total btu                             float64\n",
              "dtype: object"
            ]
          },
          "metadata": {
            "tags": []
          },
          "execution_count": 68
        }
      ]
    },
    {
      "cell_type": "code",
      "metadata": {
        "id": "3xrrWNmI_lc2",
        "colab_type": "code",
        "colab": {}
      },
      "source": [
        "#  Convert everything to str format.\n",
        "df = df.astype(str)"
      ],
      "execution_count": null,
      "outputs": []
    },
    {
      "cell_type": "code",
      "metadata": {
        "id": "KhXBNT6kDvrn",
        "colab_type": "code",
        "colab": {}
      },
      "source": [
        "# Function to convert total number of integers.\n",
        "def convert_si_to_number(x):\n",
        "    total_stars = 0\n",
        "    if '.' in x:\n",
        "      total_stars = float(x.replace('.', '')) * 1000000000 # convert trillion\n",
        "    elif '(s)' in x:\n",
        "      total_stars = float(x.replace('(s)','0.05'))\n",
        "    elif 'nan' in x:\n",
        "      pass\n",
        "    else:\n",
        "        total_stars = int(x) # Less than 1000\n",
        "    \n",
        "    return int(total_stars)"
      ],
      "execution_count": null,
      "outputs": []
    },
    {
      "cell_type": "code",
      "metadata": {
        "id": "9BYbht2YD8rK",
        "colab_type": "code",
        "colab": {}
      },
      "source": [
        "# Store the reformatted data back into the datframe.\n",
        "df['Coal'] = df['Coal'].apply(convert_si_to_number)\n",
        "df['Natural Gas'] = df['Natural Gas'].apply(convert_si_to_number)\n",
        "df['Crude Oil'] = df['Crude Oil'].apply(convert_si_to_number)\n",
        "df['Nuclear Electric Power'] = df['Nuclear Electric Power'].apply(convert_si_to_number)\n",
        "df['Biofuels'] = df['Biofuels'].apply(convert_si_to_number)\n",
        "df['Other Renewable Energy'] = df['Other Renewable Energy'].apply(convert_si_to_number)\n",
        "df['Total Renewable energy without Biofuel btu'] = df['Total Renewable energy without Biofuel btu'].apply(convert_si_to_number)\n",
        "df['Overall Total btu'] = df['Overall Total btu'].apply(convert_si_to_number)"
      ],
      "execution_count": null,
      "outputs": []
    },
    {
      "cell_type": "code",
      "metadata": {
        "id": "pVlbCcxbGC_e",
        "colab_type": "code",
        "colab": {
          "base_uri": "https://localhost:8080/",
          "height": 219
        },
        "outputId": "792225ff-edcd-4e50-d5dd-b19da45fff13"
      },
      "source": [
        "df.head()"
      ],
      "execution_count": null,
      "outputs": [
        {
          "output_type": "execute_result",
          "data": {
            "text/html": [
              "<div>\n",
              "<style scoped>\n",
              "    .dataframe tbody tr th:only-of-type {\n",
              "        vertical-align: middle;\n",
              "    }\n",
              "\n",
              "    .dataframe tbody tr th {\n",
              "        vertical-align: top;\n",
              "    }\n",
              "\n",
              "    .dataframe thead th {\n",
              "        text-align: right;\n",
              "    }\n",
              "</style>\n",
              "<table border=\"1\" class=\"dataframe\">\n",
              "  <thead>\n",
              "    <tr style=\"text-align: right;\">\n",
              "      <th></th>\n",
              "      <th>State</th>\n",
              "      <th>Coal</th>\n",
              "      <th>Natural Gas</th>\n",
              "      <th>Crude Oil</th>\n",
              "      <th>Nuclear Electric Power</th>\n",
              "      <th>Biofuels</th>\n",
              "      <th>Other Renewable Energy</th>\n",
              "      <th>Total Renewable energy without Biofuel btu</th>\n",
              "      <th>Overall Total btu</th>\n",
              "    </tr>\n",
              "  </thead>\n",
              "  <tbody>\n",
              "    <tr>\n",
              "      <th>0</th>\n",
              "      <td>Alabama</td>\n",
              "      <td>326748000000000</td>\n",
              "      <td>159695000000000</td>\n",
              "      <td>39071000000000</td>\n",
              "      <td>446097000000000</td>\n",
              "      <td>0</td>\n",
              "      <td>255547000000000</td>\n",
              "      <td>255547000000000</td>\n",
              "      <td>1227157000000000</td>\n",
              "    </tr>\n",
              "    <tr>\n",
              "      <th>1</th>\n",
              "      <td>Alaska</td>\n",
              "      <td>14365000000000</td>\n",
              "      <td>382663000000000</td>\n",
              "      <td>1032813000000000</td>\n",
              "      <td>0</td>\n",
              "      <td>0</td>\n",
              "      <td>23677000000000</td>\n",
              "      <td>23677000000000</td>\n",
              "      <td>1453518000000000</td>\n",
              "    </tr>\n",
              "    <tr>\n",
              "      <th>2</th>\n",
              "      <td>Arizona</td>\n",
              "      <td>134024000000000</td>\n",
              "      <td>58000000000</td>\n",
              "      <td>74000000000</td>\n",
              "      <td>338246000000000</td>\n",
              "      <td>6811000000000</td>\n",
              "      <td>141869000000000</td>\n",
              "      <td>14868000000000</td>\n",
              "      <td>621083000000000</td>\n",
              "    </tr>\n",
              "    <tr>\n",
              "      <th>3</th>\n",
              "      <td>Arkansas</td>\n",
              "      <td>832000000000</td>\n",
              "      <td>721333000000000</td>\n",
              "      <td>30263000000000</td>\n",
              "      <td>132736000000000</td>\n",
              "      <td>0</td>\n",
              "      <td>109448000000000</td>\n",
              "      <td>109448000000000</td>\n",
              "      <td>994612000000000</td>\n",
              "    </tr>\n",
              "    <tr>\n",
              "      <th>4</th>\n",
              "      <td>California</td>\n",
              "      <td>0</td>\n",
              "      <td>236845000000000</td>\n",
              "      <td>996414000000000</td>\n",
              "      <td>187227000000000</td>\n",
              "      <td>29799000000000</td>\n",
              "      <td>1085502000000000</td>\n",
              "      <td>1115301000000000</td>\n",
              "      <td>2535788000000000</td>\n",
              "    </tr>\n",
              "  </tbody>\n",
              "</table>\n",
              "</div>"
            ],
            "text/plain": [
              "        State  ...  Overall Total btu\n",
              "0     Alabama  ...   1227157000000000\n",
              "1      Alaska  ...   1453518000000000\n",
              "2     Arizona  ...    621083000000000\n",
              "3    Arkansas  ...    994612000000000\n",
              "4  California  ...   2535788000000000\n",
              "\n",
              "[5 rows x 9 columns]"
            ]
          },
          "metadata": {
            "tags": []
          },
          "execution_count": 72
        }
      ]
    },
    {
      "cell_type": "code",
      "metadata": {
        "id": "Kp3A5ity1t90",
        "colab_type": "code",
        "colab": {}
      },
      "source": [
        "# Export the data into a csv or excel file.\n",
        "df.to_excel('/content/drive/My Drive/datasets/data_practicum/total_energy_production_US_in_btu_clean.xlsx', sheet_name='cleaned')"
      ],
      "execution_count": null,
      "outputs": []
    }
  ]
}