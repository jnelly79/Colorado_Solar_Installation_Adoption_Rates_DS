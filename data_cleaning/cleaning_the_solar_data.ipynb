{
  "nbformat": 4,
  "nbformat_minor": 0,
  "metadata": {
    "colab": {
      "name": "cleaning_the_solar_data.ipynb",
      "provenance": [],
      "mount_file_id": "1zUEwAYIfPcKJybXBCfqWku7jK2o4Hjd4",
      "authorship_tag": "ABX9TyMq8kV4474ZrFKvIZWUckI3",
      "include_colab_link": true
    },
    "kernelspec": {
      "name": "python3",
      "display_name": "Python 3"
    }
  },
  "cells": [
    {
      "cell_type": "markdown",
      "metadata": {
        "id": "view-in-github",
        "colab_type": "text"
      },
      "source": [
        "<a href=\"https://colab.research.google.com/github/jnelly79/Colorado_Solar_Installation_Adoption_Rates_DS/blob/master/data_cleaning/cleaning_the_solar_data.ipynb\" target=\"_parent\"><img src=\"https://colab.research.google.com/assets/colab-badge.svg\" alt=\"Open In Colab\"/></a>"
      ]
    },
    {
      "cell_type": "code",
      "metadata": {
        "id": "E5XdmdO1s724",
        "colab_type": "code",
        "colab": {}
      },
      "source": [
        "# Import Pandas and re\n",
        "import pandas as pd\n",
        "import re"
      ],
      "execution_count": null,
      "outputs": []
    },
    {
      "cell_type": "code",
      "metadata": {
        "id": "-K771BIItDGT",
        "colab_type": "code",
        "colab": {}
      },
      "source": [
        "# Load random address solar data.\n",
        "df = pd.read_csv('/content/drive/My Drive/datasets/data_practicum/random_address_solar_data3.csv')"
      ],
      "execution_count": null,
      "outputs": []
    },
    {
      "cell_type": "code",
      "metadata": {
        "id": "cXH-NHRrulfY",
        "colab_type": "code",
        "colab": {
          "base_uri": "https://localhost:8080/",
          "height": 498
        },
        "outputId": "7e5c05e2-f2b9-4ce8-a285-2e9efade08ea"
      },
      "source": [
        "# Display dataframe head.\n",
        "df.head()"
      ],
      "execution_count": null,
      "outputs": [
        {
          "output_type": "execute_result",
          "data": {
            "text/html": [
              "<div>\n",
              "<style scoped>\n",
              "    .dataframe tbody tr th:only-of-type {\n",
              "        vertical-align: middle;\n",
              "    }\n",
              "\n",
              "    .dataframe tbody tr th {\n",
              "        vertical-align: top;\n",
              "    }\n",
              "\n",
              "    .dataframe thead th {\n",
              "        text-align: right;\n",
              "    }\n",
              "</style>\n",
              "<table border=\"1\" class=\"dataframe\">\n",
              "  <thead>\n",
              "    <tr style=\"text-align: right;\">\n",
              "      <th></th>\n",
              "      <th>Unnamed: 0</th>\n",
              "      <th>Unnamed: 0.1</th>\n",
              "      <th>addresses</th>\n",
              "      <th>sun_hours</th>\n",
              "      <th>sqft</th>\n",
              "      <th>size_for_full_cvg</th>\n",
              "      <th>carbon_metric_ton</th>\n",
              "      <th>upfront_cost</th>\n",
              "      <th>20_year_pay</th>\n",
              "      <th>state_fed_incentives</th>\n",
              "      <th>20_year_cost_with_solar</th>\n",
              "      <th>20_year_cost_without_solar</th>\n",
              "      <th>20_year_save</th>\n",
              "    </tr>\n",
              "  </thead>\n",
              "  <tbody>\n",
              "    <tr>\n",
              "      <th>0</th>\n",
              "      <td>0</td>\n",
              "      <td>0</td>\n",
              "      <td>80001</td>\n",
              "      <td>NaN</td>\n",
              "      <td>NaN</td>\n",
              "      <td>NaN</td>\n",
              "      <td>NaN</td>\n",
              "      <td>NaN</td>\n",
              "      <td>NaN</td>\n",
              "      <td>NaN</td>\n",
              "      <td>NaN</td>\n",
              "      <td>NaN</td>\n",
              "      <td>NaN</td>\n",
              "    </tr>\n",
              "    <tr>\n",
              "      <th>1</th>\n",
              "      <td>1</td>\n",
              "      <td>1</td>\n",
              "      <td>13715 W 51st Ave, Arvada, CO 80002</td>\n",
              "      <td>1,715 hours of usable sunlight per year</td>\n",
              "      <td>1,216 sq feet available for solar panels</td>\n",
              "      <td>6.3 kW\\n(440 ft2)</td>\n",
              "      <td>7.7</td>\n",
              "      <td>$22,979</td>\n",
              "      <td>$22,979</td>\n",
              "      <td>-$6,784</td>\n",
              "      <td>$19,535</td>\n",
              "      <td>$23,706</td>\n",
              "      <td>$4,171</td>\n",
              "    </tr>\n",
              "    <tr>\n",
              "      <th>2</th>\n",
              "      <td>2</td>\n",
              "      <td>2</td>\n",
              "      <td>5295 Gladiola St, Arvada, CO 80002</td>\n",
              "      <td>1,496 hours of usable sunlight per year</td>\n",
              "      <td>634 sq feet available for solar panels</td>\n",
              "      <td>7.0 kW\\n(493 ft2)</td>\n",
              "      <td>6.6</td>\n",
              "      <td>$25,229</td>\n",
              "      <td>$25,229</td>\n",
              "      <td>-$6,559</td>\n",
              "      <td>$23,117</td>\n",
              "      <td>$23,250</td>\n",
              "      <td>$133</td>\n",
              "    </tr>\n",
              "    <tr>\n",
              "      <th>3</th>\n",
              "      <td>3</td>\n",
              "      <td>3</td>\n",
              "      <td>5480 Dudley Ct, Arvada, CO 80002</td>\n",
              "      <td>NaN</td>\n",
              "      <td>NaN</td>\n",
              "      <td>NaN</td>\n",
              "      <td>NaN</td>\n",
              "      <td>NaN</td>\n",
              "      <td>NaN</td>\n",
              "      <td>NaN</td>\n",
              "      <td>NaN</td>\n",
              "      <td>NaN</td>\n",
              "      <td>NaN</td>\n",
              "    </tr>\n",
              "    <tr>\n",
              "      <th>4</th>\n",
              "      <td>4</td>\n",
              "      <td>4</td>\n",
              "      <td>5722 Xenon Way, Arvada, CO 80002</td>\n",
              "      <td>1,824 hours of usable sunlight per year</td>\n",
              "      <td>2,995 sq feet available for solar panels</td>\n",
              "      <td>4.8 kW\\n(335 ft2)</td>\n",
              "      <td>6.6</td>\n",
              "      <td>$18,479</td>\n",
              "      <td>$18,479</td>\n",
              "      <td>-$4,804</td>\n",
              "      <td>$17,953</td>\n",
              "      <td>$23,250</td>\n",
              "      <td>$5,297</td>\n",
              "    </tr>\n",
              "  </tbody>\n",
              "</table>\n",
              "</div>"
            ],
            "text/plain": [
              "   Unnamed: 0  Unnamed: 0.1  ... 20_year_cost_without_solar 20_year_save\n",
              "0           0             0  ...                        NaN          NaN\n",
              "1           1             1  ...                    $23,706       $4,171\n",
              "2           2             2  ...                    $23,250         $133\n",
              "3           3             3  ...                        NaN          NaN\n",
              "4           4             4  ...                    $23,250       $5,297\n",
              "\n",
              "[5 rows x 13 columns]"
            ]
          },
          "metadata": {
            "tags": []
          },
          "execution_count": 3
        }
      ]
    },
    {
      "cell_type": "code",
      "metadata": {
        "id": "OrAK7uysaoMa",
        "colab_type": "code",
        "colab": {
          "base_uri": "https://localhost:8080/",
          "height": 35
        },
        "outputId": "a41dd669-9e8c-49bd-c2bc-45bb50fad5dc"
      },
      "source": [
        "# Display dataframe shape.\n",
        "df.shape"
      ],
      "execution_count": null,
      "outputs": [
        {
          "output_type": "execute_result",
          "data": {
            "text/plain": [
              "(1741, 13)"
            ]
          },
          "metadata": {
            "tags": []
          },
          "execution_count": 4
        }
      ]
    },
    {
      "cell_type": "code",
      "metadata": {
        "id": "nsedb5amuq8z",
        "colab_type": "code",
        "colab": {}
      },
      "source": [
        "# Drop na values.\n",
        "df = df.dropna(axis=0)"
      ],
      "execution_count": null,
      "outputs": []
    },
    {
      "cell_type": "code",
      "metadata": {
        "id": "nRGjlytzarwv",
        "colab_type": "code",
        "colab": {
          "base_uri": "https://localhost:8080/",
          "height": 35
        },
        "outputId": "e0cf29bd-b15a-4e88-bc63-ce33dff5aae7"
      },
      "source": [
        "# Display dataframe shape again.\n",
        "df.shape"
      ],
      "execution_count": null,
      "outputs": [
        {
          "output_type": "execute_result",
          "data": {
            "text/plain": [
              "(741, 13)"
            ]
          },
          "metadata": {
            "tags": []
          },
          "execution_count": 6
        }
      ]
    },
    {
      "cell_type": "code",
      "metadata": {
        "id": "uTO7F6uzxnm4",
        "colab_type": "code",
        "colab": {
          "base_uri": "https://localhost:8080/",
          "height": 237
        },
        "outputId": "be434ae1-c040-4d58-aca6-f9879234ee87"
      },
      "source": [
        "# Display duplicate values.\n",
        "df['addresses'].value_counts()"
      ],
      "execution_count": null,
      "outputs": [
        {
          "output_type": "execute_result",
          "data": {
            "text/plain": [
              "1034 29th St, Denver, CO 80205              7\n",
              "3717 Inca St, Denver, CO 80211              3\n",
              "7035 S Spruce Dr E, Centennial, CO 80112    2\n",
              "2807 Alan St, Fort Collins, CO 80524        2\n",
              "1301 27th Ave, Greeley, CO 80634            2\n",
              "                                           ..\n",
              "1763 S Moline Ct, Aurora, CO 80012          1\n",
              "5237 E Dakota Ave, Denver, CO 80246         1\n",
              "4786 Clayton St, Denver, CO 80216           1\n",
              "81010                                       1\n",
              "81303                                       1\n",
              "Name: addresses, Length: 695, dtype: int64"
            ]
          },
          "metadata": {
            "tags": []
          },
          "execution_count": 7
        }
      ]
    },
    {
      "cell_type": "code",
      "metadata": {
        "id": "MRKWsVSO0Gz2",
        "colab_type": "code",
        "colab": {}
      },
      "source": [
        "# Convert dataframe column 'addresses' to Dtype(str).\n",
        "df['addresses'] = df['addresses'].astype(str)"
      ],
      "execution_count": null,
      "outputs": []
    },
    {
      "cell_type": "code",
      "metadata": {
        "id": "wLGeVfgFyzEp",
        "colab_type": "code",
        "colab": {}
      },
      "source": [
        "# Remove the zipcode values that got mixed into the addresses.\n",
        "df = df[df['addresses'].map(len) > 5]"
      ],
      "execution_count": null,
      "outputs": []
    },
    {
      "cell_type": "code",
      "metadata": {
        "id": "hKJgMiGnawiN",
        "colab_type": "code",
        "colab": {
          "base_uri": "https://localhost:8080/",
          "height": 35
        },
        "outputId": "6d49afe2-1bff-4c82-c8cc-dcfaaba06455"
      },
      "source": [
        "# Display dataframe shape.\n",
        "df.shape"
      ],
      "execution_count": null,
      "outputs": [
        {
          "output_type": "execute_result",
          "data": {
            "text/plain": [
              "(546, 13)"
            ]
          },
          "metadata": {
            "tags": []
          },
          "execution_count": 10
        }
      ]
    },
    {
      "cell_type": "code",
      "metadata": {
        "id": "odJaQcnQ0Mg3",
        "colab_type": "code",
        "colab": {
          "base_uri": "https://localhost:8080/",
          "height": 237
        },
        "outputId": "17476245-4fba-4de8-d04a-3694f0ff1315"
      },
      "source": [
        "# Display duplicates.\n",
        "df['addresses'].value_counts()"
      ],
      "execution_count": null,
      "outputs": [
        {
          "output_type": "execute_result",
          "data": {
            "text/plain": [
              "1034 29th St, Denver, CO 80205                 7\n",
              "3717 Inca St, Denver, CO 80211                 3\n",
              "4331 E Maplewood Way, Centennial, CO 80121     2\n",
              "2206 E 23rd Ave, Denver, CO 80205              2\n",
              "13095 Marion Dr, Thornton, CO 80241            2\n",
              "                                              ..\n",
              "10071 E 26th Ave, Denver, CO 80238             1\n",
              "172 E Mikado Dr, Colorado Springs, CO 80919    1\n",
              "4940 Nolte Dr, Colorado Springs, CO 80916      1\n",
              "2924 W Kiowa St, Colorado Springs, CO 80904    1\n",
              "1620 Egret Way, Superior, CO 80027             1\n",
              "Name: addresses, Length: 500, dtype: int64"
            ]
          },
          "metadata": {
            "tags": []
          },
          "execution_count": 11
        }
      ]
    },
    {
      "cell_type": "code",
      "metadata": {
        "id": "Ieg2gHO4a6YS",
        "colab_type": "code",
        "colab": {}
      },
      "source": [
        "# Drop duplicates.\n",
        "df = df.drop_duplicates(['addresses'])"
      ],
      "execution_count": null,
      "outputs": []
    },
    {
      "cell_type": "code",
      "metadata": {
        "id": "EH13gaBvbB2c",
        "colab_type": "code",
        "colab": {
          "base_uri": "https://localhost:8080/",
          "height": 35
        },
        "outputId": "6c750e52-68df-43bd-b380-53c257755131"
      },
      "source": [
        "# Display dataframe shape.\n",
        "df.shape"
      ],
      "execution_count": null,
      "outputs": [
        {
          "output_type": "execute_result",
          "data": {
            "text/plain": [
              "(500, 13)"
            ]
          },
          "metadata": {
            "tags": []
          },
          "execution_count": 13
        }
      ]
    },
    {
      "cell_type": "code",
      "metadata": {
        "id": "FQ0Ja0jXfGqt",
        "colab_type": "code",
        "colab": {}
      },
      "source": [
        "# Create function to remove string from value columns.\n",
        "def remove_str(x):\n",
        "  string = re.sub('\\D', '', x)\n",
        "  return string"
      ],
      "execution_count": null,
      "outputs": []
    },
    {
      "cell_type": "code",
      "metadata": {
        "id": "o-Gf2Cl6fh8P",
        "colab_type": "code",
        "colab": {}
      },
      "source": [
        "# Apply remove_str function to all the columns with numbers and string mixed.\n",
        "df['sun_hours'] = df['sun_hours'].apply(remove_str)\n",
        "df['sqft'] = df['sqft'].apply(remove_str)\n",
        "df['upfront_cost'] = df['upfront_cost'].apply(remove_str)\n",
        "df['20_year_pay'] = df['20_year_pay'].apply(remove_str)\n",
        "df['state_fed_incentives'] = df['state_fed_incentives'].apply(remove_str)\n",
        "df['20_year_cost_with_solar'] = df['20_year_cost_with_solar'].apply(remove_str)\n",
        "df['20_year_cost_without_solar'] = df['20_year_cost_without_solar'].apply(remove_str)\n",
        "df['20_year_save'] = df['20_year_save'].apply(remove_str)"
      ],
      "execution_count": null,
      "outputs": []
    },
    {
      "cell_type": "code",
      "metadata": {
        "id": "L2FOhaonfp1b",
        "colab_type": "code",
        "colab": {
          "base_uri": "https://localhost:8080/",
          "height": 481
        },
        "outputId": "2fc283b5-df6a-49fe-dd25-d0a5006c720e"
      },
      "source": [
        "# Display the dataframe head.\n",
        "df.head()"
      ],
      "execution_count": null,
      "outputs": [
        {
          "output_type": "execute_result",
          "data": {
            "text/html": [
              "<div>\n",
              "<style scoped>\n",
              "    .dataframe tbody tr th:only-of-type {\n",
              "        vertical-align: middle;\n",
              "    }\n",
              "\n",
              "    .dataframe tbody tr th {\n",
              "        vertical-align: top;\n",
              "    }\n",
              "\n",
              "    .dataframe thead th {\n",
              "        text-align: right;\n",
              "    }\n",
              "</style>\n",
              "<table border=\"1\" class=\"dataframe\">\n",
              "  <thead>\n",
              "    <tr style=\"text-align: right;\">\n",
              "      <th></th>\n",
              "      <th>Unnamed: 0</th>\n",
              "      <th>Unnamed: 0.1</th>\n",
              "      <th>addresses</th>\n",
              "      <th>sun_hours</th>\n",
              "      <th>sqft</th>\n",
              "      <th>size_for_full_cvg</th>\n",
              "      <th>carbon_metric_ton</th>\n",
              "      <th>upfront_cost</th>\n",
              "      <th>20_year_pay</th>\n",
              "      <th>state_fed_incentives</th>\n",
              "      <th>20_year_cost_with_solar</th>\n",
              "      <th>20_year_cost_without_solar</th>\n",
              "      <th>20_year_save</th>\n",
              "    </tr>\n",
              "  </thead>\n",
              "  <tbody>\n",
              "    <tr>\n",
              "      <th>1</th>\n",
              "      <td>1</td>\n",
              "      <td>1</td>\n",
              "      <td>13715 W 51st Ave, Arvada, CO 80002</td>\n",
              "      <td>1715</td>\n",
              "      <td>1216</td>\n",
              "      <td>6.3 kW\\n(440 ft2)</td>\n",
              "      <td>7.7</td>\n",
              "      <td>22979</td>\n",
              "      <td>22979</td>\n",
              "      <td>6784</td>\n",
              "      <td>19535</td>\n",
              "      <td>23706</td>\n",
              "      <td>4171</td>\n",
              "    </tr>\n",
              "    <tr>\n",
              "      <th>2</th>\n",
              "      <td>2</td>\n",
              "      <td>2</td>\n",
              "      <td>5295 Gladiola St, Arvada, CO 80002</td>\n",
              "      <td>1496</td>\n",
              "      <td>634</td>\n",
              "      <td>7.0 kW\\n(493 ft2)</td>\n",
              "      <td>6.6</td>\n",
              "      <td>25229</td>\n",
              "      <td>25229</td>\n",
              "      <td>6559</td>\n",
              "      <td>23117</td>\n",
              "      <td>23250</td>\n",
              "      <td>133</td>\n",
              "    </tr>\n",
              "    <tr>\n",
              "      <th>4</th>\n",
              "      <td>4</td>\n",
              "      <td>4</td>\n",
              "      <td>5722 Xenon Way, Arvada, CO 80002</td>\n",
              "      <td>1824</td>\n",
              "      <td>2995</td>\n",
              "      <td>4.8 kW\\n(335 ft2)</td>\n",
              "      <td>6.6</td>\n",
              "      <td>18479</td>\n",
              "      <td>18479</td>\n",
              "      <td>4804</td>\n",
              "      <td>17953</td>\n",
              "      <td>23250</td>\n",
              "      <td>5297</td>\n",
              "    </tr>\n",
              "    <tr>\n",
              "      <th>5</th>\n",
              "      <td>5</td>\n",
              "      <td>5</td>\n",
              "      <td>5955 Carr St, Arvada, CO 80004</td>\n",
              "      <td>1652</td>\n",
              "      <td>1039</td>\n",
              "      <td>5.5 kW\\n(388 ft2)</td>\n",
              "      <td>6.4</td>\n",
              "      <td>20729</td>\n",
              "      <td>20729</td>\n",
              "      <td>5389</td>\n",
              "      <td>20171</td>\n",
              "      <td>23250</td>\n",
              "      <td>3079</td>\n",
              "    </tr>\n",
              "    <tr>\n",
              "      <th>6</th>\n",
              "      <td>6</td>\n",
              "      <td>6</td>\n",
              "      <td>7439 W 74th Ave, Arvada, CO 80003</td>\n",
              "      <td>1781</td>\n",
              "      <td>1163</td>\n",
              "      <td>4.8 kW\\n(335 ft2)</td>\n",
              "      <td>6.4</td>\n",
              "      <td>18479</td>\n",
              "      <td>18479</td>\n",
              "      <td>4804</td>\n",
              "      <td>18642</td>\n",
              "      <td>23250</td>\n",
              "      <td>4608</td>\n",
              "    </tr>\n",
              "  </tbody>\n",
              "</table>\n",
              "</div>"
            ],
            "text/plain": [
              "   Unnamed: 0  Unnamed: 0.1  ... 20_year_cost_without_solar 20_year_save\n",
              "1           1             1  ...                      23706         4171\n",
              "2           2             2  ...                      23250          133\n",
              "4           4             4  ...                      23250         5297\n",
              "5           5             5  ...                      23250         3079\n",
              "6           6             6  ...                      23250         4608\n",
              "\n",
              "[5 rows x 13 columns]"
            ]
          },
          "metadata": {
            "tags": []
          },
          "execution_count": 16
        }
      ]
    },
    {
      "cell_type": "code",
      "metadata": {
        "id": "4_CPQ-kmgm7S",
        "colab_type": "code",
        "colab": {}
      },
      "source": [
        "# Create functionto remove the extra values in the size_for_full_cvg column.\n",
        "def remove_extra(x):\n",
        "    l = re.search('(.+?)kW',x)\n",
        "    if l:\n",
        "          found = l.group(1)\n",
        "          return found\n",
        "    else:\n",
        "        return None"
      ],
      "execution_count": null,
      "outputs": []
    },
    {
      "cell_type": "code",
      "metadata": {
        "id": "-lOjCOqrhY6P",
        "colab_type": "code",
        "colab": {}
      },
      "source": [
        "# Apply function to size_for_full_cvg column.\n",
        "df['size_for_full_cvg'] = df['size_for_full_cvg'].apply(remove_extra)"
      ],
      "execution_count": null,
      "outputs": []
    },
    {
      "cell_type": "code",
      "metadata": {
        "id": "ZF-C1Y7Fhgcv",
        "colab_type": "code",
        "colab": {
          "base_uri": "https://localhost:8080/",
          "height": 481
        },
        "outputId": "539829c6-1831-4cd5-cce8-841e4b519d71"
      },
      "source": [
        "# Display dataframe head.\n",
        "df.head()"
      ],
      "execution_count": null,
      "outputs": [
        {
          "output_type": "execute_result",
          "data": {
            "text/html": [
              "<div>\n",
              "<style scoped>\n",
              "    .dataframe tbody tr th:only-of-type {\n",
              "        vertical-align: middle;\n",
              "    }\n",
              "\n",
              "    .dataframe tbody tr th {\n",
              "        vertical-align: top;\n",
              "    }\n",
              "\n",
              "    .dataframe thead th {\n",
              "        text-align: right;\n",
              "    }\n",
              "</style>\n",
              "<table border=\"1\" class=\"dataframe\">\n",
              "  <thead>\n",
              "    <tr style=\"text-align: right;\">\n",
              "      <th></th>\n",
              "      <th>Unnamed: 0</th>\n",
              "      <th>Unnamed: 0.1</th>\n",
              "      <th>addresses</th>\n",
              "      <th>sun_hours</th>\n",
              "      <th>sqft</th>\n",
              "      <th>size_for_full_cvg</th>\n",
              "      <th>carbon_metric_ton</th>\n",
              "      <th>upfront_cost</th>\n",
              "      <th>20_year_pay</th>\n",
              "      <th>state_fed_incentives</th>\n",
              "      <th>20_year_cost_with_solar</th>\n",
              "      <th>20_year_cost_without_solar</th>\n",
              "      <th>20_year_save</th>\n",
              "    </tr>\n",
              "  </thead>\n",
              "  <tbody>\n",
              "    <tr>\n",
              "      <th>1</th>\n",
              "      <td>1</td>\n",
              "      <td>1</td>\n",
              "      <td>13715 W 51st Ave, Arvada, CO 80002</td>\n",
              "      <td>1715</td>\n",
              "      <td>1216</td>\n",
              "      <td>6.3</td>\n",
              "      <td>7.7</td>\n",
              "      <td>22979</td>\n",
              "      <td>22979</td>\n",
              "      <td>6784</td>\n",
              "      <td>19535</td>\n",
              "      <td>23706</td>\n",
              "      <td>4171</td>\n",
              "    </tr>\n",
              "    <tr>\n",
              "      <th>2</th>\n",
              "      <td>2</td>\n",
              "      <td>2</td>\n",
              "      <td>5295 Gladiola St, Arvada, CO 80002</td>\n",
              "      <td>1496</td>\n",
              "      <td>634</td>\n",
              "      <td>7.0</td>\n",
              "      <td>6.6</td>\n",
              "      <td>25229</td>\n",
              "      <td>25229</td>\n",
              "      <td>6559</td>\n",
              "      <td>23117</td>\n",
              "      <td>23250</td>\n",
              "      <td>133</td>\n",
              "    </tr>\n",
              "    <tr>\n",
              "      <th>4</th>\n",
              "      <td>4</td>\n",
              "      <td>4</td>\n",
              "      <td>5722 Xenon Way, Arvada, CO 80002</td>\n",
              "      <td>1824</td>\n",
              "      <td>2995</td>\n",
              "      <td>4.8</td>\n",
              "      <td>6.6</td>\n",
              "      <td>18479</td>\n",
              "      <td>18479</td>\n",
              "      <td>4804</td>\n",
              "      <td>17953</td>\n",
              "      <td>23250</td>\n",
              "      <td>5297</td>\n",
              "    </tr>\n",
              "    <tr>\n",
              "      <th>5</th>\n",
              "      <td>5</td>\n",
              "      <td>5</td>\n",
              "      <td>5955 Carr St, Arvada, CO 80004</td>\n",
              "      <td>1652</td>\n",
              "      <td>1039</td>\n",
              "      <td>5.5</td>\n",
              "      <td>6.4</td>\n",
              "      <td>20729</td>\n",
              "      <td>20729</td>\n",
              "      <td>5389</td>\n",
              "      <td>20171</td>\n",
              "      <td>23250</td>\n",
              "      <td>3079</td>\n",
              "    </tr>\n",
              "    <tr>\n",
              "      <th>6</th>\n",
              "      <td>6</td>\n",
              "      <td>6</td>\n",
              "      <td>7439 W 74th Ave, Arvada, CO 80003</td>\n",
              "      <td>1781</td>\n",
              "      <td>1163</td>\n",
              "      <td>4.8</td>\n",
              "      <td>6.4</td>\n",
              "      <td>18479</td>\n",
              "      <td>18479</td>\n",
              "      <td>4804</td>\n",
              "      <td>18642</td>\n",
              "      <td>23250</td>\n",
              "      <td>4608</td>\n",
              "    </tr>\n",
              "  </tbody>\n",
              "</table>\n",
              "</div>"
            ],
            "text/plain": [
              "   Unnamed: 0  Unnamed: 0.1  ... 20_year_cost_without_solar 20_year_save\n",
              "1           1             1  ...                      23706         4171\n",
              "2           2             2  ...                      23250          133\n",
              "4           4             4  ...                      23250         5297\n",
              "5           5             5  ...                      23250         3079\n",
              "6           6             6  ...                      23250         4608\n",
              "\n",
              "[5 rows x 13 columns]"
            ]
          },
          "metadata": {
            "tags": []
          },
          "execution_count": 19
        }
      ]
    },
    {
      "cell_type": "code",
      "metadata": {
        "id": "Kp3A5ity1t90",
        "colab_type": "code",
        "colab": {}
      },
      "source": [
        "# Export cleaned data into csv or excel file.\n",
        "df.to_excel('/content/drive/My Drive/datasets/data_practicum/random_address_solar_data3.xlsx', sheet_name='cleaned')"
      ],
      "execution_count": null,
      "outputs": []
    }
  ]
}