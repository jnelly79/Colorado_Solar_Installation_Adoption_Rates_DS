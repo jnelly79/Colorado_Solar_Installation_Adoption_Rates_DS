{
  "nbformat": 4,
  "nbformat_minor": 0,
  "metadata": {
    "colab": {
      "name": "predicting_the_smaller_dataset_actual_v_incentives.ipynb",
      "provenance": [],
      "mount_file_id": "1WbcwlNiYMVrOKUFGJNzZgI7i0Bdhk-h6",
      "authorship_tag": "ABX9TyM9IIRUukYbkaZcG6oqY4/O",
      "include_colab_link": true
    },
    "kernelspec": {
      "name": "python3",
      "display_name": "Python 3"
    }
  },
  "cells": [
    {
      "cell_type": "markdown",
      "metadata": {
        "id": "view-in-github",
        "colab_type": "text"
      },
      "source": [
        "<a href=\"https://colab.research.google.com/github/jnelly79/Colorado_Solar_Installation_Adoption_Rates_DS/blob/master/predicting_data/predicting_adoption_rates.ipynb\" target=\"_parent\"><img src=\"https://colab.research.google.com/assets/colab-badge.svg\" alt=\"Open In Colab\"/></a>"
      ]
    },
    {
      "cell_type": "markdown",
      "metadata": {
        "id": "CgwfVUXWD8AF",
        "colab_type": "text"
      },
      "source": [
        "## Training, Testing and Predicting the Data With:\n",
        "\n",
        "\n",
        "*   Linear Regression\n",
        "*   Auto Regressive Integrated Moving Average\n",
        "\n",
        "*   Long-Short Term Memory Recurrent Neural Network\n",
        "\n",
        "\n",
        "\n"
      ]
    },
    {
      "cell_type": "code",
      "metadata": {
        "id": "2THWC6LImVnJ",
        "colab_type": "code",
        "colab": {
          "base_uri": "https://localhost:8080/",
          "height": 255
        },
        "outputId": "d84f90ca-2b64-4089-e34d-6b0fa5311113"
      },
      "source": [
        "\"\"\"\n",
        "Import all necessary libraries to prepare for preprocessing, training, testing \n",
        "and predicting the data.\n",
        "\"\"\"\n",
        "import warnings\n",
        "import numpy as np\n",
        "import matplotlib.pyplot as plt\n",
        "warnings.filterwarnings(\"ignore\")\n",
        "plt.style.use('fivethirtyeight')\n",
        "import pandas as pd\n",
        "from statsmodels.tsa.arima_model import ARIMA\n",
        "import matplotlib\n",
        "import matplotlib.pyplot as plt  \n",
        "from sklearn.preprocessing import MinMaxScaler\n",
        "from tensorflow.keras.models import Sequential\n",
        "from tensorflow.keras.layers import Dense\n",
        "from tensorflow.keras.layers import LSTM \n",
        "from sklearn import linear_model\n",
        "from sklearn.metrics import mean_squared_error, r2_score, mean_absolute_error\n",
        "from sklearn.model_selection import train_test_split\n",
        "from tensorflow.keras.preprocessing.sequence import TimeseriesGenerator\n",
        "%matplotlib inline\n",
        "!pip install pmdarima\n",
        "from pmdarima import auto_arima   \n",
        "from statsmodels.tools.eval_measures import rmse\n",
        "from tensorflow.keras import backend\n",
        " \n",
        "matplotlib.rcParams['axes.labelsize'] = 14\n",
        "matplotlib.rcParams['xtick.labelsize'] = 12\n",
        "matplotlib.rcParams['ytick.labelsize'] = 12\n",
        "matplotlib.rcParams['text.color'] = 'k'"
      ],
      "execution_count": null,
      "outputs": [
        {
          "output_type": "stream",
          "text": [
            "Requirement already satisfied: pmdarima in /usr/local/lib/python3.6/dist-packages (1.6.1)\n",
            "Requirement already satisfied: Cython<0.29.18,>=0.29 in /usr/local/lib/python3.6/dist-packages (from pmdarima) (0.29.17)\n",
            "Requirement already satisfied: joblib>=0.11 in /usr/local/lib/python3.6/dist-packages (from pmdarima) (0.15.1)\n",
            "Requirement already satisfied: scipy>=1.3.2 in /usr/local/lib/python3.6/dist-packages (from pmdarima) (1.4.1)\n",
            "Requirement already satisfied: numpy>=1.17.3 in /usr/local/lib/python3.6/dist-packages (from pmdarima) (1.18.5)\n",
            "Requirement already satisfied: urllib3 in /usr/local/lib/python3.6/dist-packages (from pmdarima) (1.24.3)\n",
            "Requirement already satisfied: scikit-learn>=0.22 in /usr/local/lib/python3.6/dist-packages (from pmdarima) (0.22.2.post1)\n",
            "Requirement already satisfied: pandas>=0.19 in /usr/local/lib/python3.6/dist-packages (from pmdarima) (1.0.4)\n",
            "Requirement already satisfied: statsmodels>=0.11 in /usr/local/lib/python3.6/dist-packages (from pmdarima) (0.11.1)\n",
            "Requirement already satisfied: python-dateutil>=2.6.1 in /usr/local/lib/python3.6/dist-packages (from pandas>=0.19->pmdarima) (2.8.1)\n",
            "Requirement already satisfied: pytz>=2017.2 in /usr/local/lib/python3.6/dist-packages (from pandas>=0.19->pmdarima) (2018.9)\n",
            "Requirement already satisfied: patsy>=0.5 in /usr/local/lib/python3.6/dist-packages (from statsmodels>=0.11->pmdarima) (0.5.1)\n",
            "Requirement already satisfied: six>=1.5 in /usr/local/lib/python3.6/dist-packages (from python-dateutil>=2.6.1->pandas>=0.19->pmdarima) (1.12.0)\n"
          ],
          "name": "stdout"
        }
      ]
    },
    {
      "cell_type": "code",
      "metadata": {
        "id": "1kJ-j0ifM1zR",
        "colab_type": "code",
        "colab": {}
      },
      "source": [
        "# Load the integrated dataset.\n",
        "df = pd.read_excel('/content/drive/My Drive/datasets/data_practicum/integration_1_CW.xlsx', sheet_name='pred7')"
      ],
      "execution_count": null,
      "outputs": []
    },
    {
      "cell_type": "code",
      "metadata": {
        "id": "VlW_1gU8rdhe",
        "colab_type": "code",
        "colab": {
          "base_uri": "https://localhost:8080/",
          "height": 291
        },
        "outputId": "23646758-6bf2-4e71-f710-925d87b41a40"
      },
      "source": [
        "# Display the dataframe head.\n",
        "df.head()"
      ],
      "execution_count": null,
      "outputs": [
        {
          "output_type": "execute_result",
          "data": {
            "text/html": [
              "<div>\n",
              "<style scoped>\n",
              "    .dataframe tbody tr th:only-of-type {\n",
              "        vertical-align: middle;\n",
              "    }\n",
              "\n",
              "    .dataframe tbody tr th {\n",
              "        vertical-align: top;\n",
              "    }\n",
              "\n",
              "    .dataframe thead th {\n",
              "        text-align: right;\n",
              "    }\n",
              "</style>\n",
              "<table border=\"1\" class=\"dataframe\">\n",
              "  <thead>\n",
              "    <tr style=\"text-align: right;\">\n",
              "      <th></th>\n",
              "      <th>Years</th>\n",
              "      <th>Total_emissions_wforecast</th>\n",
              "      <th>Total_emissions_wforecast_aleviated_emissions</th>\n",
              "      <th>Solar_kWh_generation_residential</th>\n",
              "      <th>Solar_kWh_generation_residential_incentives</th>\n",
              "      <th>Total energy consumed by the residential sector</th>\n",
              "      <th>electric_cost</th>\n",
              "      <th>est_installed_cost_$/W</th>\n",
              "      <th>state_level_gdp</th>\n",
              "      <th>est_annual_installed_capacity</th>\n",
              "      <th>est_annual_install_cap_after_incentives</th>\n",
              "      <th>est_cumul_installed_capacity</th>\n",
              "      <th>est_cumul_installed_capacity_after_incentives</th>\n",
              "      <th>cumul_est_roofs</th>\n",
              "      <th>cumul_est_roofs_after_incentives</th>\n",
              "      <th>est_pct_chng</th>\n",
              "      <th>est_pct_chng_after_incentives</th>\n",
              "      <th>adoption_rates</th>\n",
              "      <th>adoption_rates_incentives</th>\n",
              "    </tr>\n",
              "  </thead>\n",
              "  <tbody>\n",
              "    <tr>\n",
              "      <th>0</th>\n",
              "      <td>2010</td>\n",
              "      <td>7900000.0</td>\n",
              "      <td>7900000.0</td>\n",
              "      <td>49000000.0</td>\n",
              "      <td>49000000.0</td>\n",
              "      <td>352315000000000</td>\n",
              "      <td>32.35</td>\n",
              "      <td>7.34</td>\n",
              "      <td>2.551405e+11</td>\n",
              "      <td>18.65</td>\n",
              "      <td>18.65</td>\n",
              "      <td>18.65</td>\n",
              "      <td>18.65</td>\n",
              "      <td>3390.909091</td>\n",
              "      <td>3390.909091</td>\n",
              "      <td>0.000000</td>\n",
              "      <td>0.000000</td>\n",
              "      <td>0.000000</td>\n",
              "      <td>0.000000</td>\n",
              "    </tr>\n",
              "    <tr>\n",
              "      <th>1</th>\n",
              "      <td>2011</td>\n",
              "      <td>7900000.0</td>\n",
              "      <td>7900000.0</td>\n",
              "      <td>65000000.0</td>\n",
              "      <td>65000000.0</td>\n",
              "      <td>354262000000000</td>\n",
              "      <td>33.02</td>\n",
              "      <td>6.44</td>\n",
              "      <td>2.644316e+11</td>\n",
              "      <td>13.80</td>\n",
              "      <td>13.80</td>\n",
              "      <td>32.45</td>\n",
              "      <td>32.45</td>\n",
              "      <td>5900.000000</td>\n",
              "      <td>5900.000000</td>\n",
              "      <td>0.739946</td>\n",
              "      <td>0.739946</td>\n",
              "      <td>0.002509</td>\n",
              "      <td>0.002509</td>\n",
              "    </tr>\n",
              "    <tr>\n",
              "      <th>2</th>\n",
              "      <td>2012</td>\n",
              "      <td>7100000.0</td>\n",
              "      <td>7100000.0</td>\n",
              "      <td>88000000.0</td>\n",
              "      <td>88000000.0</td>\n",
              "      <td>334949000000000</td>\n",
              "      <td>33.58</td>\n",
              "      <td>4.55</td>\n",
              "      <td>2.735195e+11</td>\n",
              "      <td>17.70</td>\n",
              "      <td>17.70</td>\n",
              "      <td>50.15</td>\n",
              "      <td>50.15</td>\n",
              "      <td>9118.181818</td>\n",
              "      <td>9118.181818</td>\n",
              "      <td>0.545455</td>\n",
              "      <td>0.545455</td>\n",
              "      <td>0.003218</td>\n",
              "      <td>0.003218</td>\n",
              "    </tr>\n",
              "    <tr>\n",
              "      <th>3</th>\n",
              "      <td>2013</td>\n",
              "      <td>8200000.0</td>\n",
              "      <td>8200000.0</td>\n",
              "      <td>124000000.0</td>\n",
              "      <td>124000000.0</td>\n",
              "      <td>363368000000000</td>\n",
              "      <td>34.96</td>\n",
              "      <td>3.97</td>\n",
              "      <td>2.883052e+11</td>\n",
              "      <td>28.20</td>\n",
              "      <td>28.20</td>\n",
              "      <td>78.35</td>\n",
              "      <td>78.35</td>\n",
              "      <td>14245.454550</td>\n",
              "      <td>14245.454550</td>\n",
              "      <td>0.562313</td>\n",
              "      <td>0.562313</td>\n",
              "      <td>0.005127</td>\n",
              "      <td>0.005127</td>\n",
              "    </tr>\n",
              "    <tr>\n",
              "      <th>4</th>\n",
              "      <td>2014</td>\n",
              "      <td>8100000.0</td>\n",
              "      <td>8100000.0</td>\n",
              "      <td>177000000.0</td>\n",
              "      <td>177000000.0</td>\n",
              "      <td>353334000000000</td>\n",
              "      <td>35.70</td>\n",
              "      <td>3.49</td>\n",
              "      <td>3.065711e+11</td>\n",
              "      <td>41.80</td>\n",
              "      <td>41.80</td>\n",
              "      <td>120.15</td>\n",
              "      <td>120.15</td>\n",
              "      <td>21845.454550</td>\n",
              "      <td>21845.454550</td>\n",
              "      <td>0.533504</td>\n",
              "      <td>0.533504</td>\n",
              "      <td>0.007600</td>\n",
              "      <td>0.007600</td>\n",
              "    </tr>\n",
              "  </tbody>\n",
              "</table>\n",
              "</div>"
            ],
            "text/plain": [
              "   Years  Total_emissions_wforecast  ...  adoption_rates  adoption_rates_incentives\n",
              "0   2010                  7900000.0  ...        0.000000                   0.000000\n",
              "1   2011                  7900000.0  ...        0.002509                   0.002509\n",
              "2   2012                  7100000.0  ...        0.003218                   0.003218\n",
              "3   2013                  8200000.0  ...        0.005127                   0.005127\n",
              "4   2014                  8100000.0  ...        0.007600                   0.007600\n",
              "\n",
              "[5 rows x 19 columns]"
            ]
          },
          "metadata": {
            "tags": []
          },
          "execution_count": 3
        }
      ]
    },
    {
      "cell_type": "markdown",
      "metadata": {
        "id": "yKHedFB7El1T",
        "colab_type": "text"
      },
      "source": [
        "# Starting With Adoption Rates\n"
      ]
    },
    {
      "cell_type": "markdown",
      "metadata": {
        "id": "E__C1W9yEvyF",
        "colab_type": "text"
      },
      "source": [
        "**Linear Regression**"
      ]
    },
    {
      "cell_type": "code",
      "metadata": {
        "id": "BiBkIUS3GSRg",
        "colab_type": "code",
        "colab": {}
      },
      "source": [
        "# Set the dataframe index to Years.\n",
        "df = df.set_index(['Years'])\n",
        "\n",
        "\"\"\"\n",
        "Select only the Solar_kWh_generation_residential, and electric_cost as predictor\n",
        "features and adoption_rates as the target feature. Split the dataset into an\n",
        "80/20 split.\n",
        "\"\"\"\n",
        "X = df[['Solar_kWh_generation_residential','electric_cost']]\n",
        "Y = df['adoption_rates']\n",
        "X_train, X_test, Y_train, Y_test = train_test_split(X, Y, test_size=0.2, random_state= 0, shuffle=False)"
      ],
      "execution_count": null,
      "outputs": []
    },
    {
      "cell_type": "code",
      "metadata": {
        "id": "F-NNs2s0HFiR",
        "colab_type": "code",
        "colab": {
          "base_uri": "https://localhost:8080/",
          "height": 35
        },
        "outputId": "68eb7dc8-e217-44f4-9fb8-a926365ecbe4"
      },
      "source": [
        "# Define linear regression and fit the training data.\n",
        "model = linear_model.LinearRegression()\n",
        "model.fit(X_train, Y_train)"
      ],
      "execution_count": null,
      "outputs": [
        {
          "output_type": "execute_result",
          "data": {
            "text/plain": [
              "LinearRegression(copy_X=True, fit_intercept=True, n_jobs=None, normalize=False)"
            ]
          },
          "metadata": {
            "tags": []
          },
          "execution_count": 5
        }
      ]
    },
    {
      "cell_type": "code",
      "metadata": {
        "id": "w6s5RUS1LWeR",
        "colab_type": "code",
        "colab": {
          "base_uri": "https://localhost:8080/",
          "height": 72
        },
        "outputId": "f6ef5216-bd2a-440f-93b5-b95e6e94eafa"
      },
      "source": [
        "# Get the coefficients of the predictor features.\n",
        "coeff_df = pd.DataFrame(model.coef_, X.columns, columns=['Coefficient'])\n",
        "print(coeff_df)"
      ],
      "execution_count": null,
      "outputs": [
        {
          "output_type": "stream",
          "text": [
            "                                   Coefficient\n",
            "Solar_kWh_generation_residential  2.845934e-11\n",
            "electric_cost                     4.850685e-04\n"
          ],
          "name": "stdout"
        }
      ]
    },
    {
      "cell_type": "code",
      "metadata": {
        "id": "vIhdd1l1LcXn",
        "colab_type": "code",
        "colab": {}
      },
      "source": [
        "# Predict the target feature with the predicting testing features.\n",
        "y_pred = model.predict(X_test)"
      ],
      "execution_count": null,
      "outputs": []
    },
    {
      "cell_type": "code",
      "metadata": {
        "id": "OtMAJW5HLfcg",
        "colab_type": "code",
        "colab": {
          "base_uri": "https://localhost:8080/",
          "height": 127
        },
        "outputId": "627f766f-9380-44ff-d963-bc8736d20ce2"
      },
      "source": [
        "# Display the actual vs the predicted.\n",
        "df_linear = pd.DataFrame({'Actual': Y_test, 'Predicted': y_pred})\n",
        "print(df_linear.head(10))"
      ],
      "execution_count": null,
      "outputs": [
        {
          "output_type": "stream",
          "text": [
            "         Actual  Predicted\n",
            "Years                     \n",
            "2022   0.012698   0.015702\n",
            "2023   0.013586   0.016925\n",
            "2024   0.015624   0.018148\n",
            "2025   0.019208   0.019371\n"
          ],
          "name": "stdout"
        }
      ]
    },
    {
      "cell_type": "code",
      "metadata": {
        "id": "9te4ctWRSLnq",
        "colab_type": "code",
        "colab": {
          "base_uri": "https://localhost:8080/",
          "height": 202
        },
        "outputId": "91a7de01-44d8-4594-ae99-565cc0203869"
      },
      "source": [
        "# Display the dataframe head.\n",
        "df_linear.head()"
      ],
      "execution_count": null,
      "outputs": [
        {
          "output_type": "execute_result",
          "data": {
            "text/html": [
              "<div>\n",
              "<style scoped>\n",
              "    .dataframe tbody tr th:only-of-type {\n",
              "        vertical-align: middle;\n",
              "    }\n",
              "\n",
              "    .dataframe tbody tr th {\n",
              "        vertical-align: top;\n",
              "    }\n",
              "\n",
              "    .dataframe thead th {\n",
              "        text-align: right;\n",
              "    }\n",
              "</style>\n",
              "<table border=\"1\" class=\"dataframe\">\n",
              "  <thead>\n",
              "    <tr style=\"text-align: right;\">\n",
              "      <th></th>\n",
              "      <th>Actual</th>\n",
              "      <th>Predicted</th>\n",
              "    </tr>\n",
              "    <tr>\n",
              "      <th>Years</th>\n",
              "      <th></th>\n",
              "      <th></th>\n",
              "    </tr>\n",
              "  </thead>\n",
              "  <tbody>\n",
              "    <tr>\n",
              "      <th>2022</th>\n",
              "      <td>0.012698</td>\n",
              "      <td>0.015702</td>\n",
              "    </tr>\n",
              "    <tr>\n",
              "      <th>2023</th>\n",
              "      <td>0.013586</td>\n",
              "      <td>0.016925</td>\n",
              "    </tr>\n",
              "    <tr>\n",
              "      <th>2024</th>\n",
              "      <td>0.015624</td>\n",
              "      <td>0.018148</td>\n",
              "    </tr>\n",
              "    <tr>\n",
              "      <th>2025</th>\n",
              "      <td>0.019208</td>\n",
              "      <td>0.019371</td>\n",
              "    </tr>\n",
              "  </tbody>\n",
              "</table>\n",
              "</div>"
            ],
            "text/plain": [
              "         Actual  Predicted\n",
              "Years                     \n",
              "2022   0.012698   0.015702\n",
              "2023   0.013586   0.016925\n",
              "2024   0.015624   0.018148\n",
              "2025   0.019208   0.019371"
            ]
          },
          "metadata": {
            "tags": []
          },
          "execution_count": 9
        }
      ]
    },
    {
      "cell_type": "code",
      "metadata": {
        "id": "FwbJ6PZ8Llc4",
        "colab_type": "code",
        "colab": {
          "base_uri": "https://localhost:8080/",
          "height": 518
        },
        "outputId": "226b75cd-e87d-4b27-c02e-d40714d0f04e"
      },
      "source": [
        "# Plot a bar graph to visually display the actual vs the predicted.\n",
        "df_linear.plot(kind='bar',figsize=(10,8))\n",
        "plt.grid(which='major', linestyle='-', linewidth='0.5', color='green')\n",
        "plt.grid(which='minor', linestyle=':', linewidth='0.5', color='black')\n",
        "plt.show()"
      ],
      "execution_count": null,
      "outputs": [
        {
          "output_type": "display_data",
          "data": {
            "image/png": "[encoded data removed]",
            "text/plain": [
              "<Figure size 720x576 with 1 Axes>"
            ]
          },
          "metadata": {
            "tags": [],
            "needs_background": "light"
          }
        }
      ]
    },
    {
      "cell_type": "code",
      "metadata": {
        "id": "AXcO8-wIUnJO",
        "colab_type": "code",
        "colab": {
          "base_uri": "https://localhost:8080/",
          "height": 338
        },
        "outputId": "4b830fad-cfda-4510-ac2a-c3e7f9e6e26e"
      },
      "source": [
        "# Plot a bar line to visually display the actual vs the predicted.\n",
        "df['adoption_rates'].plot(figsize = (16,5), legend=True)\n",
        "df_linear['Predicted'].plot(legend = True);"
      ],
      "execution_count": null,
      "outputs": [
        {
          "output_type": "display_data",
          "data": {
            "image/png": "[encoded data removed]",
            "text/plain": [
              "<Figure size 1152x360 with 1 Axes>"
            ]
          },
          "metadata": {
            "tags": [],
            "needs_background": "light"
          }
        }
      ]
    },
    {
      "cell_type": "code",
      "metadata": {
        "id": "2oYFuBgrLw8a",
        "colab_type": "code",
        "colab": {
          "base_uri": "https://localhost:8080/",
          "height": 108
        },
        "outputId": "e5babb3a-5ace-4251-80c0-e00d41873763"
      },
      "source": [
        "# Get the model evaluation metrics and print them.\n",
        "linear_mean_value = df['adoption_rates'].mean()     \n",
        "linear_mse = mean_squared_error(Y_test, y_pred)\n",
        "linear_rsme = np.sqrt(mean_squared_error(Y_test, y_pred))\n",
        "linear_r2_value = r2_score(Y_test, y_pred)    \n",
        "linear_mae = mean_absolute_error(Y_test, y_pred)\n",
        "\n",
        "\n",
        "print('Mean Absolute Error:', linear_mae)  \n",
        "print('Mean Squared Error:', linear_mse)  \n",
        "print('Root Mean Squared Error:', linear_rsme)\n",
        "print(\"Mean Value: \", linear_mean_value)\n",
        "print(\"R^2 Value: \", linear_r2_value)"
      ],
      "execution_count": null,
      "outputs": [
        {
          "output_type": "stream",
          "text": [
            "Mean Absolute Error: 0.0022575161351781987\n",
            "Mean Squared Error: 6.642303952692676e-06\n",
            "Root Mean Squared Error: 0.002577266760095407\n",
            "Mean Value:  0.009634323404375\n",
            "R^2 Value:  -0.0592412285646402\n"
          ],
          "name": "stdout"
        }
      ]
    },
    {
      "cell_type": "markdown",
      "metadata": {
        "id": "8b4N-nHqI0My",
        "colab_type": "text"
      },
      "source": [
        "**Auto Regressive Integrated Moving Average**"
      ]
    },
    {
      "cell_type": "code",
      "metadata": {
        "id": "7YnBI8QRBCKQ",
        "colab_type": "code",
        "colab": {}
      },
      "source": [
        "\"\"\"\n",
        "Load the integrated dataset into a new dataframe with only just the years and\n",
        "the target feature.\n",
        "\"\"\"\n",
        "lstm_for_df = pd.read_excel('/content/drive/My Drive/datasets/data_practicum/integration_1_CW.xlsx', sheet_name='pred7')\n",
        "lstm_for_df = lstm_for_df[['Years','adoption_rates']]"
      ],
      "execution_count": null,
      "outputs": []
    },
    {
      "cell_type": "code",
      "metadata": {
        "id": "4sx43RfT1cXG",
        "colab_type": "code",
        "colab": {}
      },
      "source": [
        "# Convert the Dtype Years to datetime.\n",
        "lstm_for_df.Years = pd.to_datetime(lstm_for_df.Years,format='%Y')"
      ],
      "execution_count": null,
      "outputs": []
    },
    {
      "cell_type": "code",
      "metadata": {
        "id": "3oSQ0fTZ1nMj",
        "colab_type": "code",
        "colab": {
          "base_uri": "https://localhost:8080/",
          "height": 233
        },
        "outputId": "3d437a44-d857-4d7d-c854-9d1ebad80ab2"
      },
      "source": [
        "# Set the index to Years.\n",
        "lstm_for_df = lstm_for_df.set_index(\"Years\")\n",
        "lstm_for_df.head()"
      ],
      "execution_count": null,
      "outputs": [
        {
          "output_type": "execute_result",
          "data": {
            "text/html": [
              "<div>\n",
              "<style scoped>\n",
              "    .dataframe tbody tr th:only-of-type {\n",
              "        vertical-align: middle;\n",
              "    }\n",
              "\n",
              "    .dataframe tbody tr th {\n",
              "        vertical-align: top;\n",
              "    }\n",
              "\n",
              "    .dataframe thead th {\n",
              "        text-align: right;\n",
              "    }\n",
              "</style>\n",
              "<table border=\"1\" class=\"dataframe\">\n",
              "  <thead>\n",
              "    <tr style=\"text-align: right;\">\n",
              "      <th></th>\n",
              "      <th>adoption_rates</th>\n",
              "    </tr>\n",
              "    <tr>\n",
              "      <th>Years</th>\n",
              "      <th></th>\n",
              "    </tr>\n",
              "  </thead>\n",
              "  <tbody>\n",
              "    <tr>\n",
              "      <th>2010-01-01</th>\n",
              "      <td>0.000000</td>\n",
              "    </tr>\n",
              "    <tr>\n",
              "      <th>2011-01-01</th>\n",
              "      <td>0.002509</td>\n",
              "    </tr>\n",
              "    <tr>\n",
              "      <th>2012-01-01</th>\n",
              "      <td>0.003218</td>\n",
              "    </tr>\n",
              "    <tr>\n",
              "      <th>2013-01-01</th>\n",
              "      <td>0.005127</td>\n",
              "    </tr>\n",
              "    <tr>\n",
              "      <th>2014-01-01</th>\n",
              "      <td>0.007600</td>\n",
              "    </tr>\n",
              "  </tbody>\n",
              "</table>\n",
              "</div>"
            ],
            "text/plain": [
              "            adoption_rates\n",
              "Years                     \n",
              "2010-01-01        0.000000\n",
              "2011-01-01        0.002509\n",
              "2012-01-01        0.003218\n",
              "2013-01-01        0.005127\n",
              "2014-01-01        0.007600"
            ]
          },
          "metadata": {
            "tags": []
          },
          "execution_count": 15
        }
      ]
    },
    {
      "cell_type": "code",
      "metadata": {
        "id": "zIWO_p-k3ZpE",
        "colab_type": "code",
        "colab": {}
      },
      "source": [
        "# Split the data into training and testing 80/20.\n",
        "train_data = lstm_for_df[:len(lstm_for_df)-4]\n",
        "test_data = lstm_for_df[len(lstm_for_df)-4:]"
      ],
      "execution_count": null,
      "outputs": []
    },
    {
      "cell_type": "code",
      "metadata": {
        "id": "l4U67nS58SgO",
        "colab_type": "code",
        "colab": {
          "base_uri": "https://localhost:8080/",
          "height": 398
        },
        "outputId": "b2b9df34-61b3-47e9-cdb8-333fb9c62081"
      },
      "source": [
        "# Define the ARIMA model with the dataframe and an ord of 0,1,1.\n",
        "arima_mod = ARIMA(lstm_for_df,order=(0,1,1))\n",
        "\n",
        "# Fit the data and display the summary.\n",
        "arima_result = arima_mod.fit()\n",
        "arima_result.summary()"
      ],
      "execution_count": null,
      "outputs": [
        {
          "output_type": "stream",
          "text": [
            "/usr/local/lib/python3.6/dist-packages/statsmodels/tsa/base/tsa_model.py:162: ValueWarning: No frequency information was provided, so inferred frequency AS-JAN will be used.\n",
            "  % freq, ValueWarning)\n",
            "/usr/local/lib/python3.6/dist-packages/statsmodels/tsa/base/tsa_model.py:162: ValueWarning: No frequency information was provided, so inferred frequency AS-JAN will be used.\n",
            "  % freq, ValueWarning)\n"
          ],
          "name": "stderr"
        },
        {
          "output_type": "execute_result",
          "data": {
            "text/html": [
              "<table class=\"simpletable\">\n",
              "<caption>ARIMA Model Results</caption>\n",
              "<tr>\n",
              "  <th>Dep. Variable:</th> <td>D.adoption_rates</td> <th>  No. Observations:  </th>    <td>15</td>   \n",
              "</tr>\n",
              "<tr>\n",
              "  <th>Model:</th>          <td>ARIMA(0, 1, 1)</td>  <th>  Log Likelihood     </th>  <td>76.894</td> \n",
              "</tr>\n",
              "<tr>\n",
              "  <th>Method:</th>             <td>css-mle</td>     <th>  S.D. of innovations</th>   <td>0.001</td> \n",
              "</tr>\n",
              "<tr>\n",
              "  <th>Date:</th>          <td>Mon, 22 Jun 2020</td> <th>  AIC                </th> <td>-147.787</td>\n",
              "</tr>\n",
              "<tr>\n",
              "  <th>Time:</th>              <td>01:25:54</td>     <th>  BIC                </th> <td>-145.663</td>\n",
              "</tr>\n",
              "<tr>\n",
              "  <th>Sample:</th>           <td>01-01-2011</td>    <th>  HQIC               </th> <td>-147.810</td>\n",
              "</tr>\n",
              "<tr>\n",
              "  <th></th>                 <td>- 01-01-2025</td>   <th>                     </th>     <td> </td>   \n",
              "</tr>\n",
              "</table>\n",
              "<table class=\"simpletable\">\n",
              "<tr>\n",
              "             <td></td>               <th>coef</th>     <th>std err</th>      <th>z</th>      <th>P>|z|</th>  <th>[0.025</th>    <th>0.975]</th>  \n",
              "</tr>\n",
              "<tr>\n",
              "  <th>const</th>                  <td>    0.0011</td> <td> 7.11e-05</td> <td>   15.247</td> <td> 0.000</td> <td>    0.001</td> <td>    0.001</td>\n",
              "</tr>\n",
              "<tr>\n",
              "  <th>ma.L1.D.adoption_rates</th> <td>   -0.9999</td> <td>    0.230</td> <td>   -4.340</td> <td> 0.000</td> <td>   -1.451</td> <td>   -0.548</td>\n",
              "</tr>\n",
              "</table>\n",
              "<table class=\"simpletable\">\n",
              "<caption>Roots</caption>\n",
              "<tr>\n",
              "    <td></td>   <th>            Real</th>  <th>         Imaginary</th> <th>         Modulus</th>  <th>        Frequency</th>\n",
              "</tr>\n",
              "<tr>\n",
              "  <th>MA.1</th> <td>           1.0001</td> <td>          +0.0000j</td> <td>           1.0001</td> <td>           0.0000</td>\n",
              "</tr>\n",
              "</table>"
            ],
            "text/plain": [
              "<class 'statsmodels.iolib.summary.Summary'>\n",
              "\"\"\"\n",
              "                             ARIMA Model Results                              \n",
              "==============================================================================\n",
              "Dep. Variable:       D.adoption_rates   No. Observations:                   15\n",
              "Model:                 ARIMA(0, 1, 1)   Log Likelihood                  76.894\n",
              "Method:                       css-mle   S.D. of innovations              0.001\n",
              "Date:                Mon, 22 Jun 2020   AIC                           -147.787\n",
              "Time:                        01:25:54   BIC                           -145.663\n",
              "Sample:                    01-01-2011   HQIC                          -147.810\n",
              "                         - 01-01-2025                                         \n",
              "==========================================================================================\n",
              "                             coef    std err          z      P>|z|      [0.025      0.975]\n",
              "------------------------------------------------------------------------------------------\n",
              "const                      0.0011   7.11e-05     15.247      0.000       0.001       0.001\n",
              "ma.L1.D.adoption_rates    -0.9999      0.230     -4.340      0.000      -1.451      -0.548\n",
              "                                    Roots                                    \n",
              "=============================================================================\n",
              "                  Real          Imaginary           Modulus         Frequency\n",
              "-----------------------------------------------------------------------------\n",
              "MA.1            1.0001           +0.0000j            1.0001            0.0000\n",
              "-----------------------------------------------------------------------------\n",
              "\"\"\""
            ]
          },
          "metadata": {
            "tags": []
          },
          "execution_count": 17
        }
      ]
    },
    {
      "cell_type": "code",
      "metadata": {
        "id": "rlbLXaPO8gUY",
        "colab_type": "code",
        "colab": {
          "base_uri": "https://localhost:8080/",
          "height": 108
        },
        "outputId": "2228aac4-64ec-4c25-bf43-b8b3bac9b06b"
      },
      "source": [
        "# Get the predicted results of the data and display the predictions.\n",
        "arima_pred = arima_result.predict(start = len(train_data), end = len(lstm_for_df)-1, typ=\"levels\").rename(\"ARIMA Predictions\")\n",
        "arima_pred"
      ],
      "execution_count": null,
      "outputs": [
        {
          "output_type": "execute_result",
          "data": {
            "text/plain": [
              "2022-01-01    0.014795\n",
              "2023-01-01    0.015717\n",
              "2024-01-01    0.016648\n",
              "2025-01-01    0.017663\n",
              "Freq: AS-JAN, Name: ARIMA Predictions, dtype: float64"
            ]
          },
          "metadata": {
            "tags": []
          },
          "execution_count": 18
        }
      ]
    },
    {
      "cell_type": "code",
      "metadata": {
        "id": "Ugxx2Yos85lT",
        "colab_type": "code",
        "colab": {
          "base_uri": "https://localhost:8080/",
          "height": 340
        },
        "outputId": "60cb4c7c-8b36-443c-f8c5-9e01dda6721c"
      },
      "source": [
        "# Plot the adotion rates and the predictions on a line graph. \n",
        "lstm_for_df['adoption_rates'].plot(figsize = (16,5), legend=True)\n",
        "arima_pred.plot(legend = True);"
      ],
      "execution_count": null,
      "outputs": [
        {
          "output_type": "display_data",
          "data": {
            "image/png": "[encoded data removed]",
            "text/plain": [
              "<Figure size 1152x360 with 1 Axes>"
            ]
          },
          "metadata": {
            "tags": [],
            "needs_background": "light"
          }
        }
      ]
    },
    {
      "cell_type": "code",
      "metadata": {
        "id": "w74qwnSg_cN_",
        "colab_type": "code",
        "colab": {
          "base_uri": "https://localhost:8080/",
          "height": 108
        },
        "outputId": "89560375-4cab-4da1-cdfc-1776e85fa7cd"
      },
      "source": [
        "# Get the evaluation metrics for the ARIMA model and print them.\n",
        "arima_rmse_error = rmse(test_data['adoption_rates'], arima_pred)\n",
        "arima_mse_error = arima_rmse_error**2\n",
        "arima_mean_value = lstm_for_df['adoption_rates'].mean()\n",
        "arima_r2_value = r2_score(test_data['adoption_rates'],arima_pred)\n",
        "arima_mae = mean_absolute_error(test_data['adoption_rates'], arima_pred)\n",
        "\n",
        " \n",
        "print(f'MSE Error: {arima_mse_error}\\nRMSE Error: {arima_rmse_error}\\nMean: {arima_mean_value}')\n",
        "print('Mean absolute error: ',arima_mae)\n",
        "print(\"R^2 Value: \", arima_r2_value)"
      ],
      "execution_count": null,
      "outputs": [
        {
          "output_type": "stream",
          "text": [
            "MSE Error: 3.092111739895624e-06\n",
            "RMSE Error: 0.0017584401439615805\n",
            "Mean: 0.009634323404375\n",
            "Mean absolute error:  0.0016988246861138093\n",
            "R^2 Value:  0.5069041914442292\n"
          ],
          "name": "stdout"
        }
      ]
    },
    {
      "cell_type": "markdown",
      "metadata": {
        "id": "MblVtTthKNsL",
        "colab_type": "text"
      },
      "source": [
        "**Long-Short Term Memory Recurrent Neural Network**"
      ]
    },
    {
      "cell_type": "code",
      "metadata": {
        "id": "ASsB3p6y5SAU",
        "colab_type": "code",
        "colab": {}
      },
      "source": [
        "# Normalize and scale the data with MinMaxScaler transformer.\n",
        "scaler = MinMaxScaler()\n",
        "scaler.fit(lstm_for_df)\n",
        "scaled_lstm_df = scaler.transform(lstm_for_df)\n",
        "\n",
        " \n",
        "scaled_train_data = scaler.transform(train_data)\n",
        "scaled_test_data = scaler.transform(test_data)"
      ],
      "execution_count": null,
      "outputs": []
    },
    {
      "cell_type": "code",
      "metadata": {
        "id": "JZW2xdvg5XZw",
        "colab_type": "code",
        "colab": {}
      },
      "source": [
        "\"\"\"\n",
        "Declare the number of inputs and features passing through the neural nework and\n",
        "define the train/test generator with the TimeSeriesGenerator.\n",
        "\"\"\"\n",
        "n_input = 11\n",
        "n_features= 1\n",
        "\n",
        "train_generator = TimeseriesGenerator(scaled_train_data, scaled_train_data, length=n_input, batch_size=1)\n",
        "test_generator = TimeseriesGenerator(scaled_test_data, scaled_test_data, length=3, batch_size=1)"
      ],
      "execution_count": null,
      "outputs": []
    },
    {
      "cell_type": "code",
      "metadata": {
        "id": "cXRKohOV5fkj",
        "colab_type": "code",
        "colab": {
          "base_uri": "https://localhost:8080/",
          "height": 237
        },
        "outputId": "6762a5c7-d042-479e-f6c3-79d1988b6fb5"
      },
      "source": [
        "\"\"\"\n",
        "Create the model with 200 neurons, activation relu, an input shape of a 2d \n",
        "tensor with the n_input and the n_features. Add an output layer of 1, and then\n",
        "compile with adam optimization algorithm, mean square error as the loss function,\n",
        "and mean absolute error as the metrics.\n",
        "\n",
        "Display the model summary.\n",
        "\"\"\"\n",
        "backend.clear_session()\n",
        "lstm_model = Sequential()\n",
        "lstm_model.add(LSTM(200, activation='relu', input_shape=(n_input, n_features)))\n",
        "lstm_model.add(Dense(1))\n",
        "lstm_model.compile(optimizer='adam', loss='mse',\n",
        "             metrics = ['mae'])\n",
        "\n",
        "lstm_model.summary()"
      ],
      "execution_count": null,
      "outputs": [
        {
          "output_type": "stream",
          "text": [
            "Model: \"sequential\"\n",
            "_________________________________________________________________\n",
            "Layer (type)                 Output Shape              Param #   \n",
            "=================================================================\n",
            "lstm (LSTM)                  (None, 200)               161600    \n",
            "_________________________________________________________________\n",
            "dense (Dense)                (None, 1)                 201       \n",
            "=================================================================\n",
            "Total params: 161,801\n",
            "Trainable params: 161,801\n",
            "Non-trainable params: 0\n",
            "_________________________________________________________________\n"
          ],
          "name": "stdout"
        }
      ]
    },
    {
      "cell_type": "code",
      "metadata": {
        "id": "1qxnf44M5jOR",
        "colab_type": "code",
        "colab": {
          "base_uri": "https://localhost:8080/",
          "height": 1000
        },
        "outputId": "8a60e0aa-a031-42c9-9a6c-c3da3dfdfccd"
      },
      "source": [
        "\"\"\"\n",
        "Define a history of the model by fitting the neural network with the train\n",
        "generator and training on 25 epochs, using the test generator as validation.\n",
        "\"\"\"\n",
        "history = lstm_model.fit_generator(train_generator,epochs=25, validation_data=test_generator)"
      ],
      "execution_count": null,
      "outputs": [
        {
          "output_type": "stream",
          "text": [
            "WARNING:tensorflow:From <ipython-input-24-8a73f61b775a>:2: Model.fit_generator (from tensorflow.python.keras.engine.training) is deprecated and will be removed in a future version.\n",
            "Instructions for updating:\n",
            "Please use Model.fit, which supports generators.\n",
            "Epoch 1/25\n",
            "1/1 [==============================] - 0s 287ms/step - loss: 0.5136 - mae: 0.7167 - val_loss: 0.9106 - val_mae: 0.9543\n",
            "Epoch 2/25\n",
            "1/1 [==============================] - 0s 48ms/step - loss: 0.4706 - mae: 0.6860 - val_loss: 0.8785 - val_mae: 0.9373\n",
            "Epoch 3/25\n",
            "1/1 [==============================] - 0s 43ms/step - loss: 0.4292 - mae: 0.6551 - val_loss: 0.8469 - val_mae: 0.9203\n",
            "Epoch 4/25\n",
            "1/1 [==============================] - 0s 45ms/step - loss: 0.3893 - mae: 0.6239 - val_loss: 0.8158 - val_mae: 0.9032\n",
            "Epoch 5/25\n",
            "1/1 [==============================] - 0s 46ms/step - loss: 0.3501 - mae: 0.5917 - val_loss: 0.7852 - val_mae: 0.8861\n",
            "Epoch 6/25\n",
            "1/1 [==============================] - 0s 44ms/step - loss: 0.3109 - mae: 0.5576 - val_loss: 0.7549 - val_mae: 0.8689\n",
            "Epoch 7/25\n",
            "1/1 [==============================] - 0s 46ms/step - loss: 0.2721 - mae: 0.5216 - val_loss: 0.7248 - val_mae: 0.8514\n",
            "Epoch 8/25\n",
            "1/1 [==============================] - 0s 43ms/step - loss: 0.2331 - mae: 0.4828 - val_loss: 0.6949 - val_mae: 0.8336\n",
            "Epoch 9/25\n",
            "1/1 [==============================] - 0s 43ms/step - loss: 0.1940 - mae: 0.4405 - val_loss: 0.6651 - val_mae: 0.8156\n",
            "Epoch 10/25\n",
            "1/1 [==============================] - 0s 43ms/step - loss: 0.1549 - mae: 0.3935 - val_loss: 0.6356 - val_mae: 0.7972\n",
            "Epoch 11/25\n",
            "1/1 [==============================] - 0s 46ms/step - loss: 0.1156 - mae: 0.3400 - val_loss: 0.6062 - val_mae: 0.7786\n",
            "Epoch 12/25\n",
            "1/1 [==============================] - 0s 45ms/step - loss: 0.0771 - mae: 0.2776 - val_loss: 0.5769 - val_mae: 0.7595\n",
            "Epoch 13/25\n",
            "1/1 [==============================] - 0s 43ms/step - loss: 0.0414 - mae: 0.2034 - val_loss: 0.5478 - val_mae: 0.7401\n",
            "Epoch 14/25\n",
            "1/1 [==============================] - 0s 52ms/step - loss: 0.0130 - mae: 0.1141 - val_loss: 0.5192 - val_mae: 0.7206\n",
            "Epoch 15/25\n",
            "1/1 [==============================] - 0s 46ms/step - loss: 5.5095e-05 - mae: 0.0074 - val_loss: 0.4927 - val_mae: 0.7019\n",
            "Epoch 16/25\n",
            "1/1 [==============================] - 0s 43ms/step - loss: 0.0125 - mae: 0.1119 - val_loss: 0.4723 - val_mae: 0.6872\n",
            "Epoch 17/25\n",
            "1/1 [==============================] - 0s 43ms/step - loss: 0.0434 - mae: 0.2082 - val_loss: 0.4613 - val_mae: 0.6792\n",
            "Epoch 18/25\n",
            "1/1 [==============================] - 0s 43ms/step - loss: 0.0600 - mae: 0.2449 - val_loss: 0.4585 - val_mae: 0.6771\n",
            "Epoch 19/25\n",
            "1/1 [==============================] - 0s 44ms/step - loss: 0.0529 - mae: 0.2300 - val_loss: 0.4611 - val_mae: 0.6790\n",
            "Epoch 20/25\n",
            "1/1 [==============================] - 0s 47ms/step - loss: 0.0342 - mae: 0.1848 - val_loss: 0.4670 - val_mae: 0.6833\n",
            "Epoch 21/25\n",
            "1/1 [==============================] - 0s 45ms/step - loss: 0.0161 - mae: 0.1267 - val_loss: 0.4744 - val_mae: 0.6887\n",
            "Epoch 22/25\n",
            "1/1 [==============================] - 0s 42ms/step - loss: 0.0045 - mae: 0.0672 - val_loss: 0.4820 - val_mae: 0.6943\n",
            "Epoch 23/25\n",
            "1/1 [==============================] - 0s 45ms/step - loss: 1.6552e-04 - mae: 0.0129 - val_loss: 0.4891 - val_mae: 0.6994\n",
            "Epoch 24/25\n",
            "1/1 [==============================] - 0s 43ms/step - loss: 0.0011 - mae: 0.0329 - val_loss: 0.4950 - val_mae: 0.7036\n",
            "Epoch 25/25\n",
            "1/1 [==============================] - 0s 42ms/step - loss: 0.0047 - mae: 0.0689 - val_loss: 0.4994 - val_mae: 0.7067\n"
          ],
          "name": "stdout"
        }
      ]
    },
    {
      "cell_type": "code",
      "metadata": {
        "id": "bikQlXX_cWSs",
        "colab_type": "code",
        "colab": {}
      },
      "source": [
        "# Create a dictionary for the model history.\n",
        "history_dict = history.history\n",
        "loss_values = history_dict['loss']\n",
        "acc_values = history_dict['mae']\n",
        "val_loss = history_dict['val_loss']\n",
        "val_acc = history_dict['val_mae']\n",
        "epochs = range(1, len(history_dict['mae']) + 1)"
      ],
      "execution_count": null,
      "outputs": []
    },
    {
      "cell_type": "code",
      "metadata": {
        "id": "mT_sSI7H5nOT",
        "colab_type": "code",
        "colab": {
          "base_uri": "https://localhost:8080/",
          "height": 300
        },
        "outputId": "6e7bf256-d9e4-4911-e983-e778e5e67019"
      },
      "source": [
        "# Plot the Training vs validation loss values.\n",
        "plt.plot(epochs, loss_values, 'r', label = 'Training loss')\n",
        "plt.plot(epochs, val_loss, 'b', label = 'validation loss')\n",
        "plt.ylim(0,2)\n",
        "plt.title('Training and validation loss')\n",
        "plt.xlabel('Epochs')\n",
        "plt.ylabel('Loss')\n",
        "plt.legend()\n",
        "plt.show()"
      ],
      "execution_count": null,
      "outputs": [
        {
          "output_type": "display_data",
          "data": {
            "image/png": "[encoded data removed]",
            "text/plain": [
              "<Figure size 432x288 with 1 Axes>"
            ]
          },
          "metadata": {
            "tags": [],
            "needs_background": "light"
          }
        }
      ]
    },
    {
      "cell_type": "code",
      "metadata": {
        "id": "fL7x3-sV5uc5",
        "colab_type": "code",
        "colab": {}
      },
      "source": [
        "# Get a list of the predicted values.\n",
        "lstm_predictions_scaled = list()\n",
        "\n",
        "batch = scaled_train_data[-n_input:]\n",
        "current_batch = batch.reshape((1, n_input, n_features))\n",
        "\n",
        "for i in range(len(test_data)):   \n",
        "    lstm_pred = lstm_model.predict(current_batch)[0]\n",
        "    lstm_predictions_scaled.append(lstm_pred) \n",
        "    current_batch = np.append(current_batch[:,1:,:],[[lstm_pred]],axis=1)\n"
      ],
      "execution_count": null,
      "outputs": []
    },
    {
      "cell_type": "code",
      "metadata": {
        "id": "1cCZDbpZ5vxE",
        "colab_type": "code",
        "colab": {
          "base_uri": "https://localhost:8080/",
          "height": 90
        },
        "outputId": "e84e0306-46fb-4883-b8d4-2015822f5420"
      },
      "source": [
        "# Display the scaled predicted values.\n",
        "lstm_predictions_scaled"
      ],
      "execution_count": null,
      "outputs": [
        {
          "output_type": "execute_result",
          "data": {
            "text/plain": [
              "[array([0.7335844], dtype=float32),\n",
              " array([0.7998149], dtype=float32),\n",
              " array([0.87272334], dtype=float32),\n",
              " array([0.9453298], dtype=float32)]"
            ]
          },
          "metadata": {
            "tags": []
          },
          "execution_count": 28
        }
      ]
    },
    {
      "cell_type": "code",
      "metadata": {
        "id": "WGcWhNQS50Yb",
        "colab_type": "code",
        "colab": {}
      },
      "source": [
        "# Inverse transform the scaled predicted values.\n",
        "lstm_predictions = scaler.inverse_transform(lstm_predictions_scaled)"
      ],
      "execution_count": null,
      "outputs": []
    },
    {
      "cell_type": "code",
      "metadata": {
        "id": "nu6NSPHx51nV",
        "colab_type": "code",
        "colab": {
          "base_uri": "https://localhost:8080/",
          "height": 90
        },
        "outputId": "a094f053-b76d-4a8f-810c-979f405db58e"
      },
      "source": [
        "# Display the predicted values in normal format.\n",
        "lstm_predictions"
      ],
      "execution_count": null,
      "outputs": [
        {
          "output_type": "execute_result",
          "data": {
            "text/plain": [
              "array([[0.01409055],\n",
              "       [0.01536269],\n",
              "       [0.01676311],\n",
              "       [0.01815772]])"
            ]
          },
          "metadata": {
            "tags": []
          },
          "execution_count": 30
        }
      ]
    },
    {
      "cell_type": "code",
      "metadata": {
        "id": "Yc6oFQSz58CH",
        "colab_type": "code",
        "colab": {}
      },
      "source": [
        "# Add the predictions next to the actual values.\n",
        "test_data['LSTM_Predictions'] = lstm_predictions"
      ],
      "execution_count": null,
      "outputs": []
    },
    {
      "cell_type": "code",
      "metadata": {
        "id": "X9CMdXHE59Iu",
        "colab_type": "code",
        "colab": {
          "base_uri": "https://localhost:8080/",
          "height": 202
        },
        "outputId": "28696c76-8728-437b-cfce-cfd5f5deab9e"
      },
      "source": [
        "# Display the actual vs the lstm predictions.\n",
        "test_data"
      ],
      "execution_count": null,
      "outputs": [
        {
          "output_type": "execute_result",
          "data": {
            "text/html": [
              "<div>\n",
              "<style scoped>\n",
              "    .dataframe tbody tr th:only-of-type {\n",
              "        vertical-align: middle;\n",
              "    }\n",
              "\n",
              "    .dataframe tbody tr th {\n",
              "        vertical-align: top;\n",
              "    }\n",
              "\n",
              "    .dataframe thead th {\n",
              "        text-align: right;\n",
              "    }\n",
              "</style>\n",
              "<table border=\"1\" class=\"dataframe\">\n",
              "  <thead>\n",
              "    <tr style=\"text-align: right;\">\n",
              "      <th></th>\n",
              "      <th>adoption_rates</th>\n",
              "      <th>LSTM_Predictions</th>\n",
              "    </tr>\n",
              "    <tr>\n",
              "      <th>Years</th>\n",
              "      <th></th>\n",
              "      <th></th>\n",
              "    </tr>\n",
              "  </thead>\n",
              "  <tbody>\n",
              "    <tr>\n",
              "      <th>2022-01-01</th>\n",
              "      <td>0.012698</td>\n",
              "      <td>0.014091</td>\n",
              "    </tr>\n",
              "    <tr>\n",
              "      <th>2023-01-01</th>\n",
              "      <td>0.013586</td>\n",
              "      <td>0.015363</td>\n",
              "    </tr>\n",
              "    <tr>\n",
              "      <th>2024-01-01</th>\n",
              "      <td>0.015624</td>\n",
              "      <td>0.016763</td>\n",
              "    </tr>\n",
              "    <tr>\n",
              "      <th>2025-01-01</th>\n",
              "      <td>0.019208</td>\n",
              "      <td>0.018158</td>\n",
              "    </tr>\n",
              "  </tbody>\n",
              "</table>\n",
              "</div>"
            ],
            "text/plain": [
              "            adoption_rates  LSTM_Predictions\n",
              "Years                                       \n",
              "2022-01-01        0.012698          0.014091\n",
              "2023-01-01        0.013586          0.015363\n",
              "2024-01-01        0.015624          0.016763\n",
              "2025-01-01        0.019208          0.018158"
            ]
          },
          "metadata": {
            "tags": []
          },
          "execution_count": 32
        }
      ]
    },
    {
      "cell_type": "code",
      "metadata": {
        "id": "_pZ1-P_n6DxF",
        "colab_type": "code",
        "colab": {
          "base_uri": "https://localhost:8080/",
          "height": 340
        },
        "outputId": "cc7ee893-beeb-40fd-f558-293f66b2dc57"
      },
      "source": [
        "# Plot on a line graph the actual and the predicted values.\n",
        "lstm_for_df['adoption_rates'].plot(figsize = (16,5), legend=True)\n",
        "test_data['LSTM_Predictions'].plot(legend = True);"
      ],
      "execution_count": null,
      "outputs": [
        {
          "output_type": "display_data",
          "data": {
            "image/png": "[encoded data removed]",
            "text/plain": [
              "<Figure size 1152x360 with 1 Axes>"
            ]
          },
          "metadata": {
            "tags": [],
            "needs_background": "light"
          }
        }
      ]
    },
    {
      "cell_type": "code",
      "metadata": {
        "id": "duoqI_9-6M0X",
        "colab_type": "code",
        "colab": {
          "base_uri": "https://localhost:8080/",
          "height": 108
        },
        "outputId": "e8e75872-aecc-49b8-b30d-f05af7d4b931"
      },
      "source": [
        "# Get the evaluation metrics for the model and print them.\n",
        "lstm_rmse_error = rmse(test_data['adoption_rates'], test_data[\"LSTM_Predictions\"])\n",
        "lstm_mse_error = lstm_rmse_error**2\n",
        "lstm_mean_value = lstm_for_df['adoption_rates'].mean()\n",
        "lstm_r2_value = r2_score(test_data['adoption_rates'],test_data[\"LSTM_Predictions\"])\n",
        "lstm_mae = mean_absolute_error(test_data['adoption_rates'],test_data[\"LSTM_Predictions\"])\n",
        "\n",
        "print(f'MSE Error: {lstm_mse_error}\\nRMSE Error: {lstm_rmse_error}\\nMean: {lstm_mean_value}')\n",
        "print('Mean absolute error: ', lstm_mae)\n",
        "print(\"R^2 Value: \", lstm_r2_value)"
      ],
      "execution_count": null,
      "outputs": [
        {
          "output_type": "stream",
          "text": [
            "MSE Error: 1.8736872707858614e-06\n",
            "RMSE Error: 0.0013688269688992328\n",
            "Mean: 0.009634323404375\n",
            "Mean absolute error:  0.0013395018365797108\n",
            "R^2 Value:  0.7012050606554092\n"
          ],
          "name": "stdout"
        }
      ]
    },
    {
      "cell_type": "code",
      "metadata": {
        "id": "tRrPtUiHRPsI",
        "colab_type": "code",
        "colab": {}
      },
      "source": [
        "# Create a dataframe for all three adoption rate predictions.\n",
        "df_results = pd.DataFrame(test_data)"
      ],
      "execution_count": null,
      "outputs": []
    },
    {
      "cell_type": "code",
      "metadata": {
        "id": "N4pGAKRNRWSb",
        "colab_type": "code",
        "colab": {}
      },
      "source": [
        "# Add the linear and the ARIMA predictions.\n",
        "df_results['Linear_Predictions'] = df_linear['Predicted'].values\n",
        "df_results['ARIMA_Predictions'] = arima_pred"
      ],
      "execution_count": null,
      "outputs": []
    },
    {
      "cell_type": "code",
      "metadata": {
        "id": "cfmVsJXUSAmu",
        "colab_type": "code",
        "colab": {
          "base_uri": "https://localhost:8080/",
          "height": 202
        },
        "outputId": "970e7f70-524d-4ce1-b4e1-c3dbe9ca5751"
      },
      "source": [
        "# Display all three results side by side.\n",
        "df_results"
      ],
      "execution_count": null,
      "outputs": [
        {
          "output_type": "execute_result",
          "data": {
            "text/html": [
              "<div>\n",
              "<style scoped>\n",
              "    .dataframe tbody tr th:only-of-type {\n",
              "        vertical-align: middle;\n",
              "    }\n",
              "\n",
              "    .dataframe tbody tr th {\n",
              "        vertical-align: top;\n",
              "    }\n",
              "\n",
              "    .dataframe thead th {\n",
              "        text-align: right;\n",
              "    }\n",
              "</style>\n",
              "<table border=\"1\" class=\"dataframe\">\n",
              "  <thead>\n",
              "    <tr style=\"text-align: right;\">\n",
              "      <th></th>\n",
              "      <th>adoption_rates</th>\n",
              "      <th>LSTM_Predictions</th>\n",
              "      <th>Linear_Predictions</th>\n",
              "      <th>ARIMA_Predictions</th>\n",
              "    </tr>\n",
              "    <tr>\n",
              "      <th>Years</th>\n",
              "      <th></th>\n",
              "      <th></th>\n",
              "      <th></th>\n",
              "      <th></th>\n",
              "    </tr>\n",
              "  </thead>\n",
              "  <tbody>\n",
              "    <tr>\n",
              "      <th>2022-01-01</th>\n",
              "      <td>0.012698</td>\n",
              "      <td>0.014091</td>\n",
              "      <td>0.015702</td>\n",
              "      <td>0.014795</td>\n",
              "    </tr>\n",
              "    <tr>\n",
              "      <th>2023-01-01</th>\n",
              "      <td>0.013586</td>\n",
              "      <td>0.015363</td>\n",
              "      <td>0.016925</td>\n",
              "      <td>0.015717</td>\n",
              "    </tr>\n",
              "    <tr>\n",
              "      <th>2024-01-01</th>\n",
              "      <td>0.015624</td>\n",
              "      <td>0.016763</td>\n",
              "      <td>0.018148</td>\n",
              "      <td>0.016648</td>\n",
              "    </tr>\n",
              "    <tr>\n",
              "      <th>2025-01-01</th>\n",
              "      <td>0.019208</td>\n",
              "      <td>0.018158</td>\n",
              "      <td>0.019371</td>\n",
              "      <td>0.017663</td>\n",
              "    </tr>\n",
              "  </tbody>\n",
              "</table>\n",
              "</div>"
            ],
            "text/plain": [
              "            adoption_rates  ...  ARIMA_Predictions\n",
              "Years                       ...                   \n",
              "2022-01-01        0.012698  ...           0.014795\n",
              "2023-01-01        0.013586  ...           0.015717\n",
              "2024-01-01        0.015624  ...           0.016648\n",
              "2025-01-01        0.019208  ...           0.017663\n",
              "\n",
              "[4 rows x 4 columns]"
            ]
          },
          "metadata": {
            "tags": []
          },
          "execution_count": 37
        }
      ]
    },
    {
      "cell_type": "code",
      "metadata": {
        "id": "9WcpwEISSBlQ",
        "colab_type": "code",
        "colab": {
          "base_uri": "https://localhost:8080/",
          "height": 338
        },
        "outputId": "21e676fd-8fff-4071-c2ae-5d24c903ac78"
      },
      "source": [
        "# Plot on a line graph all three predictions with the actual values.\n",
        "lstm_for_df['adoption_rates'].plot(figsize = (16,5), legend=True)\n",
        "df_results['LSTM_Predictions'].plot(legend = True)\n",
        "df_results['ARIMA_Predictions'].plot(legend = True)\n",
        "df_results['Linear_Predictions'].plot(legend = True);"
      ],
      "execution_count": null,
      "outputs": [
        {
          "output_type": "display_data",
          "data": {
            "image/png": "[encoded data removed]",
            "text/plain": [
              "<Figure size 1152x360 with 1 Axes>"
            ]
          },
          "metadata": {
            "tags": [],
            "needs_background": "light"
          }
        }
      ]
    },
    {
      "cell_type": "markdown",
      "metadata": {
        "id": "HOeGmCehNN_e",
        "colab_type": "text"
      },
      "source": [
        "# Adoption Rates Incentives Predictions"
      ]
    },
    {
      "cell_type": "markdown",
      "metadata": {
        "id": "gEakZEpdNS1g",
        "colab_type": "text"
      },
      "source": [
        "**Linear Regression**"
      ]
    },
    {
      "cell_type": "code",
      "metadata": {
        "id": "847h4-PoLlmR",
        "colab_type": "code",
        "colab": {}
      },
      "source": [
        "# Reload the integrated dataset again.\n",
        "dfi = pd.read_excel('/content/drive/My Drive/datasets/data_practicum/integration_1_CW.xlsx', sheet_name='pred7')"
      ],
      "execution_count": null,
      "outputs": []
    },
    {
      "cell_type": "code",
      "metadata": {
        "id": "REi0ClBuLleA",
        "colab_type": "code",
        "colab": {}
      },
      "source": [
        "\"\"\"\n",
        "Set the index of the dataframe to Years and select the predictor features as \n",
        "solar_kWh_generation_residential_incentives, and electric_cost. Select the \n",
        "target feature as adoption_rates_incentives, then split the dataset into \n",
        "training/testing 80/20.\n",
        "\"\"\"\n",
        "dfi = dfi.set_index(['Years'])\n",
        "Xi = dfi[['Solar_kWh_generation_residential_incentives', 'electric_cost']]\n",
        "Yi = dfi['adoption_rates_incentives']\n",
        "X_traini, X_testi, Y_traini, Y_testi = train_test_split(Xi, Yi, test_size=0.2, random_state= 0, shuffle=False)"
      ],
      "execution_count": null,
      "outputs": []
    },
    {
      "cell_type": "code",
      "metadata": {
        "id": "c5zsUbZUL8oA",
        "colab_type": "code",
        "colab": {
          "base_uri": "https://localhost:8080/",
          "height": 35
        },
        "outputId": "3febb2a1-a07e-4c5f-ffa4-64412097a9ca"
      },
      "source": [
        "# Define the linear regression model and fit the training data.\n",
        "model = linear_model.LinearRegression()\n",
        "model.fit(X_traini, Y_traini)"
      ],
      "execution_count": null,
      "outputs": [
        {
          "output_type": "execute_result",
          "data": {
            "text/plain": [
              "LinearRegression(copy_X=True, fit_intercept=True, n_jobs=None, normalize=False)"
            ]
          },
          "metadata": {
            "tags": []
          },
          "execution_count": 41
        }
      ]
    },
    {
      "cell_type": "code",
      "metadata": {
        "id": "5ToCdeG1MDKs",
        "colab_type": "code",
        "colab": {
          "base_uri": "https://localhost:8080/",
          "height": 72
        },
        "outputId": "c8277848-a06d-4d9c-905d-acee98028b12"
      },
      "source": [
        "# Get the coefficients for the predictor features.\n",
        "coeff_dfi = pd.DataFrame(model.coef_, Xi.columns, columns=['Coefficient'])\n",
        "print(coeff_dfi)"
      ],
      "execution_count": null,
      "outputs": [
        {
          "output_type": "stream",
          "text": [
            "                                              Coefficient\n",
            "Solar_kWh_generation_residential_incentives  2.626856e-11\n",
            "electric_cost                                9.535807e-04\n"
          ],
          "name": "stdout"
        }
      ]
    },
    {
      "cell_type": "code",
      "metadata": {
        "id": "QRQqE5reMH44",
        "colab_type": "code",
        "colab": {}
      },
      "source": [
        "# Predict the target test features based on the predcitor test features.\n",
        "y_predi = model.predict(X_testi)"
      ],
      "execution_count": null,
      "outputs": []
    },
    {
      "cell_type": "code",
      "metadata": {
        "id": "PlGWtVsOMMtO",
        "colab_type": "code",
        "colab": {
          "base_uri": "https://localhost:8080/",
          "height": 127
        },
        "outputId": "fd485787-1bd4-4669-dc12-f2362da850e8"
      },
      "source": [
        "# Display the actual vs the predictions.\n",
        "df_lineari = pd.DataFrame({'Actual': Y_testi, 'Predicted': y_predi})\n",
        "print(df_lineari.head(10))"
      ],
      "execution_count": null,
      "outputs": [
        {
          "output_type": "stream",
          "text": [
            "         Actual  Predicted\n",
            "Years                     \n",
            "2022   0.021980   0.026249\n",
            "2023   0.023518   0.029428\n",
            "2024   0.027046   0.033053\n",
            "2025   0.033249   0.037461\n"
          ],
          "name": "stdout"
        }
      ]
    },
    {
      "cell_type": "code",
      "metadata": {
        "id": "twFKamX8iMsW",
        "colab_type": "code",
        "colab": {
          "base_uri": "https://localhost:8080/",
          "height": 202
        },
        "outputId": "b61733fd-dbfa-41b1-9fe0-6726a0b2b097"
      },
      "source": [
        "# Create a dataframe of the actual and predicted.\n",
        "df_lineari.head()"
      ],
      "execution_count": null,
      "outputs": [
        {
          "output_type": "execute_result",
          "data": {
            "text/html": [
              "<div>\n",
              "<style scoped>\n",
              "    .dataframe tbody tr th:only-of-type {\n",
              "        vertical-align: middle;\n",
              "    }\n",
              "\n",
              "    .dataframe tbody tr th {\n",
              "        vertical-align: top;\n",
              "    }\n",
              "\n",
              "    .dataframe thead th {\n",
              "        text-align: right;\n",
              "    }\n",
              "</style>\n",
              "<table border=\"1\" class=\"dataframe\">\n",
              "  <thead>\n",
              "    <tr style=\"text-align: right;\">\n",
              "      <th></th>\n",
              "      <th>Actual</th>\n",
              "      <th>Predicted</th>\n",
              "    </tr>\n",
              "    <tr>\n",
              "      <th>Years</th>\n",
              "      <th></th>\n",
              "      <th></th>\n",
              "    </tr>\n",
              "  </thead>\n",
              "  <tbody>\n",
              "    <tr>\n",
              "      <th>2022</th>\n",
              "      <td>0.021980</td>\n",
              "      <td>0.026249</td>\n",
              "    </tr>\n",
              "    <tr>\n",
              "      <th>2023</th>\n",
              "      <td>0.023518</td>\n",
              "      <td>0.029428</td>\n",
              "    </tr>\n",
              "    <tr>\n",
              "      <th>2024</th>\n",
              "      <td>0.027046</td>\n",
              "      <td>0.033053</td>\n",
              "    </tr>\n",
              "    <tr>\n",
              "      <th>2025</th>\n",
              "      <td>0.033249</td>\n",
              "      <td>0.037461</td>\n",
              "    </tr>\n",
              "  </tbody>\n",
              "</table>\n",
              "</div>"
            ],
            "text/plain": [
              "         Actual  Predicted\n",
              "Years                     \n",
              "2022   0.021980   0.026249\n",
              "2023   0.023518   0.029428\n",
              "2024   0.027046   0.033053\n",
              "2025   0.033249   0.037461"
            ]
          },
          "metadata": {
            "tags": []
          },
          "execution_count": 45
        }
      ]
    },
    {
      "cell_type": "code",
      "metadata": {
        "id": "RM4Ij5M3MRDL",
        "colab_type": "code",
        "colab": {
          "base_uri": "https://localhost:8080/",
          "height": 518
        },
        "outputId": "92700ea3-2927-4d09-f374-440bb7692c34"
      },
      "source": [
        "# Plot on a bar graph the actual vs the predicted.\n",
        "df_lineari.plot(kind='bar',figsize=(10,8))\n",
        "plt.grid(which='major', linestyle='-', linewidth='0.5', color='green')\n",
        "plt.grid(which='minor', linestyle=':', linewidth='0.5', color='black')\n",
        "plt.show()"
      ],
      "execution_count": null,
      "outputs": [
        {
          "output_type": "display_data",
          "data": {
            "image/png": "[encoded data removed]",
            "text/plain": [
              "<Figure size 720x576 with 1 Axes>"
            ]
          },
          "metadata": {
            "tags": [],
            "needs_background": "light"
          }
        }
      ]
    },
    {
      "cell_type": "code",
      "metadata": {
        "id": "VgmL5UWlMd_y",
        "colab_type": "code",
        "colab": {
          "base_uri": "https://localhost:8080/",
          "height": 337
        },
        "outputId": "4846ee21-a2a0-4982-83ea-6917207302bb"
      },
      "source": [
        "# Plot on a line graph the actual and the predicted values.\n",
        "dfi['adoption_rates_incentives'].plot(figsize = (16,5), legend=True)\n",
        "df_lineari['Predicted'].plot(legend = True);"
      ],
      "execution_count": null,
      "outputs": [
        {
          "output_type": "display_data",
          "data": {
            "image/png": "[encoded data removed]",
            "text/plain": [
              "<Figure size 1152x360 with 1 Axes>"
            ]
          },
          "metadata": {
            "tags": [],
            "needs_background": "light"
          }
        }
      ]
    },
    {
      "cell_type": "code",
      "metadata": {
        "id": "p6yppzn2OU4t",
        "colab_type": "code",
        "colab": {
          "base_uri": "https://localhost:8080/",
          "height": 108
        },
        "outputId": "da24fce1-707c-4a7b-9a07-dd8cf17752c8"
      },
      "source": [
        "# Get the model evaluation metrics and print them.\n",
        "linear_rmsdi = np.sqrt(mean_squared_error(Y_testi, y_predi))\n",
        "linear_mse_errori = linear_rmsdi**2\n",
        "linear_mean_valuei = dfi['adoption_rates_incentives'].mean()     \n",
        "linear_r2_valuei = r2_score(Y_testi, y_predi)\n",
        "linear_maei = mean_absolute_error(Y_testi, y_predi)\n",
        "                     \n",
        "\n",
        "\n",
        "#print(\"Intercept: \", model.intercept_)\n",
        "print(\"MSE: \", linear_mse_errori)\n",
        "print(\"Root Mean Square Error: \", linear_rmsdi)\n",
        "print(\"Mean value: \", linear_mean_valuei)\n",
        "print(\"Mean absolute error: \", linear_maei)\n",
        "print(\"R^2 Value: \", linear_r2_valuei)"
      ],
      "execution_count": null,
      "outputs": [
        {
          "output_type": "stream",
          "text": [
            "MSE:  2.6749494491856575e-05\n",
            "Root Mean Square Error:  0.005171991346846645\n",
            "Mean value:  0.013662246083125001\n",
            "Mean absolute error:  0.0051000200979392325\n",
            "R^2 Value:  -0.4236314531154728\n"
          ],
          "name": "stdout"
        }
      ]
    },
    {
      "cell_type": "markdown",
      "metadata": {
        "id": "mW7gsn_5OzhP",
        "colab_type": "text"
      },
      "source": [
        "**Auto Regressive Integrated Moving Average**"
      ]
    },
    {
      "cell_type": "code",
      "metadata": {
        "id": "LVmOO3yzRWJT",
        "colab_type": "code",
        "colab": {}
      },
      "source": [
        "\"\"\"\n",
        "Reload the integrated dataset into a new dataframe and select only the Years\n",
        "and adoption_rates_incentives for features.\n",
        "\"\"\"\n",
        "lstm_for_dfi = pd.read_excel('/content/drive/My Drive/datasets/data_practicum/integration_1_CW.xlsx', sheet_name='pred7')\n",
        "lstm_for_dfi = lstm_for_dfi[['Years','adoption_rates_incentives']]"
      ],
      "execution_count": null,
      "outputs": []
    },
    {
      "cell_type": "code",
      "metadata": {
        "id": "RQpk-n-ARks0",
        "colab_type": "code",
        "colab": {}
      },
      "source": [
        "# Conver the Years from int64 to Dtype datetime.\n",
        "lstm_for_dfi.Years = pd.to_datetime(lstm_for_dfi.Years,format='%Y')"
      ],
      "execution_count": null,
      "outputs": []
    },
    {
      "cell_type": "code",
      "metadata": {
        "id": "Old4jLteRpY9",
        "colab_type": "code",
        "colab": {
          "base_uri": "https://localhost:8080/",
          "height": 233
        },
        "outputId": "ee05b3e6-f170-4eaa-d5cf-a331a9e7db2d"
      },
      "source": [
        "# Display the dataframe\n",
        "lstm_for_dfi = lstm_for_dfi.set_index(\"Years\")\n",
        "lstm_for_dfi.head()"
      ],
      "execution_count": null,
      "outputs": [
        {
          "output_type": "execute_result",
          "data": {
            "text/html": [
              "<div>\n",
              "<style scoped>\n",
              "    .dataframe tbody tr th:only-of-type {\n",
              "        vertical-align: middle;\n",
              "    }\n",
              "\n",
              "    .dataframe tbody tr th {\n",
              "        vertical-align: top;\n",
              "    }\n",
              "\n",
              "    .dataframe thead th {\n",
              "        text-align: right;\n",
              "    }\n",
              "</style>\n",
              "<table border=\"1\" class=\"dataframe\">\n",
              "  <thead>\n",
              "    <tr style=\"text-align: right;\">\n",
              "      <th></th>\n",
              "      <th>adoption_rates_incentives</th>\n",
              "    </tr>\n",
              "    <tr>\n",
              "      <th>Years</th>\n",
              "      <th></th>\n",
              "    </tr>\n",
              "  </thead>\n",
              "  <tbody>\n",
              "    <tr>\n",
              "      <th>2010-01-01</th>\n",
              "      <td>0.000000</td>\n",
              "    </tr>\n",
              "    <tr>\n",
              "      <th>2011-01-01</th>\n",
              "      <td>0.002509</td>\n",
              "    </tr>\n",
              "    <tr>\n",
              "      <th>2012-01-01</th>\n",
              "      <td>0.003218</td>\n",
              "    </tr>\n",
              "    <tr>\n",
              "      <th>2013-01-01</th>\n",
              "      <td>0.005127</td>\n",
              "    </tr>\n",
              "    <tr>\n",
              "      <th>2014-01-01</th>\n",
              "      <td>0.007600</td>\n",
              "    </tr>\n",
              "  </tbody>\n",
              "</table>\n",
              "</div>"
            ],
            "text/plain": [
              "            adoption_rates_incentives\n",
              "Years                                \n",
              "2010-01-01                   0.000000\n",
              "2011-01-01                   0.002509\n",
              "2012-01-01                   0.003218\n",
              "2013-01-01                   0.005127\n",
              "2014-01-01                   0.007600"
            ]
          },
          "metadata": {
            "tags": []
          },
          "execution_count": 51
        }
      ]
    },
    {
      "cell_type": "code",
      "metadata": {
        "id": "PAcsmSm8RuVY",
        "colab_type": "code",
        "colab": {}
      },
      "source": [
        "# Split the data into training/testing 80/20.\n",
        "train_datai = lstm_for_dfi[:len(lstm_for_df)-4]\n",
        "test_datai = lstm_for_dfi[len(lstm_for_df)-4:]"
      ],
      "execution_count": null,
      "outputs": []
    },
    {
      "cell_type": "code",
      "metadata": {
        "id": "HyzuA-L2SEx-",
        "colab_type": "code",
        "colab": {
          "base_uri": "https://localhost:8080/",
          "height": 398
        },
        "outputId": "7cd1cffc-4e1e-4895-9d3e-cfaab583a9ed"
      },
      "source": [
        "# Define the ARIMA model with the dataset and a pdq order of 0,1,1.\n",
        "arima_modi = ARIMA(lstm_for_dfi,order=(0,1,1))\n",
        "\n",
        "# Fit the model and display the model summary.\n",
        "arima_resulti = arima_modi.fit()\n",
        "arima_resulti.summary()"
      ],
      "execution_count": null,
      "outputs": [
        {
          "output_type": "stream",
          "text": [
            "/usr/local/lib/python3.6/dist-packages/statsmodels/tsa/base/tsa_model.py:162: ValueWarning: No frequency information was provided, so inferred frequency AS-JAN will be used.\n",
            "  % freq, ValueWarning)\n",
            "/usr/local/lib/python3.6/dist-packages/statsmodels/tsa/base/tsa_model.py:162: ValueWarning: No frequency information was provided, so inferred frequency AS-JAN will be used.\n",
            "  % freq, ValueWarning)\n"
          ],
          "name": "stderr"
        },
        {
          "output_type": "execute_result",
          "data": {
            "text/html": [
              "<table class=\"simpletable\">\n",
              "<caption>ARIMA Model Results</caption>\n",
              "<tr>\n",
              "  <th>Dep. Variable:</th> <td>D.adoption_rates_incentives</td> <th>  No. Observations:  </th>    <td>15</td>   \n",
              "</tr>\n",
              "<tr>\n",
              "  <th>Model:</th>               <td>ARIMA(0, 1, 1)</td>        <th>  Log Likelihood     </th>  <td>69.127</td> \n",
              "</tr>\n",
              "<tr>\n",
              "  <th>Method:</th>                  <td>css-mle</td>           <th>  S.D. of innovations</th>   <td>0.002</td> \n",
              "</tr>\n",
              "<tr>\n",
              "  <th>Date:</th>               <td>Mon, 22 Jun 2020</td>       <th>  AIC                </th> <td>-132.254</td>\n",
              "</tr>\n",
              "<tr>\n",
              "  <th>Time:</th>                   <td>01:26:01</td>           <th>  BIC                </th> <td>-130.130</td>\n",
              "</tr>\n",
              "<tr>\n",
              "  <th>Sample:</th>                <td>01-01-2011</td>          <th>  HQIC               </th> <td>-132.277</td>\n",
              "</tr>\n",
              "<tr>\n",
              "  <th></th>                      <td>- 01-01-2025</td>         <th>                     </th>     <td> </td>   \n",
              "</tr>\n",
              "</table>\n",
              "<table class=\"simpletable\">\n",
              "<tr>\n",
              "                  <td></td>                     <th>coef</th>     <th>std err</th>      <th>z</th>      <th>P>|z|</th>  <th>[0.025</th>    <th>0.975]</th>  \n",
              "</tr>\n",
              "<tr>\n",
              "  <th>const</th>                             <td>    0.0024</td> <td>    0.001</td> <td>    2.413</td> <td> 0.016</td> <td>    0.000</td> <td>    0.004</td>\n",
              "</tr>\n",
              "<tr>\n",
              "  <th>ma.L1.D.adoption_rates_incentives</th> <td>    0.6965</td> <td>    0.231</td> <td>    3.017</td> <td> 0.003</td> <td>    0.244</td> <td>    1.149</td>\n",
              "</tr>\n",
              "</table>\n",
              "<table class=\"simpletable\">\n",
              "<caption>Roots</caption>\n",
              "<tr>\n",
              "    <td></td>   <th>            Real</th>  <th>         Imaginary</th> <th>         Modulus</th>  <th>        Frequency</th>\n",
              "</tr>\n",
              "<tr>\n",
              "  <th>MA.1</th> <td>          -1.4357</td> <td>          +0.0000j</td> <td>           1.4357</td> <td>           0.5000</td>\n",
              "</tr>\n",
              "</table>"
            ],
            "text/plain": [
              "<class 'statsmodels.iolib.summary.Summary'>\n",
              "\"\"\"\n",
              "                                  ARIMA Model Results                                  \n",
              "=======================================================================================\n",
              "Dep. Variable:     D.adoption_rates_incentives   No. Observations:                   15\n",
              "Model:                          ARIMA(0, 1, 1)   Log Likelihood                  69.127\n",
              "Method:                                css-mle   S.D. of innovations              0.002\n",
              "Date:                         Mon, 22 Jun 2020   AIC                           -132.254\n",
              "Time:                                 01:26:01   BIC                           -130.130\n",
              "Sample:                             01-01-2011   HQIC                          -132.277\n",
              "                                  - 01-01-2025                                         \n",
              "=====================================================================================================\n",
              "                                        coef    std err          z      P>|z|      [0.025      0.975]\n",
              "-----------------------------------------------------------------------------------------------------\n",
              "const                                 0.0024      0.001      2.413      0.016       0.000       0.004\n",
              "ma.L1.D.adoption_rates_incentives     0.6965      0.231      3.017      0.003       0.244       1.149\n",
              "                                    Roots                                    \n",
              "=============================================================================\n",
              "                  Real          Imaginary           Modulus         Frequency\n",
              "-----------------------------------------------------------------------------\n",
              "MA.1           -1.4357           +0.0000j            1.4357            0.5000\n",
              "-----------------------------------------------------------------------------\n",
              "\"\"\""
            ]
          },
          "metadata": {
            "tags": []
          },
          "execution_count": 53
        }
      ]
    },
    {
      "cell_type": "code",
      "metadata": {
        "id": "maujYuJ3SMFZ",
        "colab_type": "code",
        "colab": {
          "base_uri": "https://localhost:8080/",
          "height": 108
        },
        "outputId": "d9a582a4-8a5e-441a-b99c-4aa990faf901"
      },
      "source": [
        "# Predict the target testing features ant then display them.\n",
        "arima_predi = arima_resulti.predict(start = len(train_datai), end = len(lstm_for_dfi)-1, typ=\"levels\").rename(\"ARIMA Predictions\")\n",
        "arima_predi"
      ],
      "execution_count": null,
      "outputs": [
        {
          "output_type": "execute_result",
          "data": {
            "text/plain": [
              "2022-01-01    0.025755\n",
              "2023-01-01    0.021795\n",
              "2024-01-01    0.027163\n",
              "2025-01-01    0.029409\n",
              "Freq: AS-JAN, Name: ARIMA Predictions, dtype: float64"
            ]
          },
          "metadata": {
            "tags": []
          },
          "execution_count": 54
        }
      ]
    },
    {
      "cell_type": "code",
      "metadata": {
        "id": "3svZAXIJSUTz",
        "colab_type": "code",
        "colab": {
          "base_uri": "https://localhost:8080/",
          "height": 337
        },
        "outputId": "588cfe4c-ee63-4f4d-979b-c99a3ad3ef29"
      },
      "source": [
        "# Plot on a line graph the adoption rates incentives and the predictions.\n",
        "lstm_for_dfi['adoption_rates_incentives'].plot(figsize = (16,5), legend=True)\n",
        "arima_predi.plot(legend = True);"
      ],
      "execution_count": null,
      "outputs": [
        {
          "output_type": "display_data",
          "data": {
            "image/png": "[encoded data removed]",
            "text/plain": [
              "<Figure size 1152x360 with 1 Axes>"
            ]
          },
          "metadata": {
            "tags": [],
            "needs_background": "light"
          }
        }
      ]
    },
    {
      "cell_type": "code",
      "metadata": {
        "id": "mpZp7mAHTDks",
        "colab_type": "code",
        "colab": {
          "base_uri": "https://localhost:8080/",
          "height": 108
        },
        "outputId": "09600417-5a76-4365-83a6-604c1759756c"
      },
      "source": [
        "# Get the model evaluation metrics and print them.\n",
        "arima_rmse_errori = rmse(test_datai['adoption_rates_incentives'], arima_predi)\n",
        "arima_mse_errori = arima_rmse_errori**2\n",
        "arima_mean_valuei = lstm_for_dfi['adoption_rates_incentives'].mean()\n",
        "arima_r2_valuei = r2_score(test_datai['adoption_rates_incentives'],arima_predi)\n",
        "arima_maei = mean_absolute_error(test_datai['adoption_rates_incentives'],arima_predi)\n",
        "\n",
        "print(f'MSE Error: {arima_mse_errori}\\nRMSE Error: {arima_rmse_errori}\\nMean: {arima_mean_valuei}')\n",
        "print(\"Mean absolute error: \", arima_maei)\n",
        "print(\"R^2 Value: \", arima_r2_valuei)"
      ],
      "execution_count": null,
      "outputs": [
        {
          "output_type": "stream",
          "text": [
            "MSE Error: 7.995021109432833e-06\n",
            "RMSE Error: 0.0028275468359397395\n",
            "Mean: 0.013662246083125001\n",
            "Mean absolute error:  0.002363815965094858\n",
            "R^2 Value:  0.5744979957219085\n"
          ],
          "name": "stdout"
        }
      ]
    },
    {
      "cell_type": "markdown",
      "metadata": {
        "id": "1IV0zeMGP28W",
        "colab_type": "text"
      },
      "source": [
        "**Long-Short Term Memore Recurrent Neural Network**"
      ]
    },
    {
      "cell_type": "code",
      "metadata": {
        "id": "EInqOPGmUCGb",
        "colab_type": "code",
        "colab": {}
      },
      "source": [
        "# Normalize the data with MinMaxScaler transformer.\n",
        "scaleri = MinMaxScaler()\n",
        "scaleri.fit(lstm_for_dfi)\n",
        "scaled_lstm_dfi = scaleri.transform(lstm_for_dfi)\n",
        "\n",
        "\n",
        "scaled_train_datai = scaleri.transform(train_datai)\n",
        "scaled_test_datai = scaleri.transform(test_datai)"
      ],
      "execution_count": null,
      "outputs": []
    },
    {
      "cell_type": "code",
      "metadata": {
        "id": "SXdT5q7XUMH-",
        "colab_type": "code",
        "colab": {}
      },
      "source": [
        "\"\"\"\n",
        "Declare the number of inputs and features passing through the neural nework and\n",
        "define the train/test generator with the TimeSeriesGenerator.\n",
        "\"\"\"\n",
        "n_inputi = 11\n",
        "n_featuresi= 1\n",
        "\n",
        "train_generatori = TimeseriesGenerator(scaled_train_datai, scaled_train_datai, length=n_inputi, batch_size=1)\n",
        "test_generatori = TimeseriesGenerator(scaled_test_datai, scaled_test_datai, length=3, batch_size=1)"
      ],
      "execution_count": null,
      "outputs": []
    },
    {
      "cell_type": "code",
      "metadata": {
        "id": "_DKHNbq2USRH",
        "colab_type": "code",
        "colab": {
          "base_uri": "https://localhost:8080/",
          "height": 237
        },
        "outputId": "4a705c71-7a83-43e2-9a32-4a2890100e6d"
      },
      "source": [
        "\"\"\"\n",
        "Create the model with 200 neurons, activation relu, an input shape of a 2d \n",
        "tensor with the n_input and the n_features. Add an output layer of 1, and then\n",
        "compile with adam optimization algorithm, mean square error as the loss function,\n",
        "and mean absolute error as the metrics.\n",
        "\n",
        "Display the model summary.\n",
        "\"\"\"\n",
        "backend.clear_session()\n",
        "lstm_modeli = Sequential()\n",
        "lstm_modeli.add(LSTM(200, activation='relu', input_shape=(n_inputi, n_featuresi)))\n",
        "lstm_modeli.add(Dense(1))\n",
        "lstm_modeli.compile(optimizer='adam', loss='mse',\n",
        "             metrics = ['mae'])\n",
        "\n",
        "lstm_modeli.summary()"
      ],
      "execution_count": null,
      "outputs": [
        {
          "output_type": "stream",
          "text": [
            "Model: \"sequential\"\n",
            "_________________________________________________________________\n",
            "Layer (type)                 Output Shape              Param #   \n",
            "=================================================================\n",
            "lstm (LSTM)                  (None, 200)               161600    \n",
            "_________________________________________________________________\n",
            "dense (Dense)                (None, 1)                 201       \n",
            "=================================================================\n",
            "Total params: 161,801\n",
            "Trainable params: 161,801\n",
            "Non-trainable params: 0\n",
            "_________________________________________________________________\n"
          ],
          "name": "stdout"
        }
      ]
    },
    {
      "cell_type": "code",
      "metadata": {
        "id": "sQkX90I3Ugq3",
        "colab_type": "code",
        "colab": {
          "base_uri": "https://localhost:8080/",
          "height": 935
        },
        "outputId": "79963a68-31f5-4083-c889-74b7a73311e3"
      },
      "source": [
        "\"\"\"\n",
        "Define a history of the model by fitting the neural network with the train\n",
        "generator and training on 25 epochs, using the test generator as validation.\n",
        "\"\"\"\n",
        "historyi = lstm_modeli.fit_generator(train_generatori,epochs=25, validation_data=test_generatori)"
      ],
      "execution_count": null,
      "outputs": [
        {
          "output_type": "stream",
          "text": [
            "Epoch 1/25\n",
            "1/1 [==============================] - 0s 209ms/step - loss: 0.5490 - mae: 0.7410 - val_loss: 0.9513 - val_mae: 0.9754\n",
            "Epoch 2/25\n",
            "1/1 [==============================] - 0s 48ms/step - loss: 0.5225 - mae: 0.7228 - val_loss: 0.9233 - val_mae: 0.9609\n",
            "Epoch 3/25\n",
            "1/1 [==============================] - 0s 43ms/step - loss: 0.4965 - mae: 0.7046 - val_loss: 0.8961 - val_mae: 0.9466\n",
            "Epoch 4/25\n",
            "1/1 [==============================] - 0s 43ms/step - loss: 0.4711 - mae: 0.6864 - val_loss: 0.8691 - val_mae: 0.9323\n",
            "Epoch 5/25\n",
            "1/1 [==============================] - 0s 50ms/step - loss: 0.4461 - mae: 0.6679 - val_loss: 0.8425 - val_mae: 0.9179\n",
            "Epoch 6/25\n",
            "1/1 [==============================] - 0s 44ms/step - loss: 0.4208 - mae: 0.6487 - val_loss: 0.8165 - val_mae: 0.9036\n",
            "Epoch 7/25\n",
            "1/1 [==============================] - 0s 43ms/step - loss: 0.3948 - mae: 0.6283 - val_loss: 0.7906 - val_mae: 0.8892\n",
            "Epoch 8/25\n",
            "1/1 [==============================] - 0s 45ms/step - loss: 0.3678 - mae: 0.6065 - val_loss: 0.7647 - val_mae: 0.8745\n",
            "Epoch 9/25\n",
            "1/1 [==============================] - 0s 44ms/step - loss: 0.3397 - mae: 0.5828 - val_loss: 0.7388 - val_mae: 0.8596\n",
            "Epoch 10/25\n",
            "1/1 [==============================] - 0s 43ms/step - loss: 0.3101 - mae: 0.5569 - val_loss: 0.7128 - val_mae: 0.8443\n",
            "Epoch 11/25\n",
            "1/1 [==============================] - 0s 45ms/step - loss: 0.2789 - mae: 0.5281 - val_loss: 0.6867 - val_mae: 0.8286\n",
            "Epoch 12/25\n",
            "1/1 [==============================] - 0s 44ms/step - loss: 0.2459 - mae: 0.4959 - val_loss: 0.6602 - val_mae: 0.8125\n",
            "Epoch 13/25\n",
            "1/1 [==============================] - 0s 44ms/step - loss: 0.2111 - mae: 0.4594 - val_loss: 0.6335 - val_mae: 0.7959\n",
            "Epoch 14/25\n",
            "1/1 [==============================] - 0s 46ms/step - loss: 0.1743 - mae: 0.4175 - val_loss: 0.6065 - val_mae: 0.7788\n",
            "Epoch 15/25\n",
            "1/1 [==============================] - 0s 44ms/step - loss: 0.1355 - mae: 0.3681 - val_loss: 0.5792 - val_mae: 0.7610\n",
            "Epoch 16/25\n",
            "1/1 [==============================] - 0s 42ms/step - loss: 0.0955 - mae: 0.3091 - val_loss: 0.5520 - val_mae: 0.7429\n",
            "Epoch 17/25\n",
            "1/1 [==============================] - 0s 48ms/step - loss: 0.0564 - mae: 0.2375 - val_loss: 0.5245 - val_mae: 0.7242\n",
            "Epoch 18/25\n",
            "1/1 [==============================] - 0s 52ms/step - loss: 0.0226 - mae: 0.1503 - val_loss: 0.4970 - val_mae: 0.7050\n",
            "Epoch 19/25\n",
            "1/1 [==============================] - 0s 43ms/step - loss: 0.0019 - mae: 0.0436 - val_loss: 0.4706 - val_mae: 0.6860\n",
            "Epoch 20/25\n",
            "1/1 [==============================] - 0s 44ms/step - loss: 0.0068 - mae: 0.0823 - val_loss: 0.4488 - val_mae: 0.6700\n",
            "Epoch 21/25\n",
            "1/1 [==============================] - 0s 44ms/step - loss: 0.0396 - mae: 0.1990 - val_loss: 0.4363 - val_mae: 0.6605\n",
            "Epoch 22/25\n",
            "1/1 [==============================] - 0s 42ms/step - loss: 0.0645 - mae: 0.2539 - val_loss: 0.4326 - val_mae: 0.6577\n",
            "Epoch 23/25\n",
            "1/1 [==============================] - 0s 45ms/step - loss: 0.0610 - mae: 0.2470 - val_loss: 0.4348 - val_mae: 0.6594\n",
            "Epoch 24/25\n",
            "1/1 [==============================] - 0s 45ms/step - loss: 0.0411 - mae: 0.2028 - val_loss: 0.4407 - val_mae: 0.6638\n",
            "Epoch 25/25\n",
            "1/1 [==============================] - 0s 41ms/step - loss: 0.0202 - mae: 0.1423 - val_loss: 0.4482 - val_mae: 0.6695\n"
          ],
          "name": "stdout"
        }
      ]
    },
    {
      "cell_type": "code",
      "metadata": {
        "id": "edy4TjpkUrvl",
        "colab_type": "code",
        "colab": {}
      },
      "source": [
        "# Create a dictionary for the model history.\n",
        "history_dicti = historyi.history\n",
        "loss_valuesi = history_dicti['loss']\n",
        "acc_valuesi = history_dicti['mae']\n",
        "val_lossi = history_dicti['val_loss']\n",
        "val_acci = history_dicti['val_mae']\n",
        "epochsi = range(1, len(history_dicti['mae']) + 1)"
      ],
      "execution_count": null,
      "outputs": []
    },
    {
      "cell_type": "code",
      "metadata": {
        "id": "FoCOOudfU4gZ",
        "colab_type": "code",
        "colab": {
          "base_uri": "https://localhost:8080/",
          "height": 300
        },
        "outputId": "81bb080d-b61d-4e64-a91f-41145e79653d"
      },
      "source": [
        "# Plot the training and validation loss values against each other.\n",
        "plt.plot(epochsi, loss_valuesi, 'r', label = 'Training loss')\n",
        "plt.plot(epochsi, val_lossi, 'b', label = 'validation loss')\n",
        "plt.ylim(0,2)\n",
        "plt.title('Training and validation loss')\n",
        "plt.xlabel('Epochs')\n",
        "plt.ylabel('Loss')\n",
        "plt.legend()\n",
        "plt.show()"
      ],
      "execution_count": null,
      "outputs": [
        {
          "output_type": "display_data",
          "data": {
            "image/png": "[encoded data removed]",
            "text/plain": [
              "<Figure size 432x288 with 1 Axes>"
            ]
          },
          "metadata": {
            "tags": [],
            "needs_background": "light"
          }
        }
      ]
    },
    {
      "cell_type": "code",
      "metadata": {
        "id": "5eu4oHrkVLNl",
        "colab_type": "code",
        "colab": {}
      },
      "source": [
        "# Get a list of the scaled predictions.\n",
        "lstm_predictions_scaledi = list()\n",
        "\n",
        "batchi = scaled_train_datai[-n_input:]\n",
        "current_batchi = batchi.reshape((1, n_input, n_features))\n",
        "\n",
        "for i in range(len(test_data)):   \n",
        "    lstm_predi = lstm_modeli.predict(current_batchi)[0]\n",
        "    lstm_predictions_scaledi.append(lstm_predi) \n",
        "    current_batchi = np.append(current_batchi[:,1:,:],[[lstm_predi]],axis=1)"
      ],
      "execution_count": null,
      "outputs": []
    },
    {
      "cell_type": "code",
      "metadata": {
        "id": "vOfgIw18VkpS",
        "colab_type": "code",
        "colab": {
          "base_uri": "https://localhost:8080/",
          "height": 90
        },
        "outputId": "34d38cb0-32b4-496d-ca7a-e0fff5934a0f"
      },
      "source": [
        "# Display the scaled predictions\n",
        "lstm_predictions_scaledi"
      ],
      "execution_count": null,
      "outputs": [
        {
          "output_type": "execute_result",
          "data": {
            "text/plain": [
              "[array([0.94434047], dtype=float32),\n",
              " array([1.0799482], dtype=float32),\n",
              " array([1.2477168], dtype=float32),\n",
              " array([1.4496877], dtype=float32)]"
            ]
          },
          "metadata": {
            "tags": []
          },
          "execution_count": 81
        }
      ]
    },
    {
      "cell_type": "code",
      "metadata": {
        "id": "yu4Q_JzfWsfZ",
        "colab_type": "code",
        "colab": {}
      },
      "source": [
        "# Inverse transform the scaled predictions back to normal values.\n",
        "lstm_predictionsi = scaleri.inverse_transform(lstm_predictions_scaledi)"
      ],
      "execution_count": null,
      "outputs": []
    },
    {
      "cell_type": "code",
      "metadata": {
        "id": "ETz97mrzW0S_",
        "colab_type": "code",
        "colab": {
          "base_uri": "https://localhost:8080/",
          "height": 90
        },
        "outputId": "2b600ab1-213d-431c-8bf4-0f60980072b2"
      },
      "source": [
        "# Display the normal predictions.\n",
        "lstm_predictionsi"
      ],
      "execution_count": null,
      "outputs": [
        {
          "output_type": "execute_result",
          "data": {
            "text/plain": [
              "array([[0.03139812],\n",
              "       [0.0359069 ],\n",
              "       [0.04148499],\n",
              "       [0.04820027]])"
            ]
          },
          "metadata": {
            "tags": []
          },
          "execution_count": 83
        }
      ]
    },
    {
      "cell_type": "code",
      "metadata": {
        "id": "zyXVmQ09W1yr",
        "colab_type": "code",
        "colab": {}
      },
      "source": [
        "# Add the predictions to the dataframe.\n",
        "test_datai['LSTM_Predictions'] = lstm_predictionsi"
      ],
      "execution_count": null,
      "outputs": []
    },
    {
      "cell_type": "code",
      "metadata": {
        "id": "zSxinBCyW_DD",
        "colab_type": "code",
        "colab": {
          "base_uri": "https://localhost:8080/",
          "height": 202
        },
        "outputId": "a23430b7-8932-4354-c532-3a53910c3f5b"
      },
      "source": [
        "# Display the predictions in the dataframe.\n",
        "test_datai"
      ],
      "execution_count": null,
      "outputs": [
        {
          "output_type": "execute_result",
          "data": {
            "text/html": [
              "<div>\n",
              "<style scoped>\n",
              "    .dataframe tbody tr th:only-of-type {\n",
              "        vertical-align: middle;\n",
              "    }\n",
              "\n",
              "    .dataframe tbody tr th {\n",
              "        vertical-align: top;\n",
              "    }\n",
              "\n",
              "    .dataframe thead th {\n",
              "        text-align: right;\n",
              "    }\n",
              "</style>\n",
              "<table border=\"1\" class=\"dataframe\">\n",
              "  <thead>\n",
              "    <tr style=\"text-align: right;\">\n",
              "      <th></th>\n",
              "      <th>adoption_rates_incentives</th>\n",
              "      <th>LSTM_Predictions</th>\n",
              "      <th>Linear_Predictions</th>\n",
              "      <th>ARIMA_Predictions</th>\n",
              "    </tr>\n",
              "    <tr>\n",
              "      <th>Years</th>\n",
              "      <th></th>\n",
              "      <th></th>\n",
              "      <th></th>\n",
              "      <th></th>\n",
              "    </tr>\n",
              "  </thead>\n",
              "  <tbody>\n",
              "    <tr>\n",
              "      <th>2022-01-01</th>\n",
              "      <td>0.021980</td>\n",
              "      <td>0.031398</td>\n",
              "      <td>0.026249</td>\n",
              "      <td>0.025755</td>\n",
              "    </tr>\n",
              "    <tr>\n",
              "      <th>2023-01-01</th>\n",
              "      <td>0.023518</td>\n",
              "      <td>0.035907</td>\n",
              "      <td>0.029428</td>\n",
              "      <td>0.021795</td>\n",
              "    </tr>\n",
              "    <tr>\n",
              "      <th>2024-01-01</th>\n",
              "      <td>0.027046</td>\n",
              "      <td>0.041485</td>\n",
              "      <td>0.033053</td>\n",
              "      <td>0.027163</td>\n",
              "    </tr>\n",
              "    <tr>\n",
              "      <th>2025-01-01</th>\n",
              "      <td>0.033249</td>\n",
              "      <td>0.048200</td>\n",
              "      <td>0.037461</td>\n",
              "      <td>0.029409</td>\n",
              "    </tr>\n",
              "  </tbody>\n",
              "</table>\n",
              "</div>"
            ],
            "text/plain": [
              "            adoption_rates_incentives  ...  ARIMA_Predictions\n",
              "Years                                  ...                   \n",
              "2022-01-01                   0.021980  ...           0.025755\n",
              "2023-01-01                   0.023518  ...           0.021795\n",
              "2024-01-01                   0.027046  ...           0.027163\n",
              "2025-01-01                   0.033249  ...           0.029409\n",
              "\n",
              "[4 rows x 4 columns]"
            ]
          },
          "metadata": {
            "tags": []
          },
          "execution_count": 85
        }
      ]
    },
    {
      "cell_type": "code",
      "metadata": {
        "id": "6x_wUSCFXJiJ",
        "colab_type": "code",
        "colab": {
          "base_uri": "https://localhost:8080/",
          "height": 339
        },
        "outputId": "ce2c2986-9c71-4f79-c1a3-4643b53945cb"
      },
      "source": [
        "# Plot the predictions with the adoption_rates_incentives on a line graph.\n",
        "lstm_for_dfi['adoption_rates_incentives'].plot(figsize = (16,5), legend=True)\n",
        "test_datai['LSTM_Predictions'].plot(legend = True);"
      ],
      "execution_count": null,
      "outputs": [
        {
          "output_type": "display_data",
          "data": {
            "image/png": "[encoded data removed]",
            "text/plain": [
              "<Figure size 1152x360 with 1 Axes>"
            ]
          },
          "metadata": {
            "tags": [],
            "needs_background": "light"
          }
        }
      ]
    },
    {
      "cell_type": "code",
      "metadata": {
        "id": "2KzVUba_VLFJ",
        "colab_type": "code",
        "colab": {
          "base_uri": "https://localhost:8080/",
          "height": 108
        },
        "outputId": "72b8480f-ef30-4649-d53f-b7c11925e1f3"
      },
      "source": [
        "# Get the model evaluation metrics and print them.\n",
        "lstm_rmse_errori = rmse(test_datai['adoption_rates_incentives'], test_datai[\"LSTM_Predictions\"])\n",
        "lstm_mse_errori = lstm_rmse_errori**2\n",
        "lstm_mean_valuei = lstm_for_dfi['adoption_rates_incentives'].mean()\n",
        "lstm_r2_valuei = r2_score(test_datai['adoption_rates_incentives'],test_datai[\"LSTM_Predictions\"])\n",
        "lstm_maei = mean_absolute_error(test_datai['adoption_rates_incentives'],test_datai[\"LSTM_Predictions\"])\n",
        "\n",
        "print(f'MSE Error: {lstm_mse_errori}\\nRMSE Error: {lstm_rmse_errori}\\nMean: {lstm_mean_valuei}')\n",
        "print(\"Mean absolute error: \", lstm_maei)\n",
        "print(\"R^2 Value: \", lstm_r2_valuei)"
      ],
      "execution_count": null,
      "outputs": [
        {
          "output_type": "stream",
          "text": [
            "MSE Error: 0.00016855723752781803\n",
            "RMSE Error: 0.012982959505745137\n",
            "Mean: 0.013662246083125001\n",
            "Mean absolute error:  0.012799509542060302\n",
            "R^2 Value:  -7.970763356590169\n"
          ],
          "name": "stdout"
        }
      ]
    },
    {
      "cell_type": "code",
      "metadata": {
        "id": "3Tc5JfraXgCV",
        "colab_type": "code",
        "colab": {}
      },
      "source": [
        "# Create a dataframe for all three model predictions starting with the LSTM.\n",
        "df_resultsi = pd.DataFrame(test_datai)"
      ],
      "execution_count": null,
      "outputs": []
    },
    {
      "cell_type": "code",
      "metadata": {
        "id": "3QBFA-zfXn3h",
        "colab_type": "code",
        "colab": {}
      },
      "source": [
        "# Add the linear and ARIMA predictions to the dataframe.\n",
        "df_resultsi['Linear_Predictions'] = df_lineari['Predicted'].values\n",
        "df_resultsi['ARIMA_Predictions'] = arima_predi"
      ],
      "execution_count": null,
      "outputs": []
    },
    {
      "cell_type": "code",
      "metadata": {
        "id": "7OHn7JKaXrBZ",
        "colab_type": "code",
        "colab": {
          "base_uri": "https://localhost:8080/",
          "height": 202
        },
        "outputId": "f8f5e891-15c4-4b59-8e6e-bd5a396c8653"
      },
      "source": [
        "# Display the dataframe with all three predictions with the actual values.\n",
        "df_resultsi"
      ],
      "execution_count": null,
      "outputs": [
        {
          "output_type": "execute_result",
          "data": {
            "text/html": [
              "<div>\n",
              "<style scoped>\n",
              "    .dataframe tbody tr th:only-of-type {\n",
              "        vertical-align: middle;\n",
              "    }\n",
              "\n",
              "    .dataframe tbody tr th {\n",
              "        vertical-align: top;\n",
              "    }\n",
              "\n",
              "    .dataframe thead th {\n",
              "        text-align: right;\n",
              "    }\n",
              "</style>\n",
              "<table border=\"1\" class=\"dataframe\">\n",
              "  <thead>\n",
              "    <tr style=\"text-align: right;\">\n",
              "      <th></th>\n",
              "      <th>adoption_rates_incentives</th>\n",
              "      <th>LSTM_Predictions</th>\n",
              "      <th>Linear_Predictions</th>\n",
              "      <th>ARIMA_Predictions</th>\n",
              "    </tr>\n",
              "    <tr>\n",
              "      <th>Years</th>\n",
              "      <th></th>\n",
              "      <th></th>\n",
              "      <th></th>\n",
              "      <th></th>\n",
              "    </tr>\n",
              "  </thead>\n",
              "  <tbody>\n",
              "    <tr>\n",
              "      <th>2022-01-01</th>\n",
              "      <td>0.021980</td>\n",
              "      <td>0.031398</td>\n",
              "      <td>0.026249</td>\n",
              "      <td>0.025755</td>\n",
              "    </tr>\n",
              "    <tr>\n",
              "      <th>2023-01-01</th>\n",
              "      <td>0.023518</td>\n",
              "      <td>0.035907</td>\n",
              "      <td>0.029428</td>\n",
              "      <td>0.021795</td>\n",
              "    </tr>\n",
              "    <tr>\n",
              "      <th>2024-01-01</th>\n",
              "      <td>0.027046</td>\n",
              "      <td>0.041485</td>\n",
              "      <td>0.033053</td>\n",
              "      <td>0.027163</td>\n",
              "    </tr>\n",
              "    <tr>\n",
              "      <th>2025-01-01</th>\n",
              "      <td>0.033249</td>\n",
              "      <td>0.048200</td>\n",
              "      <td>0.037461</td>\n",
              "      <td>0.029409</td>\n",
              "    </tr>\n",
              "  </tbody>\n",
              "</table>\n",
              "</div>"
            ],
            "text/plain": [
              "            adoption_rates_incentives  ...  ARIMA_Predictions\n",
              "Years                                  ...                   \n",
              "2022-01-01                   0.021980  ...           0.025755\n",
              "2023-01-01                   0.023518  ...           0.021795\n",
              "2024-01-01                   0.027046  ...           0.027163\n",
              "2025-01-01                   0.033249  ...           0.029409\n",
              "\n",
              "[4 rows x 4 columns]"
            ]
          },
          "metadata": {
            "tags": []
          },
          "execution_count": 90
        }
      ]
    },
    {
      "cell_type": "code",
      "metadata": {
        "id": "6BShqgDlXw1s",
        "colab_type": "code",
        "colab": {
          "base_uri": "https://localhost:8080/",
          "height": 339
        },
        "outputId": "5a0b2583-88cd-489b-8776-dab6ca582ec5"
      },
      "source": [
        "# Plot on a line graph all three model predictions with the adoption_rates_incentives.\n",
        "lstm_for_dfi['adoption_rates_incentives'].plot(figsize = (16,5), legend=True)\n",
        "df_resultsi['LSTM_Predictions'].plot(legend = True)\n",
        "df_resultsi['ARIMA_Predictions'].plot(legend = True)\n",
        "df_resultsi['Linear_Predictions'].plot(legend = True);"
      ],
      "execution_count": null,
      "outputs": [
        {
          "output_type": "display_data",
          "data": {
            "image/png": "[encoded data removed]",
            "text/plain": [
              "<Figure size 1152x360 with 1 Axes>"
            ]
          },
          "metadata": {
            "tags": [],
            "needs_background": "light"
          }
        }
      ]
    }
  ]
}