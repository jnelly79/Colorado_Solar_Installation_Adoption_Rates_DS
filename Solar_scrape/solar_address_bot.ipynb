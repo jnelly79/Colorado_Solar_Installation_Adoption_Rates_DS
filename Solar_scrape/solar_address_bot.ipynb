{
  "nbformat": 4,
  "nbformat_minor": 0,
  "metadata": {
    "colab": {
      "name": "solar_address_bot.ipynb",
      "provenance": [],
      "collapsed_sections": [],
      "mount_file_id": "1SM4jxRNwzIofKv-sndY36T9vSY_lZ-M3",
      "authorship_tag": "ABX9TyPanmYWj+rfzbbbQxWbV6pJ",
      "include_colab_link": true
    },
    "kernelspec": {
      "name": "python3",
      "display_name": "Python 3"
    }
  },
  "cells": [
    {
      "cell_type": "markdown",
      "metadata": {
        "id": "view-in-github",
        "colab_type": "text"
      },
      "source": [
        "<a href=\"https://colab.research.google.com/github/jnelly79/Colorado_Solar_Installation_Adoption_Rates_DS/blob/master/Solar_scrape/solar_address_bot.ipynb\" target=\"_parent\"><img src=\"https://colab.research.google.com/assets/colab-badge.svg\" alt=\"Open In Colab\"/></a>"
      ]
    },
    {
      "cell_type": "markdown",
      "metadata": {
        "id": "aKKr6_T2EKJa",
        "colab_type": "text"
      },
      "source": [
        "Load necessary libraries, install chrome webdriver, and configure the driver options."
      ]
    },
    {
      "cell_type": "code",
      "metadata": {
        "id": "jUTcM1OBCqOF",
        "colab_type": "code",
        "colab": {
          "base_uri": "https://localhost:8080/",
          "height": 1000
        },
        "outputId": "ecbaebd3-78b7-44bb-b4df-e50dff89918f"
      },
      "source": [
        "# Import the necessary libraries. \n",
        "import pandas as pd\n",
        "# Install selenium. \n",
        "!pip install selenium\n",
        "from selenium import webdriver\n",
        "import time\n",
        "# Update ubuntu, and install chrome driver into desired location.\n",
        "!apt-get update \n",
        "!apt install chromium-chromedriver\n",
        "!cp /usr/lib/chromium-browser/chromedriver /usr/bin\n",
        "# Defien path for chrome driver and then configure chrome_options to work on colab.\n",
        "import sys\n",
        "sys.path.insert(0,'/usr/lib/chromium-browser/chromedriver')\n",
        "chrome_options = webdriver.ChromeOptions()\n",
        "chrome_options.add_argument('--headless')\n",
        "chrome_options.add_argument('--no-sandbox')\n",
        "chrome_options.add_argument('--disable-dev-shm-usage')"
      ],
      "execution_count": null,
      "outputs": [
        {
          "output_type": "stream",
          "text": [
            "Collecting selenium\n",
            "\u001b[?25l  Downloading https://files.pythonhosted.org/packages/80/d6/4294f0b4bce4de0abf13e17190289f9d0613b0a44e5dd6a7f5ca98459853/selenium-3.141.0-py2.py3-none-any.whl (904kB)\n",
            "\r\u001b[K     |▍                               | 10kB 18.4MB/s eta 0:00:01\r\u001b[K     |▊                               | 20kB 1.8MB/s eta 0:00:01\r\u001b[K     |█                               | 30kB 2.4MB/s eta 0:00:01\r\u001b[K     |█▌                              | 40kB 2.6MB/s eta 0:00:01\r\u001b[K     |█▉                              | 51kB 1.7MB/s eta 0:00:01\r\u001b[K     |██▏                             | 61kB 2.0MB/s eta 0:00:01\r\u001b[K     |██▌                             | 71kB 2.2MB/s eta 0:00:01\r\u001b[K     |███                             | 81kB 2.4MB/s eta 0:00:01\r\u001b[K     |███▎                            | 92kB 2.6MB/s eta 0:00:01\r\u001b[K     |███▋                            | 102kB 2.8MB/s eta 0:00:01\r\u001b[K     |████                            | 112kB 2.8MB/s eta 0:00:01\r\u001b[K     |████▍                           | 122kB 2.8MB/s eta 0:00:01\r\u001b[K     |████▊                           | 133kB 2.8MB/s eta 0:00:01\r\u001b[K     |█████                           | 143kB 2.8MB/s eta 0:00:01\r\u001b[K     |█████▍                          | 153kB 2.8MB/s eta 0:00:01\r\u001b[K     |█████▉                          | 163kB 2.8MB/s eta 0:00:01\r\u001b[K     |██████▏                         | 174kB 2.8MB/s eta 0:00:01\r\u001b[K     |██████▌                         | 184kB 2.8MB/s eta 0:00:01\r\u001b[K     |██████▉                         | 194kB 2.8MB/s eta 0:00:01\r\u001b[K     |███████▎                        | 204kB 2.8MB/s eta 0:00:01\r\u001b[K     |███████▋                        | 215kB 2.8MB/s eta 0:00:01\r\u001b[K     |████████                        | 225kB 2.8MB/s eta 0:00:01\r\u001b[K     |████████▎                       | 235kB 2.8MB/s eta 0:00:01\r\u001b[K     |████████▊                       | 245kB 2.8MB/s eta 0:00:01\r\u001b[K     |█████████                       | 256kB 2.8MB/s eta 0:00:01\r\u001b[K     |█████████▍                      | 266kB 2.8MB/s eta 0:00:01\r\u001b[K     |█████████▉                      | 276kB 2.8MB/s eta 0:00:01\r\u001b[K     |██████████▏                     | 286kB 2.8MB/s eta 0:00:01\r\u001b[K     |██████████▌                     | 296kB 2.8MB/s eta 0:00:01\r\u001b[K     |██████████▉                     | 307kB 2.8MB/s eta 0:00:01\r\u001b[K     |███████████▎                    | 317kB 2.8MB/s eta 0:00:01\r\u001b[K     |███████████▋                    | 327kB 2.8MB/s eta 0:00:01\r\u001b[K     |████████████                    | 337kB 2.8MB/s eta 0:00:01\r\u001b[K     |████████████▎                   | 348kB 2.8MB/s eta 0:00:01\r\u001b[K     |████████████▊                   | 358kB 2.8MB/s eta 0:00:01\r\u001b[K     |█████████████                   | 368kB 2.8MB/s eta 0:00:01\r\u001b[K     |█████████████▍                  | 378kB 2.8MB/s eta 0:00:01\r\u001b[K     |█████████████▊                  | 389kB 2.8MB/s eta 0:00:01\r\u001b[K     |██████████████▏                 | 399kB 2.8MB/s eta 0:00:01\r\u001b[K     |██████████████▌                 | 409kB 2.8MB/s eta 0:00:01\r\u001b[K     |██████████████▉                 | 419kB 2.8MB/s eta 0:00:01\r\u001b[K     |███████████████▏                | 430kB 2.8MB/s eta 0:00:01\r\u001b[K     |███████████████▋                | 440kB 2.8MB/s eta 0:00:01\r\u001b[K     |████████████████                | 450kB 2.8MB/s eta 0:00:01\r\u001b[K     |████████████████▎               | 460kB 2.8MB/s eta 0:00:01\r\u001b[K     |████████████████▋               | 471kB 2.8MB/s eta 0:00:01\r\u001b[K     |█████████████████               | 481kB 2.8MB/s eta 0:00:01\r\u001b[K     |█████████████████▍              | 491kB 2.8MB/s eta 0:00:01\r\u001b[K     |█████████████████▊              | 501kB 2.8MB/s eta 0:00:01\r\u001b[K     |██████████████████▏             | 512kB 2.8MB/s eta 0:00:01\r\u001b[K     |██████████████████▌             | 522kB 2.8MB/s eta 0:00:01\r\u001b[K     |██████████████████▉             | 532kB 2.8MB/s eta 0:00:01\r\u001b[K     |███████████████████▏            | 542kB 2.8MB/s eta 0:00:01\r\u001b[K     |███████████████████▋            | 552kB 2.8MB/s eta 0:00:01\r\u001b[K     |████████████████████            | 563kB 2.8MB/s eta 0:00:01\r\u001b[K     |████████████████████▎           | 573kB 2.8MB/s eta 0:00:01\r\u001b[K     |████████████████████▋           | 583kB 2.8MB/s eta 0:00:01\r\u001b[K     |█████████████████████           | 593kB 2.8MB/s eta 0:00:01\r\u001b[K     |█████████████████████▍          | 604kB 2.8MB/s eta 0:00:01\r\u001b[K     |█████████████████████▊          | 614kB 2.8MB/s eta 0:00:01\r\u001b[K     |██████████████████████          | 624kB 2.8MB/s eta 0:00:01\r\u001b[K     |██████████████████████▌         | 634kB 2.8MB/s eta 0:00:01\r\u001b[K     |██████████████████████▉         | 645kB 2.8MB/s eta 0:00:01\r\u001b[K     |███████████████████████▏        | 655kB 2.8MB/s eta 0:00:01\r\u001b[K     |███████████████████████▌        | 665kB 2.8MB/s eta 0:00:01\r\u001b[K     |████████████████████████        | 675kB 2.8MB/s eta 0:00:01\r\u001b[K     |████████████████████████▎       | 686kB 2.8MB/s eta 0:00:01\r\u001b[K     |████████████████████████▋       | 696kB 2.8MB/s eta 0:00:01\r\u001b[K     |█████████████████████████       | 706kB 2.8MB/s eta 0:00:01\r\u001b[K     |█████████████████████████▍      | 716kB 2.8MB/s eta 0:00:01\r\u001b[K     |█████████████████████████▊      | 727kB 2.8MB/s eta 0:00:01\r\u001b[K     |██████████████████████████      | 737kB 2.8MB/s eta 0:00:01\r\u001b[K     |██████████████████████████▍     | 747kB 2.8MB/s eta 0:00:01\r\u001b[K     |██████████████████████████▉     | 757kB 2.8MB/s eta 0:00:01\r\u001b[K     |███████████████████████████▏    | 768kB 2.8MB/s eta 0:00:01\r\u001b[K     |███████████████████████████▌    | 778kB 2.8MB/s eta 0:00:01\r\u001b[K     |████████████████████████████    | 788kB 2.8MB/s eta 0:00:01\r\u001b[K     |████████████████████████████▎   | 798kB 2.8MB/s eta 0:00:01\r\u001b[K     |████████████████████████████▋   | 808kB 2.8MB/s eta 0:00:01\r\u001b[K     |█████████████████████████████   | 819kB 2.8MB/s eta 0:00:01\r\u001b[K     |█████████████████████████████▍  | 829kB 2.8MB/s eta 0:00:01\r\u001b[K     |█████████████████████████████▊  | 839kB 2.8MB/s eta 0:00:01\r\u001b[K     |██████████████████████████████  | 849kB 2.8MB/s eta 0:00:01\r\u001b[K     |██████████████████████████████▍ | 860kB 2.8MB/s eta 0:00:01\r\u001b[K     |██████████████████████████████▉ | 870kB 2.8MB/s eta 0:00:01\r\u001b[K     |███████████████████████████████▏| 880kB 2.8MB/s eta 0:00:01\r\u001b[K     |███████████████████████████████▌| 890kB 2.8MB/s eta 0:00:01\r\u001b[K     |███████████████████████████████▉| 901kB 2.8MB/s eta 0:00:01\r\u001b[K     |████████████████████████████████| 911kB 2.8MB/s \n",
            "\u001b[?25hRequirement already satisfied: urllib3 in /usr/local/lib/python3.6/dist-packages (from selenium) (1.24.3)\n",
            "Installing collected packages: selenium\n",
            "Successfully installed selenium-3.141.0\n",
            "Get:1 https://cloud.r-project.org/bin/linux/ubuntu bionic-cran35/ InRelease [3,626 B]\n",
            "Get:2 http://security.ubuntu.com/ubuntu bionic-security InRelease [88.7 kB]\n",
            "Get:3 http://ppa.launchpad.net/graphics-drivers/ppa/ubuntu bionic InRelease [21.3 kB]\n",
            "Hit:4 http://archive.ubuntu.com/ubuntu bionic InRelease\n",
            "Get:5 http://archive.ubuntu.com/ubuntu bionic-updates InRelease [88.7 kB]\n",
            "Get:6 http://ppa.launchpad.net/marutter/c2d4u3.5/ubuntu bionic InRelease [15.4 kB]\n",
            "Get:7 http://archive.ubuntu.com/ubuntu bionic-backports InRelease [74.6 kB]\n",
            "Ign:8 https://developer.download.nvidia.com/compute/cuda/repos/ubuntu1804/x86_64  InRelease\n",
            "Get:9 http://ppa.launchpad.net/graphics-drivers/ppa/ubuntu bionic/main amd64 Packages [37.4 kB]\n",
            "Ign:10 https://developer.download.nvidia.com/compute/machine-learning/repos/ubuntu1804/x86_64  InRelease\n",
            "Get:11 http://security.ubuntu.com/ubuntu bionic-security/multiverse amd64 Packages [8,813 B]\n",
            "Get:12 http://security.ubuntu.com/ubuntu bionic-security/main amd64 Packages [933 kB]\n",
            "Get:13 https://developer.download.nvidia.com/compute/cuda/repos/ubuntu1804/x86_64  Release [697 B]\n",
            "Get:14 http://ppa.launchpad.net/marutter/c2d4u3.5/ubuntu bionic/main Sources [1,832 kB]\n",
            "Hit:15 https://developer.download.nvidia.com/compute/machine-learning/repos/ubuntu1804/x86_64  Release\n",
            "Get:16 http://archive.ubuntu.com/ubuntu bionic-updates/multiverse amd64 Packages [20.1 kB]\n",
            "Get:17 http://archive.ubuntu.com/ubuntu bionic-updates/main amd64 Packages [1,230 kB]\n",
            "Get:18 http://security.ubuntu.com/ubuntu bionic-security/universe amd64 Packages [856 kB]\n",
            "Get:19 https://developer.download.nvidia.com/compute/cuda/repos/ubuntu1804/x86_64  Release.gpg [836 B]\n",
            "Get:21 http://archive.ubuntu.com/ubuntu bionic-updates/universe amd64 Packages [1,387 kB]\n",
            "Get:22 http://ppa.launchpad.net/marutter/c2d4u3.5/ubuntu bionic/main amd64 Packages [883 kB]\n",
            "Ign:23 https://developer.download.nvidia.com/compute/cuda/repos/ubuntu1804/x86_64  Packages\n",
            "Get:23 https://developer.download.nvidia.com/compute/cuda/repos/ubuntu1804/x86_64  Packages [162 kB]\n",
            "Fetched 7,643 kB in 3s (2,684 kB/s)\n",
            "Reading package lists... Done\n",
            "Reading package lists... Done\n",
            "Building dependency tree       \n",
            "Reading state information... Done\n",
            "The following additional packages will be installed:\n",
            "  chromium-browser chromium-browser-l10n chromium-codecs-ffmpeg-extra\n",
            "Suggested packages:\n",
            "  webaccounts-chromium-extension unity-chromium-extension adobe-flashplugin\n",
            "The following NEW packages will be installed:\n",
            "  chromium-browser chromium-browser-l10n chromium-chromedriver\n",
            "  chromium-codecs-ffmpeg-extra\n",
            "0 upgraded, 4 newly installed, 0 to remove and 69 not upgraded.\n",
            "Need to get 75.5 MB of archives.\n",
            "After this operation, 256 MB of additional disk space will be used.\n",
            "Get:1 http://archive.ubuntu.com/ubuntu bionic-updates/universe amd64 chromium-codecs-ffmpeg-extra amd64 83.0.4103.61-0ubuntu0.18.04.1 [1,119 kB]\n",
            "Get:2 http://archive.ubuntu.com/ubuntu bionic-updates/universe amd64 chromium-browser amd64 83.0.4103.61-0ubuntu0.18.04.1 [66.7 MB]\n",
            "Get:3 http://archive.ubuntu.com/ubuntu bionic-updates/universe amd64 chromium-browser-l10n all 83.0.4103.61-0ubuntu0.18.04.1 [3,378 kB]\n",
            "Get:4 http://archive.ubuntu.com/ubuntu bionic-updates/universe amd64 chromium-chromedriver amd64 83.0.4103.61-0ubuntu0.18.04.1 [4,294 kB]\n",
            "Fetched 75.5 MB in 3s (24.3 MB/s)\n",
            "Selecting previously unselected package chromium-codecs-ffmpeg-extra.\n",
            "(Reading database ... 144467 files and directories currently installed.)\n",
            "Preparing to unpack .../chromium-codecs-ffmpeg-extra_83.0.4103.61-0ubuntu0.18.04.1_amd64.deb ...\n",
            "Unpacking chromium-codecs-ffmpeg-extra (83.0.4103.61-0ubuntu0.18.04.1) ...\n",
            "Selecting previously unselected package chromium-browser.\n",
            "Preparing to unpack .../chromium-browser_83.0.4103.61-0ubuntu0.18.04.1_amd64.deb ...\n",
            "Unpacking chromium-browser (83.0.4103.61-0ubuntu0.18.04.1) ...\n",
            "Selecting previously unselected package chromium-browser-l10n.\n",
            "Preparing to unpack .../chromium-browser-l10n_83.0.4103.61-0ubuntu0.18.04.1_all.deb ...\n",
            "Unpacking chromium-browser-l10n (83.0.4103.61-0ubuntu0.18.04.1) ...\n",
            "Selecting previously unselected package chromium-chromedriver.\n",
            "Preparing to unpack .../chromium-chromedriver_83.0.4103.61-0ubuntu0.18.04.1_amd64.deb ...\n",
            "Unpacking chromium-chromedriver (83.0.4103.61-0ubuntu0.18.04.1) ...\n",
            "Setting up chromium-codecs-ffmpeg-extra (83.0.4103.61-0ubuntu0.18.04.1) ...\n",
            "Setting up chromium-browser (83.0.4103.61-0ubuntu0.18.04.1) ...\n",
            "update-alternatives: using /usr/bin/chromium-browser to provide /usr/bin/x-www-browser (x-www-browser) in auto mode\n",
            "update-alternatives: using /usr/bin/chromium-browser to provide /usr/bin/gnome-www-browser (gnome-www-browser) in auto mode\n",
            "Setting up chromium-chromedriver (83.0.4103.61-0ubuntu0.18.04.1) ...\n",
            "Setting up chromium-browser-l10n (83.0.4103.61-0ubuntu0.18.04.1) ...\n",
            "Processing triggers for hicolor-icon-theme (0.17-2) ...\n",
            "Processing triggers for mime-support (3.60ubuntu1) ...\n",
            "Processing triggers for man-db (2.8.3-2ubuntu0.1) ...\n",
            "cp: '/usr/lib/chromium-browser/chromedriver' and '/usr/bin/chromedriver' are the same file\n"
          ],
          "name": "stdout"
        }
      ]
    },
    {
      "cell_type": "markdown",
      "metadata": {
        "id": "nlu1HmQEGl_s",
        "colab_type": "text"
      },
      "source": [
        "Once Selenium, Chrome, and Chromedriver are installed and ready, load the addresses."
      ]
    },
    {
      "cell_type": "code",
      "metadata": {
        "id": "qO3eeWaQC4-L",
        "colab_type": "code",
        "colab": {}
      },
      "source": [
        "# Read the data of scraped random addresses in.\n",
        "df = pd.read_csv('/content/drive/My Drive/datasets/data_practicum/random_addresses3.csv')"
      ],
      "execution_count": null,
      "outputs": []
    },
    {
      "cell_type": "code",
      "metadata": {
        "id": "jz92jI3hDmst",
        "colab_type": "code",
        "colab": {
          "base_uri": "https://localhost:8080/",
          "height": 202
        },
        "outputId": "166930f8-98de-4589-d85f-cfbdc82ec812"
      },
      "source": [
        "df.head()"
      ],
      "execution_count": null,
      "outputs": [
        {
          "output_type": "execute_result",
          "data": {
            "text/html": [
              "<div>\n",
              "<style scoped>\n",
              "    .dataframe tbody tr th:only-of-type {\n",
              "        vertical-align: middle;\n",
              "    }\n",
              "\n",
              "    .dataframe tbody tr th {\n",
              "        vertical-align: top;\n",
              "    }\n",
              "\n",
              "    .dataframe thead th {\n",
              "        text-align: right;\n",
              "    }\n",
              "</style>\n",
              "<table border=\"1\" class=\"dataframe\">\n",
              "  <thead>\n",
              "    <tr style=\"text-align: right;\">\n",
              "      <th></th>\n",
              "      <th>Unnamed: 0</th>\n",
              "      <th>addresses</th>\n",
              "    </tr>\n",
              "  </thead>\n",
              "  <tbody>\n",
              "    <tr>\n",
              "      <th>0</th>\n",
              "      <td>0</td>\n",
              "      <td>80001</td>\n",
              "    </tr>\n",
              "    <tr>\n",
              "      <th>1</th>\n",
              "      <td>1</td>\n",
              "      <td>13715 W 51st Ave, Arvada, CO 80002</td>\n",
              "    </tr>\n",
              "    <tr>\n",
              "      <th>2</th>\n",
              "      <td>2</td>\n",
              "      <td>5295 Gladiola St, Arvada, CO 80002</td>\n",
              "    </tr>\n",
              "    <tr>\n",
              "      <th>3</th>\n",
              "      <td>3</td>\n",
              "      <td>5480 Dudley Ct, Arvada, CO 80002</td>\n",
              "    </tr>\n",
              "    <tr>\n",
              "      <th>4</th>\n",
              "      <td>4</td>\n",
              "      <td>5722 Xenon Way, Arvada, CO 80002</td>\n",
              "    </tr>\n",
              "  </tbody>\n",
              "</table>\n",
              "</div>"
            ],
            "text/plain": [
              "   Unnamed: 0                           addresses\n",
              "0           0                               80001\n",
              "1           1  13715 W 51st Ave, Arvada, CO 80002\n",
              "2           2  5295 Gladiola St, Arvada, CO 80002\n",
              "3           3    5480 Dudley Ct, Arvada, CO 80002\n",
              "4           4    5722 Xenon Way, Arvada, CO 80002"
            ]
          },
          "metadata": {
            "tags": []
          },
          "execution_count": 3
        }
      ]
    },
    {
      "cell_type": "markdown",
      "metadata": {
        "id": "N2D8K1Up6mvw",
        "colab_type": "text"
      },
      "source": [
        "Create lists to store the data."
      ]
    },
    {
      "cell_type": "code",
      "metadata": {
        "id": "ajwxxhKY6pxX",
        "colab_type": "code",
        "colab": {}
      },
      "source": [
        "# Create lists to store the data selenium scrapes.\n",
        "sun_hours = []\n",
        "sqft = []\n",
        "size_for_full_cvg = []\n",
        "carbon_metric_ton = []\n",
        "upfront_cost = []\n",
        "twnty_year_pay = []\n",
        "state_fed_incentives = []\n",
        "twnty_year_cost_with_solar = []\n",
        "twnty_year_cost_without_solar = []\n",
        "twnty_year_save = []"
      ],
      "execution_count": null,
      "outputs": []
    },
    {
      "cell_type": "markdown",
      "metadata": {
        "id": "apvbptbEHfhz",
        "colab_type": "text"
      },
      "source": [
        "Run the bot and scrape the data."
      ]
    },
    {
      "cell_type": "code",
      "metadata": {
        "id": "1wIHV3vQHeQr",
        "colab_type": "code",
        "colab": {
          "base_uri": "https://localhost:8080/",
          "height": 53
        },
        "outputId": "82c74bdf-6485-40e9-ab65-0efb5ee3a7b0"
      },
      "source": [
        "# Execute the for loop to start the scrape.\n",
        "for i in df['addresses']:\n",
        "  try:\n",
        "      driver = webdriver.Chrome(executable_path='/usr/bin/chromedriver',chrome_options=chrome_options)#chrome_options=options\n",
        "      driver.get('https://www.google.com/get/sunroof')\n",
        "      time.sleep(3)\n",
        "      driver.find_element_by_xpath('//*[@id=\"input-0\"]').click()\n",
        "      time.sleep(1)\n",
        "      driver.find_element_by_xpath('//*[@id=\"input-0\"]').send_keys(i)\n",
        "      time.sleep(1)\n",
        "      driver.find_element_by_xpath('//*[@id=\"md-option-0-0\"]').click()\n",
        "      time.sleep(1)\n",
        "      driver.find_element_by_xpath('/html/body/div[1]/address-view/div[1]/div/div/section[2]/div/md-content[3]/md-card/md-card-content/show-more/button').click()\n",
        "      time.sleep(3)\n",
        "      text = driver.find_element_by_xpath('/html/body/div[1]/address-view/div[1]/div/div/section[1]/div[2]/md-card[1]/ul/li[1]/div[2]').text\n",
        "      sun_hours.append(text)\n",
        "      text = driver.find_element_by_xpath('/html/body/div[1]/address-view/div[1]/div/div/section[1]/div[2]/md-card[1]/ul/li[2]/div[2]').text\n",
        "      sqft.append(text)\n",
        "      text = driver.find_element_by_xpath('/html/body/div[1]/address-view/div[1]/div/div/section[2]/div/md-content[1]/div[2]/md-card/md-card-content/div').text\n",
        "      size_for_full_cvg.append(text)\n",
        "      text = driver.find_element_by_xpath('/html/body/div[1]/address-view/div[1]/div/div/section[2]/div/md-content[2]/md-card/md-card-content/div/place-metrics-cell[1]/div[2]').text\n",
        "      carbon_metric_ton.append(text)\n",
        "      text = driver.find_element_by_xpath('/html/body/div[1]/address-view/div[1]/div/div/section[2]/div/md-content[3]/md-card/md-card-content/show-more/div/table/tbody/tr[1]/td[2]/span').text\n",
        "      upfront_cost.append(text)\n",
        "      text = driver.find_element_by_xpath('/html/body/div[1]/address-view/div[1]/div/div/section[2]/div/md-content[3]/md-card/md-card-content/show-more/div/table/tbody/tr[1]/td[2]/span').text\n",
        "      twnty_year_pay.append(text)\n",
        "      text = driver.find_element_by_xpath('/html/body/div[1]/address-view/div[1]/div/div/section[2]/div/md-content[3]/md-card/md-card-content/show-more/div/table/tbody/tr[3]/td[2]').text\n",
        "      state_fed_incentives.append(text)\n",
        "      text = driver.find_element_by_xpath('/html/body/div[1]/address-view/div[1]/div/div/section[2]/div/md-content[3]/md-card/md-card-content/show-more/div/table/tbody/tr[5]/td[2]').text\n",
        "      twnty_year_cost_with_solar.append(text)\n",
        "      text = driver.find_element_by_xpath('/html/body/div[1]/address-view/div[1]/div/div/section[2]/div/md-content[3]/md-card/md-card-content/show-more/div/table/tbody/tr[6]/td[2]').text\n",
        "      twnty_year_cost_without_solar.append(text)\n",
        "      text = driver.find_element_by_xpath('/html/body/div[1]/address-view/div[1]/div/div/section[2]/div/md-content[3]/md-card/md-card-content/show-more/div/table/tbody/tr[8]/td[2]').text\n",
        "      twnty_year_save.append(text)\n",
        "      driver.quit()\n",
        "  except:\n",
        "      sun_hours.append(None)\n",
        "      sqft.append(None)\n",
        "      size_for_full_cvg.append(None)\n",
        "      carbon_metric_ton.append(None)\n",
        "      upfront_cost.append(None)\n",
        "      twnty_year_pay.append(None)\n",
        "      state_fed_incentives.append(None)\n",
        "      twnty_year_cost_with_solar.append(None)\n",
        "      twnty_year_cost_without_solar.append(None)\n",
        "      twnty_year_save.append(None)\n",
        "      driver.quit()\n",
        "      continue\n",
        "  "
      ],
      "execution_count": null,
      "outputs": [
        {
          "output_type": "stream",
          "text": [
            "/usr/local/lib/python3.6/dist-packages/ipykernel_launcher.py:3: DeprecationWarning: use options instead of chrome_options\n",
            "  This is separate from the ipykernel package so we can avoid doing imports until\n"
          ],
          "name": "stderr"
        }
      ]
    },
    {
      "cell_type": "markdown",
      "metadata": {
        "id": "1yiC29jDbuKi",
        "colab_type": "text"
      },
      "source": [
        "Save the data back to the dataframe."
      ]
    },
    {
      "cell_type": "code",
      "metadata": {
        "id": "6O2Uk8Qvb2Ny",
        "colab_type": "code",
        "colab": {}
      },
      "source": [
        "# Store the scraped data back into the dataframe.\n",
        "df['sun_hours'] = sun_hours\n",
        "df['sqft'] = sqft\n",
        "df['size_for_full_cvg'] = size_for_full_cvg\n",
        "df['carbon_metric_ton'] = carbon_metric_ton\n",
        "df['upfront_cost'] = upfront_cost\n",
        "df['20_year_pay'] = twnty_year_pay\n",
        "df['state_fed_incentives'] = state_fed_incentives\n",
        "df['20_year_cost_with_solar'] = twnty_year_cost_with_solar\n",
        "df['20_year_cost_without_solar'] = twnty_year_cost_without_solar\n",
        "df['20_year_save'] = twnty_year_save"
      ],
      "execution_count": null,
      "outputs": []
    },
    {
      "cell_type": "markdown",
      "metadata": {
        "id": "-UCcNCeEb7vJ",
        "colab_type": "text"
      },
      "source": [
        "Save the data."
      ]
    },
    {
      "cell_type": "code",
      "metadata": {
        "id": "AwkZexjqb9cG",
        "colab_type": "code",
        "colab": {}
      },
      "source": [
        "# Export the scraped data in an csv or a excel file.\n",
        "df.to_csv('/content/drive/My Drive/datasets/data_practicum/random_address_solar_data3.csv')"
      ],
      "execution_count": null,
      "outputs": []
    }
  ]
}