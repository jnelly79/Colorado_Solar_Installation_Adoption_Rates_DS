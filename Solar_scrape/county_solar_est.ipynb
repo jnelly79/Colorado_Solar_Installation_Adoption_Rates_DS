{
  "nbformat": 4,
  "nbformat_minor": 0,
  "metadata": {
    "colab": {
      "name": "county_solar_est.ipynb",
      "provenance": [],
      "collapsed_sections": [],
      "mount_file_id": "1rq3Gpo3eK4qERs-vM6XkzW6mtvFboSBq",
      "authorship_tag": "ABX9TyO9D2aSlt1eiuKnmXF1W+2Z",
      "include_colab_link": true
    },
    "kernelspec": {
      "name": "python3",
      "display_name": "Python 3"
    }
  },
  "cells": [
    {
      "cell_type": "markdown",
      "metadata": {
        "id": "view-in-github",
        "colab_type": "text"
      },
      "source": [
        "<a href=\"https://colab.research.google.com/github/jnelly79/Colorado_Solar_Installation_Adoption_Rates_DS/blob/master/county_solar_est.ipynb\" target=\"_parent\"><img src=\"https://colab.research.google.com/assets/colab-badge.svg\" alt=\"Open In Colab\"/></a>"
      ]
    },
    {
      "cell_type": "markdown",
      "metadata": {
        "id": "aKKr6_T2EKJa",
        "colab_type": "text"
      },
      "source": [
        "Load necessary libraries, install chrome webdriver, and configure the driver options. (Follow these steps if you want to run chromedriver on Google colab)."
      ]
    },
    {
      "cell_type": "code",
      "metadata": {
        "id": "jUTcM1OBCqOF",
        "colab_type": "code",
        "colab": {
          "base_uri": "https://localhost:8080/",
          "height": 1000
        },
        "outputId": "5f33326b-c641-4707-e0c2-ac85319a2166"
      },
      "source": [
        "# Import the necessary libraries. \n",
        "import pandas as pd\n",
        "# Install selenium. \n",
        "!pip install selenium\n",
        "from selenium import webdriver\n",
        "import time\n",
        "# Update ubuntu, and install chrome driver into desired location.\n",
        "!apt-get update \n",
        "!apt install chromium-chromedriver\n",
        "!cp /usr/lib/chromium-browser/chromedriver /usr/bin\n",
        "# Defien path for chrome driver and then configure chrome_options to work on colab.\n",
        "import sys\n",
        "sys.path.insert(0,'/usr/lib/chromium-browser/chromedriver')\n",
        "chrome_options = webdriver.ChromeOptions()\n",
        "chrome_options.add_argument('--headless')\n",
        "chrome_options.add_argument('--no-sandbox')\n",
        "chrome_options.add_argument('--disable-dev-shm-usage')"
      ],
      "execution_count": null,
      "outputs": [
        {
          "output_type": "stream",
          "text": [
            "Collecting selenium\n",
            "\u001b[?25l  Downloading https://files.pythonhosted.org/packages/80/d6/4294f0b4bce4de0abf13e17190289f9d0613b0a44e5dd6a7f5ca98459853/selenium-3.141.0-py2.py3-none-any.whl (904kB)\n",
            "\u001b[K     |████████████████████████████████| 911kB 3.4MB/s \n",
            "\u001b[?25hRequirement already satisfied: urllib3 in /usr/local/lib/python3.6/dist-packages (from selenium) (1.24.3)\n",
            "Installing collected packages: selenium\n",
            "Successfully installed selenium-3.141.0\n",
            "Get:1 https://cloud.r-project.org/bin/linux/ubuntu bionic-cran35/ InRelease [3,626 B]\n",
            "Ign:2 https://developer.download.nvidia.com/compute/cuda/repos/ubuntu1804/x86_64  InRelease\n",
            "Get:3 http://security.ubuntu.com/ubuntu bionic-security InRelease [88.7 kB]\n",
            "Hit:4 http://archive.ubuntu.com/ubuntu bionic InRelease\n",
            "Hit:5 http://ppa.launchpad.net/graphics-drivers/ppa/ubuntu bionic InRelease\n",
            "Ign:6 https://developer.download.nvidia.com/compute/machine-learning/repos/ubuntu1804/x86_64  InRelease\n",
            "Get:7 https://developer.download.nvidia.com/compute/cuda/repos/ubuntu1804/x86_64  Release [697 B]\n",
            "Get:8 https://developer.download.nvidia.com/compute/machine-learning/repos/ubuntu1804/x86_64  Release [564 B]\n",
            "Get:9 https://developer.download.nvidia.com/compute/cuda/repos/ubuntu1804/x86_64  Release.gpg [801 B]\n",
            "Get:10 https://developer.download.nvidia.com/compute/machine-learning/repos/ubuntu1804/x86_64  Release.gpg [833 B]\n",
            "Get:11 http://archive.ubuntu.com/ubuntu bionic-updates InRelease [88.7 kB]\n",
            "Get:12 http://ppa.launchpad.net/marutter/c2d4u3.5/ubuntu bionic InRelease [15.4 kB]\n",
            "Get:13 http://archive.ubuntu.com/ubuntu bionic-backports InRelease [74.6 kB]\n",
            "Ign:14 https://developer.download.nvidia.com/compute/cuda/repos/ubuntu1804/x86_64  Packages\n",
            "Get:14 https://developer.download.nvidia.com/compute/cuda/repos/ubuntu1804/x86_64  Packages [151 kB]\n",
            "Get:15 https://developer.download.nvidia.com/compute/machine-learning/repos/ubuntu1804/x86_64  Packages [38.7 kB]\n",
            "Get:16 http://ppa.launchpad.net/marutter/c2d4u3.5/ubuntu bionic/main Sources [1,840 kB]\n",
            "Get:17 http://security.ubuntu.com/ubuntu bionic-security/main amd64 Packages [961 kB]\n",
            "Get:18 http://archive.ubuntu.com/ubuntu bionic-updates/universe amd64 Packages [1,397 kB]\n",
            "Get:19 http://archive.ubuntu.com/ubuntu bionic-updates/main amd64 Packages [1,253 kB]\n",
            "Get:20 http://ppa.launchpad.net/marutter/c2d4u3.5/ubuntu bionic/main amd64 Packages [888 kB]\n",
            "Fetched 6,802 kB in 3s (2,183 kB/s)\n",
            "Reading package lists... Done\n",
            "Reading package lists... Done\n",
            "Building dependency tree       \n",
            "Reading state information... Done\n",
            "The following package was automatically installed and is no longer required:\n",
            "  libnvidia-common-440\n",
            "Use 'apt autoremove' to remove it.\n",
            "The following additional packages will be installed:\n",
            "  chromium-browser chromium-browser-l10n chromium-codecs-ffmpeg-extra\n",
            "Suggested packages:\n",
            "  webaccounts-chromium-extension unity-chromium-extension adobe-flashplugin\n",
            "The following NEW packages will be installed:\n",
            "  chromium-browser chromium-browser-l10n chromium-chromedriver\n",
            "  chromium-codecs-ffmpeg-extra\n",
            "0 upgraded, 4 newly installed, 0 to remove and 53 not upgraded.\n",
            "Need to get 75.5 MB of archives.\n",
            "After this operation, 256 MB of additional disk space will be used.\n",
            "Get:1 http://archive.ubuntu.com/ubuntu bionic-updates/universe amd64 chromium-codecs-ffmpeg-extra amd64 83.0.4103.61-0ubuntu0.18.04.1 [1,119 kB]\n",
            "Get:2 http://archive.ubuntu.com/ubuntu bionic-updates/universe amd64 chromium-browser amd64 83.0.4103.61-0ubuntu0.18.04.1 [66.7 MB]\n",
            "Get:3 http://archive.ubuntu.com/ubuntu bionic-updates/universe amd64 chromium-browser-l10n all 83.0.4103.61-0ubuntu0.18.04.1 [3,378 kB]\n",
            "Get:4 http://archive.ubuntu.com/ubuntu bionic-updates/universe amd64 chromium-chromedriver amd64 83.0.4103.61-0ubuntu0.18.04.1 [4,294 kB]\n",
            "Fetched 75.5 MB in 3s (21.8 MB/s)\n",
            "Selecting previously unselected package chromium-codecs-ffmpeg-extra.\n",
            "(Reading database ... 144328 files and directories currently installed.)\n",
            "Preparing to unpack .../chromium-codecs-ffmpeg-extra_83.0.4103.61-0ubuntu0.18.04.1_amd64.deb ...\n",
            "Unpacking chromium-codecs-ffmpeg-extra (83.0.4103.61-0ubuntu0.18.04.1) ...\n",
            "Selecting previously unselected package chromium-browser.\n",
            "Preparing to unpack .../chromium-browser_83.0.4103.61-0ubuntu0.18.04.1_amd64.deb ...\n",
            "Unpacking chromium-browser (83.0.4103.61-0ubuntu0.18.04.1) ...\n",
            "Selecting previously unselected package chromium-browser-l10n.\n",
            "Preparing to unpack .../chromium-browser-l10n_83.0.4103.61-0ubuntu0.18.04.1_all.deb ...\n",
            "Unpacking chromium-browser-l10n (83.0.4103.61-0ubuntu0.18.04.1) ...\n",
            "Selecting previously unselected package chromium-chromedriver.\n",
            "Preparing to unpack .../chromium-chromedriver_83.0.4103.61-0ubuntu0.18.04.1_amd64.deb ...\n",
            "Unpacking chromium-chromedriver (83.0.4103.61-0ubuntu0.18.04.1) ...\n",
            "Setting up chromium-codecs-ffmpeg-extra (83.0.4103.61-0ubuntu0.18.04.1) ...\n",
            "Setting up chromium-browser (83.0.4103.61-0ubuntu0.18.04.1) ...\n",
            "update-alternatives: using /usr/bin/chromium-browser to provide /usr/bin/x-www-browser (x-www-browser) in auto mode\n",
            "update-alternatives: using /usr/bin/chromium-browser to provide /usr/bin/gnome-www-browser (gnome-www-browser) in auto mode\n",
            "Setting up chromium-chromedriver (83.0.4103.61-0ubuntu0.18.04.1) ...\n",
            "Setting up chromium-browser-l10n (83.0.4103.61-0ubuntu0.18.04.1) ...\n",
            "Processing triggers for hicolor-icon-theme (0.17-2) ...\n",
            "Processing triggers for mime-support (3.60ubuntu1) ...\n",
            "Processing triggers for man-db (2.8.3-2ubuntu0.1) ...\n",
            "cp: '/usr/lib/chromium-browser/chromedriver' and '/usr/bin/chromedriver' are the same file\n"
          ],
          "name": "stdout"
        }
      ]
    },
    {
      "cell_type": "markdown",
      "metadata": {
        "id": "nlu1HmQEGl_s",
        "colab_type": "text"
      },
      "source": [
        "Once Selenium, Chrome, and Chromedriver are installed and ready, load the addresses."
      ]
    },
    {
      "cell_type": "code",
      "metadata": {
        "id": "qO3eeWaQC4-L",
        "colab_type": "code",
        "colab": {
          "base_uri": "https://localhost:8080/",
          "height": 202
        },
        "outputId": "d4ee1df3-098b-4f9f-cf7a-475201ca6062"
      },
      "source": [
        "# Load data on Colorado Counties.\n",
        "df = pd.read_excel('/content/drive/My Drive/datasets/data_practicum/2017_profile_county_CO.xlsx')\n",
        "df.head()"
      ],
      "execution_count": null,
      "outputs": [
        {
          "output_type": "execute_result",
          "data": {
            "text/html": [
              "<div>\n",
              "<style scoped>\n",
              "    .dataframe tbody tr th:only-of-type {\n",
              "        vertical-align: middle;\n",
              "    }\n",
              "\n",
              "    .dataframe tbody tr th {\n",
              "        vertical-align: top;\n",
              "    }\n",
              "\n",
              "    .dataframe thead th {\n",
              "        text-align: right;\n",
              "    }\n",
              "</style>\n",
              "<table border=\"1\" class=\"dataframe\">\n",
              "  <thead>\n",
              "    <tr style=\"text-align: right;\">\n",
              "      <th></th>\n",
              "      <th>CFIPS</th>\n",
              "      <th>YEAR</th>\n",
              "      <th>COUNTY</th>\n",
              "      <th>Households</th>\n",
              "    </tr>\n",
              "  </thead>\n",
              "  <tbody>\n",
              "    <tr>\n",
              "      <th>0</th>\n",
              "      <td>1</td>\n",
              "      <td>2017</td>\n",
              "      <td>Adams County</td>\n",
              "      <td>168930</td>\n",
              "    </tr>\n",
              "    <tr>\n",
              "      <th>1</th>\n",
              "      <td>3</td>\n",
              "      <td>2017</td>\n",
              "      <td>Alamosa County</td>\n",
              "      <td>6203</td>\n",
              "    </tr>\n",
              "    <tr>\n",
              "      <th>2</th>\n",
              "      <td>5</td>\n",
              "      <td>2017</td>\n",
              "      <td>Arapahoe County</td>\n",
              "      <td>250210</td>\n",
              "    </tr>\n",
              "    <tr>\n",
              "      <th>3</th>\n",
              "      <td>7</td>\n",
              "      <td>2017</td>\n",
              "      <td>Archuleta County</td>\n",
              "      <td>5814</td>\n",
              "    </tr>\n",
              "    <tr>\n",
              "      <th>4</th>\n",
              "      <td>9</td>\n",
              "      <td>2017</td>\n",
              "      <td>Baca County</td>\n",
              "      <td>1521</td>\n",
              "    </tr>\n",
              "  </tbody>\n",
              "</table>\n",
              "</div>"
            ],
            "text/plain": [
              "   CFIPS  YEAR            COUNTY  Households\n",
              "0      1  2017      Adams County      168930\n",
              "1      3  2017    Alamosa County        6203\n",
              "2      5  2017   Arapahoe County      250210\n",
              "3      7  2017  Archuleta County        5814\n",
              "4      9  2017       Baca County        1521"
            ]
          },
          "metadata": {
            "tags": []
          },
          "execution_count": 3
        }
      ]
    },
    {
      "cell_type": "code",
      "metadata": {
        "id": "cse72KPxoN3n",
        "colab_type": "code",
        "colab": {}
      },
      "source": [
        "# Drop duplicates.\n",
        "df = df.drop_duplicates(['COUNTY'])"
      ],
      "execution_count": null,
      "outputs": []
    },
    {
      "cell_type": "code",
      "metadata": {
        "id": "aGv-0lCV7o1c",
        "colab_type": "code",
        "colab": {}
      },
      "source": [
        "# Turn counties into a list.\n",
        "counties = df['COUNTY'].tolist()"
      ],
      "execution_count": null,
      "outputs": []
    },
    {
      "cell_type": "code",
      "metadata": {
        "id": "9xcQFrE370Pe",
        "colab_type": "code",
        "colab": {}
      },
      "source": [
        "# Some of these countie show up in other states so add CO to the end of counties.\n",
        "county_list = []\n",
        "for i in counties:\n",
        "  string = i + \" CO\"\n",
        "  county_list.append(string)"
      ],
      "execution_count": null,
      "outputs": []
    },
    {
      "cell_type": "code",
      "metadata": {
        "id": "2NrwHW8r77Am",
        "colab_type": "code",
        "colab": {
          "base_uri": "https://localhost:8080/",
          "height": 1000
        },
        "outputId": "61c7757f-0f42-428b-c79b-5145eac756d6"
      },
      "source": [
        "# Now the county list should be ready to iterate.\n",
        "county_list"
      ],
      "execution_count": null,
      "outputs": [
        {
          "output_type": "execute_result",
          "data": {
            "text/plain": [
              "['Adams County CO',\n",
              " 'Alamosa County CO',\n",
              " 'Arapahoe County CO',\n",
              " 'Archuleta County CO',\n",
              " 'Baca County CO',\n",
              " 'Bent County CO',\n",
              " 'Boulder County CO',\n",
              " 'Broomfield County CO',\n",
              " 'Chaffee County CO',\n",
              " 'Cheyenne County CO',\n",
              " 'Clear Creek County CO',\n",
              " 'Conejos County CO',\n",
              " 'Costilla County CO',\n",
              " 'Crowley County CO',\n",
              " 'Custer County CO',\n",
              " 'Delta County CO',\n",
              " 'Denver County CO',\n",
              " 'Dolores County CO',\n",
              " 'Douglas County CO',\n",
              " 'Eagle County CO',\n",
              " 'Elbert County CO',\n",
              " 'El Paso County CO',\n",
              " 'Fremont County CO',\n",
              " 'Garfield County CO',\n",
              " 'Gilpin County CO',\n",
              " 'Grand County CO',\n",
              " 'Gunnison County CO',\n",
              " 'Hinsdale County CO',\n",
              " 'Huerfano County CO',\n",
              " 'Jackson County CO',\n",
              " 'Jefferson County CO',\n",
              " 'Kiowa County CO',\n",
              " 'Kit Carson County CO',\n",
              " 'Lake County CO',\n",
              " 'La Plata County CO',\n",
              " 'Larimer County CO',\n",
              " 'Las Animas County CO',\n",
              " 'Lincoln County CO',\n",
              " 'Logan County CO',\n",
              " 'Mesa County CO',\n",
              " 'Mineral County CO',\n",
              " 'Moffat County CO',\n",
              " 'Montezuma County CO',\n",
              " 'Montrose County CO',\n",
              " 'Morgan County CO',\n",
              " 'Otero County CO',\n",
              " 'Ouray County CO',\n",
              " 'Park County CO',\n",
              " 'Phillips County CO',\n",
              " 'Pitkin County CO',\n",
              " 'Prowers County CO',\n",
              " 'Pueblo County CO',\n",
              " 'Rio Blanco County CO',\n",
              " 'Rio Grande County CO',\n",
              " 'Routt County CO',\n",
              " 'Saguache County CO',\n",
              " 'San Juan County CO',\n",
              " 'San Miguel County CO',\n",
              " 'Sedgwick County CO',\n",
              " 'Summit County CO',\n",
              " 'Teller County CO',\n",
              " 'Washington County CO',\n",
              " 'Weld County CO',\n",
              " 'Yuma County CO']"
            ]
          },
          "metadata": {
            "tags": []
          },
          "execution_count": 14
        }
      ]
    },
    {
      "cell_type": "markdown",
      "metadata": {
        "id": "N2D8K1Up6mvw",
        "colab_type": "text"
      },
      "source": [
        "Create lists to store the data."
      ]
    },
    {
      "cell_type": "code",
      "metadata": {
        "id": "ajwxxhKY6pxX",
        "colab_type": "code",
        "colab": {}
      },
      "source": [
        "# Create a lists to store scraped data\n",
        "total_roofs = []\n",
        "total_est_roofs = []\n",
        "total_est_sqft_roof_overall = []\n",
        "total_est_capacity_mW_dc = []\n",
        "total_est_MWh_ac_yr = []\n",
        "total_est_med_roof_space = []\n",
        "total_est_med_dc_capacity = []\n",
        "total_est_med_kWH_ac_yr = []\n",
        "total_est_carbon_metric_tons = []\n",
        "total_est_cars_off_road__per_yr = []\n",
        "total_est_number_tree_seedlings_grown_10_yrs = []"
      ],
      "execution_count": null,
      "outputs": []
    },
    {
      "cell_type": "markdown",
      "metadata": {
        "id": "apvbptbEHfhz",
        "colab_type": "text"
      },
      "source": [
        "Run the bot and scrape the data."
      ]
    },
    {
      "cell_type": "code",
      "metadata": {
        "id": "1wIHV3vQHeQr",
        "colab_type": "code",
        "colab": {
          "base_uri": "https://localhost:8080/",
          "height": 53
        },
        "outputId": "833f1e62-fabe-496d-f954-6c36adf349b2"
      },
      "source": [
        "# Iterate through and execute the loop.\n",
        "for i in df['COUNTY']:\n",
        "  try:\n",
        "    driver = webdriver.Chrome(executable_path='/usr/bin/chromedriver', chrome_options=chrome_options)#chrome_options=options\n",
        "    driver.get('https://www.google.com/get/sunroof/data-explorer/')\n",
        "    time.sleep(3)\n",
        "    driver.find_element_by_xpath('//*[@id=\"input-2\"]').click()\n",
        "    time.sleep(1)\n",
        "    driver.find_element_by_xpath('//*[@id=\"input-2\"]').send_keys(i)\n",
        "    time.sleep(1)\n",
        "    driver.find_element_by_xpath('//*[@id=\"md-option-2-0\"]').click()\n",
        "    time.sleep(3)\n",
        "    text = driver.find_element_by_xpath('/html/body/div[1]/place-view/div[1]/div/div/div/div/md-card/section[2]/div[1]/place-metrics-cell[2]/div[2]').text\n",
        "    total_roofs.append(text)\n",
        "    text = driver.find_element_by_xpath('/html/body/div[1]/place-view/div[1]/div/div/div/md-card/div[1]/div/div[1]/div[1]/place-metrics-cell[2]/div[2]').text\n",
        "    total_est_roofs.append(text)\n",
        "    text = driver.find_element_by_xpath('/html/body/div[1]/place-view/div[1]/div/div/div/md-card/div[1]/div/div[1]/div[2]/place-metrics-cell[1]/div[2]').text\n",
        "    total_est_sqft_roof_overall.append(text)\n",
        "    text = driver.find_element_by_xpath('/html/body/div[1]/place-view/div[1]/div/div/div/md-card/div[1]/div/div[1]/div[2]/place-metrics-cell[2]/div[2]').text\n",
        "    total_est_capacity_mW_dc.append(text)\n",
        "    text = driver.find_element_by_xpath('/html/body/div[1]/place-view/div[1]/div/div/div/md-card/div[1]/div/div[1]/div[2]/place-metrics-cell[3]/div[2]').text\n",
        "    total_est_MWh_ac_yr.append(text)\n",
        "    text = driver.find_element_by_xpath('/html/body/div[1]/place-view/div[1]/div/div/div/md-card/div[1]/div/div[2]/div/place-metrics-cell[1]/div[2]').text\n",
        "    total_est_med_roof_space.append(text)\n",
        "    text = driver.find_element_by_xpath('/html/body/div[1]/place-view/div[1]/div/div/div/md-card/div[1]/div/div[2]/div/place-metrics-cell[2]/div[2]').text\n",
        "    total_est_med_dc_capacity.append(text)\n",
        "    text = driver.find_element_by_xpath('/html/body/div[1]/place-view/div[1]/div/div/div/md-card/div[1]/div/div[2]/div/place-metrics-cell[3]/div[2]').text\n",
        "    total_est_med_kWH_ac_yr.append(text)\n",
        "    text = driver.find_element_by_xpath('/html/body/div[1]/place-view/div[1]/div/div/div/md-card/div[2]/div/place-metrics-cell[1]/div[2]').text\n",
        "    total_est_carbon_metric_tons.append(text)\n",
        "    text = driver.find_element_by_xpath('/html/body/div[1]/place-view/div[1]/div/div/div/md-card/div[2]/div/place-metrics-cell[2]/div[2]').text\n",
        "    total_est_cars_off_road__per_yr.append(text)\n",
        "    text = driver.find_element_by_xpath('/html/body/div[1]/place-view/div[1]/div/div/div/md-card/div[2]/div/place-metrics-cell[3]/div[2]').text\n",
        "    total_est_number_tree_seedlings_grown_10_yrs.append(text)\n",
        "\n",
        "    driver.quit()\n",
        "  except:\n",
        "    total_roofs.append(None)\n",
        "    total_est_roofs.append(None)\n",
        "    total_est_sqft_roof_overall.append(None)\n",
        "    total_est_capacity_mW_dc.append(None)\n",
        "    total_est_MWh_ac_yr.append(None)\n",
        "    total_est_med_roof_space.append(None)\n",
        "    total_est_med_dc_capacity.append(None)\n",
        "    total_est_med_kWH_ac_yr.append(None)\n",
        "    total_est_carbon_metric_tons.append(None)\n",
        "    total_est_cars_off_road__per_yr.append(None)\n",
        "    total_est_number_tree_seedlings_grown_10_yrs.append(None)\n",
        "    \n",
        "    driver.quit()\n",
        "    continue\n",
        "  "
      ],
      "execution_count": null,
      "outputs": [
        {
          "output_type": "stream",
          "text": [
            "/usr/local/lib/python3.6/dist-packages/ipykernel_launcher.py:3: DeprecationWarning: use options instead of chrome_options\n",
            "  This is separate from the ipykernel package so we can avoid doing imports until\n"
          ],
          "name": "stderr"
        }
      ]
    },
    {
      "cell_type": "markdown",
      "metadata": {
        "id": "1yiC29jDbuKi",
        "colab_type": "text"
      },
      "source": [
        "Save the data back to the dataframe."
      ]
    },
    {
      "cell_type": "code",
      "metadata": {
        "id": "6O2Uk8Qvb2Ny",
        "colab_type": "code",
        "colab": {}
      },
      "source": [
        "# Save the data back into a dataframe.\n",
        "df['total_roofs_installed'] = total_roofs\n",
        "df['total_est_roofs'] = total_est_roofs\n",
        "df['total_est_sqft_of_overall_roofs'] = total_est_sqft_roof_overall\n",
        "df['total_est_capacity_of_mW_dc'] = total_est_capacity_mW_dc\n",
        "df['total_est_MWh_ac_per_year'] = total_est_MWh_ac_yr\n",
        "df['total_est_median_roof_space'] = total_est_med_roof_space\n",
        "df['total_est_median_kW_dc_capacity'] = total_est_med_dc_capacity\n",
        "df['total_est_median_kWH_ac_per_year'] = total_est_med_kWH_ac_yr\n",
        "df['total_est_carbon_metric_tons'] = total_est_carbon_metric_tons\n",
        "df['total_est_cars_off_road__per_yr'] = total_est_cars_off_road__per_yr\n",
        "df['total_est_number_tree_seedlings_grown_10_yrs'] = total_est_number_tree_seedlings_grown_10_yrs"
      ],
      "execution_count": null,
      "outputs": []
    },
    {
      "cell_type": "markdown",
      "metadata": {
        "id": "-UCcNCeEb7vJ",
        "colab_type": "text"
      },
      "source": [
        "Save the data."
      ]
    },
    {
      "cell_type": "code",
      "metadata": {
        "id": "AwkZexjqb9cG",
        "colab_type": "code",
        "colab": {}
      },
      "source": [
        "# Export data either to a csv or excel file.\n",
        "df.to_csv('/content/drive/My Drive/datasets/data_practicum/county_demographic_solar_data_est.csv')"
      ],
      "execution_count": null,
      "outputs": []
    }
  ]
}
