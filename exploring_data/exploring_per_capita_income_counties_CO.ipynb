{
  "nbformat": 4,
  "nbformat_minor": 0,
  "metadata": {
    "colab": {
      "name": "exploring_per_capita_income_counties_CO",
      "provenance": [],
      "mount_file_id": "1YQZwRHHshPPdjnOI7PvoUAURhjN83SA2",
      "authorship_tag": "ABX9TyOJfzIPqy/4Vx7yPk6lZdUz",
      "include_colab_link": true
    },
    "kernelspec": {
      "name": "python3",
      "display_name": "Python 3"
    }
  },
  "cells": [
    {
      "cell_type": "markdown",
      "metadata": {
        "id": "view-in-github",
        "colab_type": "text"
      },
      "source": [
        "<a href=\"https://colab.research.google.com/github/jnelly79/Colorado_Solar_Installation_Adoption_Rates_DS/blob/master/exploring_data/exploring_per_capita_income_counties_CO.ipynb\" target=\"_parent\"><img src=\"https://colab.research.google.com/assets/colab-badge.svg\" alt=\"Open In Colab\"/></a>"
      ]
    },
    {
      "cell_type": "code",
      "metadata": {
        "id": "gd0CPJsOoNPM",
        "colab_type": "code",
        "colab": {
          "base_uri": "https://localhost:8080/",
          "height": 73
        },
        "outputId": "4ce575cb-152f-41a7-db88-a7a6480d9342"
      },
      "source": [
        "# Import pandas and visualization libraries\n",
        "import pandas as pd\n",
        "import matplotlib.pyplot as plt\n",
        "import seaborn as sns"
      ],
      "execution_count": null,
      "outputs": [
        {
          "output_type": "stream",
          "text": [
            "/usr/local/lib/python3.6/dist-packages/statsmodels/tools/_testing.py:19: FutureWarning: pandas.util.testing is deprecated. Use the functions in the public API at pandas.testing instead.\n",
            "  import pandas.util.testing as tm\n"
          ],
          "name": "stderr"
        }
      ]
    },
    {
      "cell_type": "code",
      "metadata": {
        "id": "Y_iV-yInoooU",
        "colab_type": "code",
        "colab": {}
      },
      "source": [
        "# Load the Colorado per capita gdp of personal income data.\n",
        "df = pd.read_excel('/content/drive/My Drive/datasets/data_practicum/Personal_Income_in_Colorado.xlsx', sheet_name='cleaned')"
      ],
      "execution_count": null,
      "outputs": []
    },
    {
      "cell_type": "code",
      "metadata": {
        "id": "Vv6oca4Uoygw",
        "colab_type": "code",
        "colab": {
          "base_uri": "https://localhost:8080/",
          "height": 202
        },
        "outputId": "1c23547c-cbfa-4860-b183-ac0adba227ca"
      },
      "source": [
        "# Display the dataframe head.\n",
        "df.head()"
      ],
      "execution_count": null,
      "outputs": [
        {
          "output_type": "execute_result",
          "data": {
            "text/html": [
              "<div>\n",
              "<style scoped>\n",
              "    .dataframe tbody tr th:only-of-type {\n",
              "        vertical-align: middle;\n",
              "    }\n",
              "\n",
              "    .dataframe tbody tr th {\n",
              "        vertical-align: top;\n",
              "    }\n",
              "\n",
              "    .dataframe thead th {\n",
              "        text-align: right;\n",
              "    }\n",
              "</style>\n",
              "<table border=\"1\" class=\"dataframe\">\n",
              "  <thead>\n",
              "    <tr style=\"text-align: right;\">\n",
              "      <th></th>\n",
              "      <th>location_type</th>\n",
              "      <th>location</th>\n",
              "      <th>income_period</th>\n",
              "      <th>income_desc</th>\n",
              "      <th>income</th>\n",
              "      <th>population</th>\n",
              "    </tr>\n",
              "  </thead>\n",
              "  <tbody>\n",
              "    <tr>\n",
              "      <th>0</th>\n",
              "      <td>County</td>\n",
              "      <td>Adams County</td>\n",
              "      <td>Annual</td>\n",
              "      <td>Per Capita Personal Income - Bureau of Economi...</td>\n",
              "      <td>41215</td>\n",
              "      <td>503167</td>\n",
              "    </tr>\n",
              "    <tr>\n",
              "      <th>1</th>\n",
              "      <td>County</td>\n",
              "      <td>Alamosa County</td>\n",
              "      <td>Annual</td>\n",
              "      <td>Per Capita Personal Income - Bureau of Economi...</td>\n",
              "      <td>35721</td>\n",
              "      <td>16551</td>\n",
              "    </tr>\n",
              "    <tr>\n",
              "      <th>2</th>\n",
              "      <td>County</td>\n",
              "      <td>Arapahoe County</td>\n",
              "      <td>Annual</td>\n",
              "      <td>Per Capita Personal Income - Bureau of Economi...</td>\n",
              "      <td>56642</td>\n",
              "      <td>643052</td>\n",
              "    </tr>\n",
              "    <tr>\n",
              "      <th>3</th>\n",
              "      <td>County</td>\n",
              "      <td>Archuleta County</td>\n",
              "      <td>Annual</td>\n",
              "      <td>Per Capita Personal Income - Bureau of Economi...</td>\n",
              "      <td>39944</td>\n",
              "      <td>13315</td>\n",
              "    </tr>\n",
              "    <tr>\n",
              "      <th>4</th>\n",
              "      <td>County</td>\n",
              "      <td>Baca County</td>\n",
              "      <td>Annual</td>\n",
              "      <td>Per Capita Personal Income - Bureau of Economi...</td>\n",
              "      <td>42019</td>\n",
              "      <td>3562</td>\n",
              "    </tr>\n",
              "  </tbody>\n",
              "</table>\n",
              "</div>"
            ],
            "text/plain": [
              "  location_type          location  ... income population\n",
              "0        County      Adams County  ...  41215     503167\n",
              "1        County    Alamosa County  ...  35721      16551\n",
              "2        County   Arapahoe County  ...  56642     643052\n",
              "3        County  Archuleta County  ...  39944      13315\n",
              "4        County       Baca County  ...  42019       3562\n",
              "\n",
              "[5 rows x 6 columns]"
            ]
          },
          "metadata": {
            "tags": []
          },
          "execution_count": 10
        }
      ]
    },
    {
      "cell_type": "code",
      "metadata": {
        "id": "0mgR5SyWozpP",
        "colab_type": "code",
        "colab": {
          "base_uri": "https://localhost:8080/",
          "height": 35
        },
        "outputId": "fc251149-613b-4ace-f39d-52eaf590d91f"
      },
      "source": [
        "# Display the dataframe shape.\n",
        "df.shape"
      ],
      "execution_count": null,
      "outputs": [
        {
          "output_type": "execute_result",
          "data": {
            "text/plain": [
              "(64, 6)"
            ]
          },
          "metadata": {
            "tags": []
          },
          "execution_count": 11
        }
      ]
    },
    {
      "cell_type": "code",
      "metadata": {
        "id": "97UEadR1qT0U",
        "colab_type": "code",
        "colab": {
          "base_uri": "https://localhost:8080/",
          "height": 255
        },
        "outputId": "0410e809-a6c6-4ad4-de82-c101fcd4a259"
      },
      "source": [
        "# Display the info of the dataframe.\n",
        "df.info()"
      ],
      "execution_count": null,
      "outputs": [
        {
          "output_type": "stream",
          "text": [
            "<class 'pandas.core.frame.DataFrame'>\n",
            "RangeIndex: 64 entries, 0 to 63\n",
            "Data columns (total 6 columns):\n",
            " #   Column         Non-Null Count  Dtype \n",
            "---  ------         --------------  ----- \n",
            " 0   location_type  64 non-null     object\n",
            " 1   location       64 non-null     object\n",
            " 2   income_period  64 non-null     object\n",
            " 3   income_desc    64 non-null     object\n",
            " 4   income         64 non-null     int64 \n",
            " 5   population     64 non-null     int64 \n",
            "dtypes: int64(2), object(4)\n",
            "memory usage: 3.1+ KB\n"
          ],
          "name": "stdout"
        }
      ]
    },
    {
      "cell_type": "code",
      "metadata": {
        "id": "3wy14gkSr05h",
        "colab_type": "code",
        "colab": {
          "base_uri": "https://localhost:8080/",
          "height": 294
        },
        "outputId": "3491b1d0-3910-4628-ddeb-c101fcfeb18c"
      },
      "source": [
        "# Display the basic statistics of the data.\n",
        "df.describe()"
      ],
      "execution_count": null,
      "outputs": [
        {
          "output_type": "execute_result",
          "data": {
            "text/html": [
              "<div>\n",
              "<style scoped>\n",
              "    .dataframe tbody tr th:only-of-type {\n",
              "        vertical-align: middle;\n",
              "    }\n",
              "\n",
              "    .dataframe tbody tr th {\n",
              "        vertical-align: top;\n",
              "    }\n",
              "\n",
              "    .dataframe thead th {\n",
              "        text-align: right;\n",
              "    }\n",
              "</style>\n",
              "<table border=\"1\" class=\"dataframe\">\n",
              "  <thead>\n",
              "    <tr style=\"text-align: right;\">\n",
              "      <th></th>\n",
              "      <th>income</th>\n",
              "      <th>population</th>\n",
              "    </tr>\n",
              "  </thead>\n",
              "  <tbody>\n",
              "    <tr>\n",
              "      <th>count</th>\n",
              "      <td>64.00000</td>\n",
              "      <td>64.000000</td>\n",
              "    </tr>\n",
              "    <tr>\n",
              "      <th>mean</th>\n",
              "      <td>48509.81250</td>\n",
              "      <td>87611.781250</td>\n",
              "    </tr>\n",
              "    <tr>\n",
              "      <th>std</th>\n",
              "      <td>17164.51282</td>\n",
              "      <td>178045.401336</td>\n",
              "    </tr>\n",
              "    <tr>\n",
              "      <th>min</th>\n",
              "      <td>19443.00000</td>\n",
              "      <td>715.000000</td>\n",
              "    </tr>\n",
              "    <tr>\n",
              "      <th>25%</th>\n",
              "      <td>38785.00000</td>\n",
              "      <td>5906.000000</td>\n",
              "    </tr>\n",
              "    <tr>\n",
              "      <th>50%</th>\n",
              "      <td>44948.00000</td>\n",
              "      <td>14779.500000</td>\n",
              "    </tr>\n",
              "    <tr>\n",
              "      <th>75%</th>\n",
              "      <td>55224.00000</td>\n",
              "      <td>43227.750000</td>\n",
              "    </tr>\n",
              "    <tr>\n",
              "      <th>max</th>\n",
              "      <td>143812.00000</td>\n",
              "      <td>704621.000000</td>\n",
              "    </tr>\n",
              "  </tbody>\n",
              "</table>\n",
              "</div>"
            ],
            "text/plain": [
              "             income     population\n",
              "count      64.00000      64.000000\n",
              "mean    48509.81250   87611.781250\n",
              "std     17164.51282  178045.401336\n",
              "min     19443.00000     715.000000\n",
              "25%     38785.00000    5906.000000\n",
              "50%     44948.00000   14779.500000\n",
              "75%     55224.00000   43227.750000\n",
              "max    143812.00000  704621.000000"
            ]
          },
          "metadata": {
            "tags": []
          },
          "execution_count": 13
        }
      ]
    },
    {
      "cell_type": "code",
      "metadata": {
        "id": "myx9O4GM7kC3",
        "colab_type": "code",
        "colab": {
          "base_uri": "https://localhost:8080/",
          "height": 338
        },
        "outputId": "0e6ed0b0-7277-477a-ab33-3acf5f7610e5"
      },
      "source": [
        "# Plot a histogram Income.\n",
        "n_bins = 10\n",
        "plt.hist(df['income'], n_bins)"
      ],
      "execution_count": null,
      "outputs": [
        {
          "output_type": "execute_result",
          "data": {
            "text/plain": [
              "(array([ 4., 27., 21.,  6.,  5.,  0.,  0.,  0.,  0.,  1.]),\n",
              " array([ 19443. ,  31879.9,  44316.8,  56753.7,  69190.6,  81627.5,\n",
              "         94064.4, 106501.3, 118938.2, 131375.1, 143812. ]),\n",
              " <a list of 10 Patch objects>)"
            ]
          },
          "metadata": {
            "tags": []
          },
          "execution_count": 15
        },
        {
          "output_type": "display_data",
          "data": {
            "image/png": "[encoded data removed]",
            "text/plain": [
              "<Figure size 432x288 with 1 Axes>"
            ]
          },
          "metadata": {
            "tags": [],
            "needs_background": "light"
          }
        }
      ]
    },
    {
      "cell_type": "code",
      "metadata": {
        "id": "AMMGBneWDLlI",
        "colab_type": "code",
        "colab": {
          "base_uri": "https://localhost:8080/",
          "height": 308
        },
        "outputId": "9d3a4fc0-d39a-4c7f-f4bc-cf51d4714cc1"
      },
      "source": [
        "# Plot a distribution plot on Income.\n",
        "sns.distplot(df['income'], bins=10)"
      ],
      "execution_count": null,
      "outputs": [
        {
          "output_type": "execute_result",
          "data": {
            "text/plain": [
              "<matplotlib.axes._subplots.AxesSubplot at 0x7f2d28a828d0>"
            ]
          },
          "metadata": {
            "tags": []
          },
          "execution_count": 16
        },
        {
          "output_type": "display_data",
          "data": {
            "image/png": "[encoded data removed]",
            "text/plain": [
              "<Figure size 432x288 with 1 Axes>"
            ]
          },
          "metadata": {
            "tags": [],
            "needs_background": "light"
          }
        }
      ]
    },
    {
      "cell_type": "code",
      "metadata": {
        "id": "wD1LZtKuDxIs",
        "colab_type": "code",
        "colab": {
          "base_uri": "https://localhost:8080/",
          "height": 202
        },
        "outputId": "f6a7e20a-fb1c-4188-c4b8-55c836bc16ca"
      },
      "source": [
        "# Select only the features of float64 and int64 type.\n",
        "solar_num = df.select_dtypes(include=['float64','int64'])\n",
        "solar_num.head()"
      ],
      "execution_count": null,
      "outputs": [
        {
          "output_type": "execute_result",
          "data": {
            "text/html": [
              "<div>\n",
              "<style scoped>\n",
              "    .dataframe tbody tr th:only-of-type {\n",
              "        vertical-align: middle;\n",
              "    }\n",
              "\n",
              "    .dataframe tbody tr th {\n",
              "        vertical-align: top;\n",
              "    }\n",
              "\n",
              "    .dataframe thead th {\n",
              "        text-align: right;\n",
              "    }\n",
              "</style>\n",
              "<table border=\"1\" class=\"dataframe\">\n",
              "  <thead>\n",
              "    <tr style=\"text-align: right;\">\n",
              "      <th></th>\n",
              "      <th>income</th>\n",
              "      <th>population</th>\n",
              "    </tr>\n",
              "  </thead>\n",
              "  <tbody>\n",
              "    <tr>\n",
              "      <th>0</th>\n",
              "      <td>41215</td>\n",
              "      <td>503167</td>\n",
              "    </tr>\n",
              "    <tr>\n",
              "      <th>1</th>\n",
              "      <td>35721</td>\n",
              "      <td>16551</td>\n",
              "    </tr>\n",
              "    <tr>\n",
              "      <th>2</th>\n",
              "      <td>56642</td>\n",
              "      <td>643052</td>\n",
              "    </tr>\n",
              "    <tr>\n",
              "      <th>3</th>\n",
              "      <td>39944</td>\n",
              "      <td>13315</td>\n",
              "    </tr>\n",
              "    <tr>\n",
              "      <th>4</th>\n",
              "      <td>42019</td>\n",
              "      <td>3562</td>\n",
              "    </tr>\n",
              "  </tbody>\n",
              "</table>\n",
              "</div>"
            ],
            "text/plain": [
              "   income  population\n",
              "0   41215      503167\n",
              "1   35721       16551\n",
              "2   56642      643052\n",
              "3   39944       13315\n",
              "4   42019        3562"
            ]
          },
          "metadata": {
            "tags": []
          },
          "execution_count": 17
        }
      ]
    },
    {
      "cell_type": "code",
      "metadata": {
        "id": "p9Zq6aTiImLD",
        "colab_type": "code",
        "colab": {
          "base_uri": "https://localhost:8080/",
          "height": 336
        },
        "outputId": "996c7d2d-1dd5-4326-d4be-e397b48ff833"
      },
      "source": [
        "# Plot and display all histograms.\n",
        "solar_num.hist(bins=20)"
      ],
      "execution_count": null,
      "outputs": [
        {
          "output_type": "execute_result",
          "data": {
            "text/plain": [
              "array([[<matplotlib.axes._subplots.AxesSubplot object at 0x7f2d28865b38>,\n",
              "        <matplotlib.axes._subplots.AxesSubplot object at 0x7f2d28816c50>]],\n",
              "      dtype=object)"
            ]
          },
          "metadata": {
            "tags": []
          },
          "execution_count": 18
        },
        {
          "output_type": "display_data",
          "data": {
            "image/png": "[encoded data removed]",
            "text/plain": [
              "<Figure size 432x288 with 2 Axes>"
            ]
          },
          "metadata": {
            "tags": [],
            "needs_background": "light"
          }
        }
      ]
    },
    {
      "cell_type": "code",
      "metadata": {
        "id": "VKobG5nysu5K",
        "colab_type": "code",
        "colab": {}
      },
      "source": [
        "# Get correlation with variables of interest\n",
        "income = solar_num.corr()['income']"
      ],
      "execution_count": null,
      "outputs": []
    },
    {
      "cell_type": "code",
      "metadata": {
        "id": "hSLr3PJXIYkB",
        "colab_type": "code",
        "colab": {
          "base_uri": "https://localhost:8080/",
          "height": 72
        },
        "outputId": "80758a28-435b-4e3a-8ce3-14e47c8736e7"
      },
      "source": [
        "# Display correlation.\n",
        "income"
      ],
      "execution_count": null,
      "outputs": [
        {
          "output_type": "execute_result",
          "data": {
            "text/plain": [
              "income        1.00000\n",
              "population    0.17872\n",
              "Name: income, dtype: float64"
            ]
          },
          "metadata": {
            "tags": []
          },
          "execution_count": 23
        }
      ]
    },
    {
      "cell_type": "code",
      "metadata": {
        "id": "lGOsBIK2Y48T",
        "colab_type": "code",
        "colab": {
          "base_uri": "https://localhost:8080/",
          "height": 225
        },
        "outputId": "7977aeed-8d5f-45d4-c926-200c83cabd5c"
      },
      "source": [
        "# Plot a scatterplot on the correlation.\n",
        "sns.pairplot(solar_num, y_vars=['income'],x_vars=['population'])"
      ],
      "execution_count": null,
      "outputs": [
        {
          "output_type": "execute_result",
          "data": {
            "text/plain": [
              "<seaborn.axisgrid.PairGrid at 0x7f2d25d769b0>"
            ]
          },
          "metadata": {
            "tags": []
          },
          "execution_count": 30
        },
        {
          "output_type": "display_data",
          "data": {
            "image/png": "[encoded data removed]",
            "text/plain": [
              "<Figure size 180x180 with 1 Axes>"
            ]
          },
          "metadata": {
            "tags": [],
            "needs_background": "light"
          }
        }
      ]
    }
  ]
}