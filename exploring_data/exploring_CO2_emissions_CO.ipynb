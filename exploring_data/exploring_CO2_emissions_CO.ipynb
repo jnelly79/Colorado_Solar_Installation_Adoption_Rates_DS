{
  "nbformat": 4,
  "nbformat_minor": 0,
  "metadata": {
    "colab": {
      "name": "exploring_CO2_emissions_CO",
      "provenance": [],
      "mount_file_id": "10QOnR7i9b99UGzeOUPr9OgJzx3ZEvYjW",
      "authorship_tag": "ABX9TyM55D0npwx55wS1NP2EDmy3",
      "include_colab_link": true
    },
    "kernelspec": {
      "name": "python3",
      "display_name": "Python 3"
    }
  },
  "cells": [
    {
      "cell_type": "markdown",
      "metadata": {
        "id": "view-in-github",
        "colab_type": "text"
      },
      "source": [
        "<a href=\"https://colab.research.google.com/github/jnelly79/Colorado_Solar_Installation_Adoption_Rates_DS/blob/master/exploring_data/exploring_CO2_emissions_CO.ipynb\" target=\"_parent\"><img src=\"https://colab.research.google.com/assets/colab-badge.svg\" alt=\"Open In Colab\"/></a>"
      ]
    },
    {
      "cell_type": "code",
      "metadata": {
        "id": "gd0CPJsOoNPM",
        "colab_type": "code",
        "colab": {
          "base_uri": "https://localhost:8080/",
          "height": 73
        },
        "outputId": "abe44f5c-e4ed-4aba-ff1d-3472cb174006"
      },
      "source": [
        "# Import pandas and visualization libraries.\n",
        "import pandas as pd\n",
        "import matplotlib.pyplot as plt\n",
        "import seaborn as sns"
      ],
      "execution_count": null,
      "outputs": [
        {
          "output_type": "stream",
          "text": [
            "/usr/local/lib/python3.6/dist-packages/statsmodels/tools/_testing.py:19: FutureWarning: pandas.util.testing is deprecated. Use the functions in the public API at pandas.testing instead.\n",
            "  import pandas.util.testing as tm\n"
          ],
          "name": "stderr"
        }
      ]
    },
    {
      "cell_type": "code",
      "metadata": {
        "id": "Y_iV-yInoooU",
        "colab_type": "code",
        "colab": {}
      },
      "source": [
        "# Load in the data for Colorado CO2 emissions.\n",
        "df = pd.read_excel('/content/drive/My Drive/datasets/data_practicum/CO2_emissions_CO.xlsx', sheet_name='cleaned')"
      ],
      "execution_count": null,
      "outputs": []
    },
    {
      "cell_type": "code",
      "metadata": {
        "id": "Vv6oca4Uoygw",
        "colab_type": "code",
        "colab": {
          "base_uri": "https://localhost:8080/",
          "height": 202
        },
        "outputId": "2ab58c92-3e04-4967-9e7e-8c25593d680e"
      },
      "source": [
        "# Display the head\n",
        "df.head()"
      ],
      "execution_count": null,
      "outputs": [
        {
          "output_type": "execute_result",
          "data": {
            "text/html": [
              "<div>\n",
              "<style scoped>\n",
              "    .dataframe tbody tr th:only-of-type {\n",
              "        vertical-align: middle;\n",
              "    }\n",
              "\n",
              "    .dataframe tbody tr th {\n",
              "        vertical-align: top;\n",
              "    }\n",
              "\n",
              "    .dataframe thead th {\n",
              "        text-align: right;\n",
              "    }\n",
              "</style>\n",
              "<table border=\"1\" class=\"dataframe\">\n",
              "  <thead>\n",
              "    <tr style=\"text-align: right;\">\n",
              "      <th></th>\n",
              "      <th>Years</th>\n",
              "      <th>Coal</th>\n",
              "      <th>Petroleum Products</th>\n",
              "      <th>Natural Gas</th>\n",
              "      <th>Total</th>\n",
              "    </tr>\n",
              "  </thead>\n",
              "  <tbody>\n",
              "    <tr>\n",
              "      <th>0</th>\n",
              "      <td>1980</td>\n",
              "      <td>0.043</td>\n",
              "      <td>0.442</td>\n",
              "      <td>4.734</td>\n",
              "      <td>5.219</td>\n",
              "    </tr>\n",
              "    <tr>\n",
              "      <th>1</th>\n",
              "      <td>1981</td>\n",
              "      <td>0.035</td>\n",
              "      <td>0.541</td>\n",
              "      <td>3.961</td>\n",
              "      <td>4.537</td>\n",
              "    </tr>\n",
              "    <tr>\n",
              "      <th>2</th>\n",
              "      <td>1982</td>\n",
              "      <td>0.044</td>\n",
              "      <td>0.635</td>\n",
              "      <td>4.498</td>\n",
              "      <td>5.177</td>\n",
              "    </tr>\n",
              "    <tr>\n",
              "      <th>3</th>\n",
              "      <td>1983</td>\n",
              "      <td>0.026</td>\n",
              "      <td>0.813</td>\n",
              "      <td>4.494</td>\n",
              "      <td>5.333</td>\n",
              "    </tr>\n",
              "    <tr>\n",
              "      <th>4</th>\n",
              "      <td>1984</td>\n",
              "      <td>0.049</td>\n",
              "      <td>0.385</td>\n",
              "      <td>4.969</td>\n",
              "      <td>5.403</td>\n",
              "    </tr>\n",
              "  </tbody>\n",
              "</table>\n",
              "</div>"
            ],
            "text/plain": [
              "   Years   Coal  Petroleum Products  Natural Gas  Total\n",
              "0   1980  0.043               0.442        4.734  5.219\n",
              "1   1981  0.035               0.541        3.961  4.537\n",
              "2   1982  0.044               0.635        4.498  5.177\n",
              "3   1983  0.026               0.813        4.494  5.333\n",
              "4   1984  0.049               0.385        4.969  5.403"
            ]
          },
          "metadata": {
            "tags": []
          },
          "execution_count": 3
        }
      ]
    },
    {
      "cell_type": "code",
      "metadata": {
        "id": "0mgR5SyWozpP",
        "colab_type": "code",
        "colab": {
          "base_uri": "https://localhost:8080/",
          "height": 35
        },
        "outputId": "c9a43622-29a8-41a2-9c11-8568284dc70a"
      },
      "source": [
        "# Display dataframe shape\n",
        "df.shape"
      ],
      "execution_count": null,
      "outputs": [
        {
          "output_type": "execute_result",
          "data": {
            "text/plain": [
              "(38, 5)"
            ]
          },
          "metadata": {
            "tags": []
          },
          "execution_count": 4
        }
      ]
    },
    {
      "cell_type": "code",
      "metadata": {
        "id": "97UEadR1qT0U",
        "colab_type": "code",
        "colab": {
          "base_uri": "https://localhost:8080/",
          "height": 237
        },
        "outputId": "626bef89-67bb-4788-9af4-56ff73f78f0d"
      },
      "source": [
        "# Display dataframe info\n",
        "df.info()"
      ],
      "execution_count": null,
      "outputs": [
        {
          "output_type": "stream",
          "text": [
            "<class 'pandas.core.frame.DataFrame'>\n",
            "RangeIndex: 38 entries, 0 to 37\n",
            "Data columns (total 5 columns):\n",
            " #   Column              Non-Null Count  Dtype  \n",
            "---  ------              --------------  -----  \n",
            " 0   Years               38 non-null     int64  \n",
            " 1   Coal                38 non-null     float64\n",
            " 2   Petroleum Products  38 non-null     float64\n",
            " 3   Natural Gas         38 non-null     float64\n",
            " 4   Total               38 non-null     float64\n",
            "dtypes: float64(4), int64(1)\n",
            "memory usage: 1.6 KB\n"
          ],
          "name": "stdout"
        }
      ]
    },
    {
      "cell_type": "code",
      "metadata": {
        "id": "3wy14gkSr05h",
        "colab_type": "code",
        "colab": {
          "base_uri": "https://localhost:8080/",
          "height": 294
        },
        "outputId": "b931ad15-2bd5-4170-92cc-c7b99e1ad05a"
      },
      "source": [
        "# Display dataframe basic statistics.\n",
        "df.describe()"
      ],
      "execution_count": null,
      "outputs": [
        {
          "output_type": "execute_result",
          "data": {
            "text/html": [
              "<div>\n",
              "<style scoped>\n",
              "    .dataframe tbody tr th:only-of-type {\n",
              "        vertical-align: middle;\n",
              "    }\n",
              "\n",
              "    .dataframe tbody tr th {\n",
              "        vertical-align: top;\n",
              "    }\n",
              "\n",
              "    .dataframe thead th {\n",
              "        text-align: right;\n",
              "    }\n",
              "</style>\n",
              "<table border=\"1\" class=\"dataframe\">\n",
              "  <thead>\n",
              "    <tr style=\"text-align: right;\">\n",
              "      <th></th>\n",
              "      <th>Years</th>\n",
              "      <th>Coal</th>\n",
              "      <th>Petroleum Products</th>\n",
              "      <th>Natural Gas</th>\n",
              "      <th>Total</th>\n",
              "    </tr>\n",
              "  </thead>\n",
              "  <tbody>\n",
              "    <tr>\n",
              "      <th>count</th>\n",
              "      <td>38.000000</td>\n",
              "      <td>38.000000</td>\n",
              "      <td>38.000000</td>\n",
              "      <td>38.000000</td>\n",
              "      <td>38.000000</td>\n",
              "    </tr>\n",
              "    <tr>\n",
              "      <th>mean</th>\n",
              "      <td>1998.500000</td>\n",
              "      <td>0.022947</td>\n",
              "      <td>0.581921</td>\n",
              "      <td>5.923842</td>\n",
              "      <td>6.528816</td>\n",
              "    </tr>\n",
              "    <tr>\n",
              "      <th>std</th>\n",
              "      <td>11.113055</td>\n",
              "      <td>0.022820</td>\n",
              "      <td>0.202009</td>\n",
              "      <td>1.006623</td>\n",
              "      <td>1.127644</td>\n",
              "    </tr>\n",
              "    <tr>\n",
              "      <th>min</th>\n",
              "      <td>1980.000000</td>\n",
              "      <td>0.000000</td>\n",
              "      <td>0.059000</td>\n",
              "      <td>3.961000</td>\n",
              "      <td>4.537000</td>\n",
              "    </tr>\n",
              "    <tr>\n",
              "      <th>25%</th>\n",
              "      <td>1989.250000</td>\n",
              "      <td>0.000750</td>\n",
              "      <td>0.430750</td>\n",
              "      <td>4.963750</td>\n",
              "      <td>5.381250</td>\n",
              "    </tr>\n",
              "    <tr>\n",
              "      <th>50%</th>\n",
              "      <td>1998.500000</td>\n",
              "      <td>0.019500</td>\n",
              "      <td>0.642500</td>\n",
              "      <td>6.068500</td>\n",
              "      <td>6.478000</td>\n",
              "    </tr>\n",
              "    <tr>\n",
              "      <th>75%</th>\n",
              "      <td>2007.750000</td>\n",
              "      <td>0.041750</td>\n",
              "      <td>0.741750</td>\n",
              "      <td>6.825000</td>\n",
              "      <td>7.584000</td>\n",
              "    </tr>\n",
              "    <tr>\n",
              "      <th>max</th>\n",
              "      <td>2017.000000</td>\n",
              "      <td>0.077000</td>\n",
              "      <td>0.926000</td>\n",
              "      <td>7.402000</td>\n",
              "      <td>8.224000</td>\n",
              "    </tr>\n",
              "  </tbody>\n",
              "</table>\n",
              "</div>"
            ],
            "text/plain": [
              "             Years       Coal  Petroleum Products  Natural Gas      Total\n",
              "count    38.000000  38.000000           38.000000    38.000000  38.000000\n",
              "mean   1998.500000   0.022947            0.581921     5.923842   6.528816\n",
              "std      11.113055   0.022820            0.202009     1.006623   1.127644\n",
              "min    1980.000000   0.000000            0.059000     3.961000   4.537000\n",
              "25%    1989.250000   0.000750            0.430750     4.963750   5.381250\n",
              "50%    1998.500000   0.019500            0.642500     6.068500   6.478000\n",
              "75%    2007.750000   0.041750            0.741750     6.825000   7.584000\n",
              "max    2017.000000   0.077000            0.926000     7.402000   8.224000"
            ]
          },
          "metadata": {
            "tags": []
          },
          "execution_count": 6
        }
      ]
    }
  ]
}