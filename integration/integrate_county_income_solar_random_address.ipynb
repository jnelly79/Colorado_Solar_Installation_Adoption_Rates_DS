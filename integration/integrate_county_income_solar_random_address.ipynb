{
  "nbformat": 4,
  "nbformat_minor": 0,
  "metadata": {
    "colab": {
      "name": "integrate_county_income_solar_random_address.ipynb",
      "provenance": [],
      "mount_file_id": "1xIwoE8Mw16-vRefoUkteXGhlUKlZJt1b",
      "authorship_tag": "ABX9TyML7ftW0g8Gqr3wXbncJbQT",
      "include_colab_link": true
    },
    "kernelspec": {
      "name": "python3",
      "display_name": "Python 3"
    }
  },
  "cells": [
    {
      "cell_type": "markdown",
      "metadata": {
        "id": "view-in-github",
        "colab_type": "text"
      },
      "source": [
        "<a href=\"https://colab.research.google.com/github/jnelly79/Colorado_Solar_Installation_Adoption_Rates_DS/blob/master/integration/integrate_county_income_solar_random_address.ipynb\" target=\"_parent\"><img src=\"https://colab.research.google.com/assets/colab-badge.svg\" alt=\"Open In Colab\"/></a>"
      ]
    },
    {
      "cell_type": "code",
      "metadata": {
        "id": "76tpKNf3-rnO",
        "colab_type": "code",
        "colab": {}
      },
      "source": [
        "# Import pandas.\n",
        "import pandas as pd"
      ],
      "execution_count": null,
      "outputs": []
    },
    {
      "cell_type": "code",
      "metadata": {
        "id": "TKb61xHZ-3JK",
        "colab_type": "code",
        "colab": {}
      },
      "source": [
        "\"\"\"\n",
        "Load the random solar address data, the the Colorado zip codes and counties, \n",
        "and the personal income GDP data.\n",
        "\"\"\"\n",
        "df = pd.read_excel('/content/drive/My Drive/datasets/data_practicum/random_address_solar_data3.xlsx', sheet_name='cleaned')\n",
        "df1 = pd.read_excel('/content/drive/My Drive/datasets/data_practicum/CO_zip_counties1.xlsx')\n",
        "df2 = pd.read_excel('/content/drive/My Drive/datasets/data_practicum/Personal_Income_in_Colorado.xlsx', sheet_name='cleaned')"
      ],
      "execution_count": null,
      "outputs": []
    },
    {
      "cell_type": "code",
      "metadata": {
        "id": "LobWlx_lCSvE",
        "colab_type": "code",
        "colab": {
          "base_uri": "https://localhost:8080/",
          "height": 463
        },
        "outputId": "92ddd068-651b-42c7-9e78-2ee4c85c8bef"
      },
      "source": [
        "# Display the head of the random solar data.\n",
        "df.head()"
      ],
      "execution_count": null,
      "outputs": [
        {
          "output_type": "execute_result",
          "data": {
            "text/html": [
              "<div>\n",
              "<style scoped>\n",
              "    .dataframe tbody tr th:only-of-type {\n",
              "        vertical-align: middle;\n",
              "    }\n",
              "\n",
              "    .dataframe tbody tr th {\n",
              "        vertical-align: top;\n",
              "    }\n",
              "\n",
              "    .dataframe thead th {\n",
              "        text-align: right;\n",
              "    }\n",
              "</style>\n",
              "<table border=\"1\" class=\"dataframe\">\n",
              "  <thead>\n",
              "    <tr style=\"text-align: right;\">\n",
              "      <th></th>\n",
              "      <th>addresses</th>\n",
              "      <th>county</th>\n",
              "      <th>sun_hours</th>\n",
              "      <th>sqft</th>\n",
              "      <th>size_for_full_cvg_kW</th>\n",
              "      <th>carbon_metric_ton</th>\n",
              "      <th>upfront_cost</th>\n",
              "      <th>20_year_pay</th>\n",
              "      <th>state_fed_incentives</th>\n",
              "      <th>20_year_cost_with_solar</th>\n",
              "      <th>20_year_cost_without_solar</th>\n",
              "      <th>20_year_save</th>\n",
              "    </tr>\n",
              "  </thead>\n",
              "  <tbody>\n",
              "    <tr>\n",
              "      <th>0</th>\n",
              "      <td>13715 W 51st Ave, Arvada, CO 80002</td>\n",
              "      <td>Jefferson</td>\n",
              "      <td>1715</td>\n",
              "      <td>1216</td>\n",
              "      <td>6.3</td>\n",
              "      <td>7.7</td>\n",
              "      <td>22979</td>\n",
              "      <td>22979</td>\n",
              "      <td>-6784</td>\n",
              "      <td>19535</td>\n",
              "      <td>23706</td>\n",
              "      <td>4171</td>\n",
              "    </tr>\n",
              "    <tr>\n",
              "      <th>1</th>\n",
              "      <td>5295 Gladiola St, Arvada, CO 80002</td>\n",
              "      <td>Jefferson</td>\n",
              "      <td>1496</td>\n",
              "      <td>634</td>\n",
              "      <td>7.0</td>\n",
              "      <td>6.6</td>\n",
              "      <td>25229</td>\n",
              "      <td>25229</td>\n",
              "      <td>-6559</td>\n",
              "      <td>23117</td>\n",
              "      <td>23250</td>\n",
              "      <td>133</td>\n",
              "    </tr>\n",
              "    <tr>\n",
              "      <th>2</th>\n",
              "      <td>5722 Xenon Way, Arvada, CO 80002</td>\n",
              "      <td>Jefferson</td>\n",
              "      <td>1824</td>\n",
              "      <td>2995</td>\n",
              "      <td>4.8</td>\n",
              "      <td>6.6</td>\n",
              "      <td>18479</td>\n",
              "      <td>18479</td>\n",
              "      <td>-4804</td>\n",
              "      <td>17953</td>\n",
              "      <td>23250</td>\n",
              "      <td>5297</td>\n",
              "    </tr>\n",
              "    <tr>\n",
              "      <th>3</th>\n",
              "      <td>5955 Carr St, Arvada, CO 80004</td>\n",
              "      <td>Jefferson</td>\n",
              "      <td>1652</td>\n",
              "      <td>1039</td>\n",
              "      <td>5.5</td>\n",
              "      <td>6.4</td>\n",
              "      <td>20729</td>\n",
              "      <td>20729</td>\n",
              "      <td>-5389</td>\n",
              "      <td>20171</td>\n",
              "      <td>23250</td>\n",
              "      <td>3079</td>\n",
              "    </tr>\n",
              "    <tr>\n",
              "      <th>4</th>\n",
              "      <td>7439 W 74th Ave, Arvada, CO 80003</td>\n",
              "      <td>Jefferson</td>\n",
              "      <td>1781</td>\n",
              "      <td>1163</td>\n",
              "      <td>4.8</td>\n",
              "      <td>6.4</td>\n",
              "      <td>18479</td>\n",
              "      <td>18479</td>\n",
              "      <td>-4804</td>\n",
              "      <td>18642</td>\n",
              "      <td>23250</td>\n",
              "      <td>4608</td>\n",
              "    </tr>\n",
              "  </tbody>\n",
              "</table>\n",
              "</div>"
            ],
            "text/plain": [
              "                            addresses  ... 20_year_save\n",
              "0  13715 W 51st Ave, Arvada, CO 80002  ...         4171\n",
              "1  5295 Gladiola St, Arvada, CO 80002  ...          133\n",
              "2    5722 Xenon Way, Arvada, CO 80002  ...         5297\n",
              "3      5955 Carr St, Arvada, CO 80004  ...         3079\n",
              "4   7439 W 74th Ave, Arvada, CO 80003  ...         4608\n",
              "\n",
              "[5 rows x 12 columns]"
            ]
          },
          "metadata": {
            "tags": []
          },
          "execution_count": 168
        }
      ]
    },
    {
      "cell_type": "code",
      "metadata": {
        "id": "_kdlJjJmA9hV",
        "colab_type": "code",
        "colab": {}
      },
      "source": [
        "# Convert the  counties data to Dtype string. \n",
        "df1 = df1.astype(str)"
      ],
      "execution_count": null,
      "outputs": []
    },
    {
      "cell_type": "code",
      "metadata": {
        "id": "vyhcU-LXVtRw",
        "colab_type": "code",
        "colab": {
          "base_uri": "https://localhost:8080/",
          "height": 202
        },
        "outputId": "989fd260-b042-4493-ad09-34df6f0a8db3"
      },
      "source": [
        "# Display Colorado counties and zipcodes data.\n",
        "df1.head()"
      ],
      "execution_count": null,
      "outputs": [
        {
          "output_type": "execute_result",
          "data": {
            "text/html": [
              "<div>\n",
              "<style scoped>\n",
              "    .dataframe tbody tr th:only-of-type {\n",
              "        vertical-align: middle;\n",
              "    }\n",
              "\n",
              "    .dataframe tbody tr th {\n",
              "        vertical-align: top;\n",
              "    }\n",
              "\n",
              "    .dataframe thead th {\n",
              "        text-align: right;\n",
              "    }\n",
              "</style>\n",
              "<table border=\"1\" class=\"dataframe\">\n",
              "  <thead>\n",
              "    <tr style=\"text-align: right;\">\n",
              "      <th></th>\n",
              "      <th>zip</th>\n",
              "      <th>City</th>\n",
              "      <th>County</th>\n",
              "      <th>Type</th>\n",
              "    </tr>\n",
              "  </thead>\n",
              "  <tbody>\n",
              "    <tr>\n",
              "      <th>0</th>\n",
              "      <td>80001</td>\n",
              "      <td>Arvada</td>\n",
              "      <td>Jefferson</td>\n",
              "      <td>P.O. Box</td>\n",
              "    </tr>\n",
              "    <tr>\n",
              "      <th>1</th>\n",
              "      <td>80002</td>\n",
              "      <td>Arvada</td>\n",
              "      <td>Jefferson</td>\n",
              "      <td>Standard</td>\n",
              "    </tr>\n",
              "    <tr>\n",
              "      <th>2</th>\n",
              "      <td>80003</td>\n",
              "      <td>Arvada</td>\n",
              "      <td>Jefferson</td>\n",
              "      <td>Standard</td>\n",
              "    </tr>\n",
              "    <tr>\n",
              "      <th>3</th>\n",
              "      <td>80004</td>\n",
              "      <td>Arvada</td>\n",
              "      <td>Jefferson</td>\n",
              "      <td>Standard</td>\n",
              "    </tr>\n",
              "    <tr>\n",
              "      <th>4</th>\n",
              "      <td>80005</td>\n",
              "      <td>Arvada</td>\n",
              "      <td>Jefferson</td>\n",
              "      <td>Standard</td>\n",
              "    </tr>\n",
              "  </tbody>\n",
              "</table>\n",
              "</div>"
            ],
            "text/plain": [
              "     zip    City     County      Type\n",
              "0  80001  Arvada  Jefferson  P.O. Box\n",
              "1  80002  Arvada  Jefferson  Standard\n",
              "2  80003  Arvada  Jefferson  Standard\n",
              "3  80004  Arvada  Jefferson  Standard\n",
              "4  80005  Arvada  Jefferson  Standard"
            ]
          },
          "metadata": {
            "tags": []
          },
          "execution_count": 170
        }
      ]
    },
    {
      "cell_type": "code",
      "metadata": {
        "id": "oUrkEy-s_-lA",
        "colab_type": "code",
        "colab": {}
      },
      "source": [
        "# Create a function find_zip.\n",
        "def find_zip(x):\n",
        "  for i, row in df1['zip'].iteritems():\n",
        "    if str(row) in x:\n",
        "      return df1['County'][i]"
      ],
      "execution_count": null,
      "outputs": []
    },
    {
      "cell_type": "code",
      "metadata": {
        "id": "oqxZm1YiCGaF",
        "colab_type": "code",
        "colab": {}
      },
      "source": [
        "\"\"\"\n",
        "Apply the function to the addresses column of the random solar addresses to \n",
        "create a new column on counties. \n",
        "\"\"\"\n",
        "df['county'] = df['addresses'].apply(find_zip)"
      ],
      "execution_count": null,
      "outputs": []
    },
    {
      "cell_type": "code",
      "metadata": {
        "id": "1bv24zqVCYsG",
        "colab_type": "code",
        "colab": {
          "base_uri": "https://localhost:8080/",
          "height": 463
        },
        "outputId": "2bd5aa9c-e0b7-4924-edfb-7cf0d378390f"
      },
      "source": [
        "## Display the dataframe head of solar data.\n",
        "df.head()"
      ],
      "execution_count": null,
      "outputs": [
        {
          "output_type": "execute_result",
          "data": {
            "text/html": [
              "<div>\n",
              "<style scoped>\n",
              "    .dataframe tbody tr th:only-of-type {\n",
              "        vertical-align: middle;\n",
              "    }\n",
              "\n",
              "    .dataframe tbody tr th {\n",
              "        vertical-align: top;\n",
              "    }\n",
              "\n",
              "    .dataframe thead th {\n",
              "        text-align: right;\n",
              "    }\n",
              "</style>\n",
              "<table border=\"1\" class=\"dataframe\">\n",
              "  <thead>\n",
              "    <tr style=\"text-align: right;\">\n",
              "      <th></th>\n",
              "      <th>addresses</th>\n",
              "      <th>county</th>\n",
              "      <th>sun_hours</th>\n",
              "      <th>sqft</th>\n",
              "      <th>size_for_full_cvg_kW</th>\n",
              "      <th>carbon_metric_ton</th>\n",
              "      <th>upfront_cost</th>\n",
              "      <th>20_year_pay</th>\n",
              "      <th>state_fed_incentives</th>\n",
              "      <th>20_year_cost_with_solar</th>\n",
              "      <th>20_year_cost_without_solar</th>\n",
              "      <th>20_year_save</th>\n",
              "    </tr>\n",
              "  </thead>\n",
              "  <tbody>\n",
              "    <tr>\n",
              "      <th>0</th>\n",
              "      <td>13715 W 51st Ave, Arvada, CO 80002</td>\n",
              "      <td>Jefferson</td>\n",
              "      <td>1715</td>\n",
              "      <td>1216</td>\n",
              "      <td>6.3</td>\n",
              "      <td>7.7</td>\n",
              "      <td>22979</td>\n",
              "      <td>22979</td>\n",
              "      <td>-6784</td>\n",
              "      <td>19535</td>\n",
              "      <td>23706</td>\n",
              "      <td>4171</td>\n",
              "    </tr>\n",
              "    <tr>\n",
              "      <th>1</th>\n",
              "      <td>5295 Gladiola St, Arvada, CO 80002</td>\n",
              "      <td>Jefferson</td>\n",
              "      <td>1496</td>\n",
              "      <td>634</td>\n",
              "      <td>7.0</td>\n",
              "      <td>6.6</td>\n",
              "      <td>25229</td>\n",
              "      <td>25229</td>\n",
              "      <td>-6559</td>\n",
              "      <td>23117</td>\n",
              "      <td>23250</td>\n",
              "      <td>133</td>\n",
              "    </tr>\n",
              "    <tr>\n",
              "      <th>2</th>\n",
              "      <td>5722 Xenon Way, Arvada, CO 80002</td>\n",
              "      <td>Jefferson</td>\n",
              "      <td>1824</td>\n",
              "      <td>2995</td>\n",
              "      <td>4.8</td>\n",
              "      <td>6.6</td>\n",
              "      <td>18479</td>\n",
              "      <td>18479</td>\n",
              "      <td>-4804</td>\n",
              "      <td>17953</td>\n",
              "      <td>23250</td>\n",
              "      <td>5297</td>\n",
              "    </tr>\n",
              "    <tr>\n",
              "      <th>3</th>\n",
              "      <td>5955 Carr St, Arvada, CO 80004</td>\n",
              "      <td>Jefferson</td>\n",
              "      <td>1652</td>\n",
              "      <td>1039</td>\n",
              "      <td>5.5</td>\n",
              "      <td>6.4</td>\n",
              "      <td>20729</td>\n",
              "      <td>20729</td>\n",
              "      <td>-5389</td>\n",
              "      <td>20171</td>\n",
              "      <td>23250</td>\n",
              "      <td>3079</td>\n",
              "    </tr>\n",
              "    <tr>\n",
              "      <th>4</th>\n",
              "      <td>7439 W 74th Ave, Arvada, CO 80003</td>\n",
              "      <td>Jefferson</td>\n",
              "      <td>1781</td>\n",
              "      <td>1163</td>\n",
              "      <td>4.8</td>\n",
              "      <td>6.4</td>\n",
              "      <td>18479</td>\n",
              "      <td>18479</td>\n",
              "      <td>-4804</td>\n",
              "      <td>18642</td>\n",
              "      <td>23250</td>\n",
              "      <td>4608</td>\n",
              "    </tr>\n",
              "  </tbody>\n",
              "</table>\n",
              "</div>"
            ],
            "text/plain": [
              "                            addresses  ... 20_year_save\n",
              "0  13715 W 51st Ave, Arvada, CO 80002  ...         4171\n",
              "1  5295 Gladiola St, Arvada, CO 80002  ...          133\n",
              "2    5722 Xenon Way, Arvada, CO 80002  ...         5297\n",
              "3      5955 Carr St, Arvada, CO 80004  ...         3079\n",
              "4   7439 W 74th Ave, Arvada, CO 80003  ...         4608\n",
              "\n",
              "[5 rows x 12 columns]"
            ]
          },
          "metadata": {
            "tags": []
          },
          "execution_count": 171
        }
      ]
    },
    {
      "cell_type": "code",
      "metadata": {
        "id": "ghDmbyUDL5wl",
        "colab_type": "code",
        "colab": {
          "base_uri": "https://localhost:8080/",
          "height": 202
        },
        "outputId": "84b2b011-7334-45a8-a968-f2db9ce544c9"
      },
      "source": [
        "# Display the dataframe head for personal income of per capita GDP per county.\n",
        "df2.head()"
      ],
      "execution_count": null,
      "outputs": [
        {
          "output_type": "execute_result",
          "data": {
            "text/html": [
              "<div>\n",
              "<style scoped>\n",
              "    .dataframe tbody tr th:only-of-type {\n",
              "        vertical-align: middle;\n",
              "    }\n",
              "\n",
              "    .dataframe tbody tr th {\n",
              "        vertical-align: top;\n",
              "    }\n",
              "\n",
              "    .dataframe thead th {\n",
              "        text-align: right;\n",
              "    }\n",
              "</style>\n",
              "<table border=\"1\" class=\"dataframe\">\n",
              "  <thead>\n",
              "    <tr style=\"text-align: right;\">\n",
              "      <th></th>\n",
              "      <th>location_type</th>\n",
              "      <th>location</th>\n",
              "      <th>income_period</th>\n",
              "      <th>income_desc</th>\n",
              "      <th>income</th>\n",
              "      <th>population</th>\n",
              "    </tr>\n",
              "  </thead>\n",
              "  <tbody>\n",
              "    <tr>\n",
              "      <th>0</th>\n",
              "      <td>County</td>\n",
              "      <td>Adams</td>\n",
              "      <td>Annual</td>\n",
              "      <td>Per Capita Personal Income - Bureau of Economi...</td>\n",
              "      <td>41215</td>\n",
              "      <td>503167</td>\n",
              "    </tr>\n",
              "    <tr>\n",
              "      <th>1</th>\n",
              "      <td>County</td>\n",
              "      <td>Alamosa</td>\n",
              "      <td>Annual</td>\n",
              "      <td>Per Capita Personal Income - Bureau of Economi...</td>\n",
              "      <td>35721</td>\n",
              "      <td>16551</td>\n",
              "    </tr>\n",
              "    <tr>\n",
              "      <th>2</th>\n",
              "      <td>County</td>\n",
              "      <td>Arapahoe</td>\n",
              "      <td>Annual</td>\n",
              "      <td>Per Capita Personal Income - Bureau of Economi...</td>\n",
              "      <td>56642</td>\n",
              "      <td>643052</td>\n",
              "    </tr>\n",
              "    <tr>\n",
              "      <th>3</th>\n",
              "      <td>County</td>\n",
              "      <td>Archuleta</td>\n",
              "      <td>Annual</td>\n",
              "      <td>Per Capita Personal Income - Bureau of Economi...</td>\n",
              "      <td>39944</td>\n",
              "      <td>13315</td>\n",
              "    </tr>\n",
              "    <tr>\n",
              "      <th>4</th>\n",
              "      <td>County</td>\n",
              "      <td>Baca</td>\n",
              "      <td>Annual</td>\n",
              "      <td>Per Capita Personal Income - Bureau of Economi...</td>\n",
              "      <td>42019</td>\n",
              "      <td>3562</td>\n",
              "    </tr>\n",
              "  </tbody>\n",
              "</table>\n",
              "</div>"
            ],
            "text/plain": [
              "  location_type    location  ... income population\n",
              "0        County      Adams   ...  41215     503167\n",
              "1        County    Alamosa   ...  35721      16551\n",
              "2        County   Arapahoe   ...  56642     643052\n",
              "3        County  Archuleta   ...  39944      13315\n",
              "4        County       Baca   ...  42019       3562\n",
              "\n",
              "[5 rows x 6 columns]"
            ]
          },
          "metadata": {
            "tags": []
          },
          "execution_count": 172
        }
      ]
    },
    {
      "cell_type": "code",
      "metadata": {
        "id": "zLAEY_jDTHZ-",
        "colab_type": "code",
        "colab": {}
      },
      "source": [
        "# Convert the Dtype of the per capita GDP dataframe to string.\n",
        "df2 = df2.astype(str)"
      ],
      "execution_count": null,
      "outputs": []
    },
    {
      "cell_type": "code",
      "metadata": {
        "id": "MkvcLsN_Lkqp",
        "colab_type": "code",
        "colab": {}
      },
      "source": [
        "# Create the find_county function.\n",
        "def find_county(x):\n",
        "  for i, row in df2['location'].iteritems():\n",
        "    if x in str(row):\n",
        "      return df2['income'][i]"
      ],
      "execution_count": null,
      "outputs": []
    },
    {
      "cell_type": "code",
      "metadata": {
        "id": "RKtS7hJiLuE4",
        "colab_type": "code",
        "colab": {}
      },
      "source": [
        "\"\"\"\n",
        "Apply the find_county function to the county feature of the solar address\n",
        "dataframe and create a new feature called 'assumed_income'.\n",
        "\"\"\"\n",
        "df['assumed_income'] = df['county'].apply(find_county)"
      ],
      "execution_count": null,
      "outputs": []
    },
    {
      "cell_type": "code",
      "metadata": {
        "id": "T9iqDTVQMNd7",
        "colab_type": "code",
        "colab": {
          "base_uri": "https://localhost:8080/",
          "height": 463
        },
        "outputId": "365c6d50-053a-485c-a6aa-2364fb8dab77"
      },
      "source": [
        "# Display the solar dataframe head.\n",
        "df.head()"
      ],
      "execution_count": null,
      "outputs": [
        {
          "output_type": "execute_result",
          "data": {
            "text/html": [
              "<div>\n",
              "<style scoped>\n",
              "    .dataframe tbody tr th:only-of-type {\n",
              "        vertical-align: middle;\n",
              "    }\n",
              "\n",
              "    .dataframe tbody tr th {\n",
              "        vertical-align: top;\n",
              "    }\n",
              "\n",
              "    .dataframe thead th {\n",
              "        text-align: right;\n",
              "    }\n",
              "</style>\n",
              "<table border=\"1\" class=\"dataframe\">\n",
              "  <thead>\n",
              "    <tr style=\"text-align: right;\">\n",
              "      <th></th>\n",
              "      <th>addresses</th>\n",
              "      <th>county</th>\n",
              "      <th>sun_hours</th>\n",
              "      <th>sqft</th>\n",
              "      <th>size_for_full_cvg_kW</th>\n",
              "      <th>carbon_metric_ton</th>\n",
              "      <th>upfront_cost</th>\n",
              "      <th>20_year_pay</th>\n",
              "      <th>state_fed_incentives</th>\n",
              "      <th>20_year_cost_with_solar</th>\n",
              "      <th>20_year_cost_without_solar</th>\n",
              "      <th>20_year_save</th>\n",
              "      <th>assumed_income</th>\n",
              "    </tr>\n",
              "  </thead>\n",
              "  <tbody>\n",
              "    <tr>\n",
              "      <th>0</th>\n",
              "      <td>13715 W 51st Ave, Arvada, CO 80002</td>\n",
              "      <td>Jefferson</td>\n",
              "      <td>1715</td>\n",
              "      <td>1216</td>\n",
              "      <td>6.3</td>\n",
              "      <td>7.7</td>\n",
              "      <td>22979</td>\n",
              "      <td>22979</td>\n",
              "      <td>-6784</td>\n",
              "      <td>19535</td>\n",
              "      <td>23706</td>\n",
              "      <td>4171</td>\n",
              "      <td>60398</td>\n",
              "    </tr>\n",
              "    <tr>\n",
              "      <th>1</th>\n",
              "      <td>5295 Gladiola St, Arvada, CO 80002</td>\n",
              "      <td>Jefferson</td>\n",
              "      <td>1496</td>\n",
              "      <td>634</td>\n",
              "      <td>7.0</td>\n",
              "      <td>6.6</td>\n",
              "      <td>25229</td>\n",
              "      <td>25229</td>\n",
              "      <td>-6559</td>\n",
              "      <td>23117</td>\n",
              "      <td>23250</td>\n",
              "      <td>133</td>\n",
              "      <td>60398</td>\n",
              "    </tr>\n",
              "    <tr>\n",
              "      <th>2</th>\n",
              "      <td>5722 Xenon Way, Arvada, CO 80002</td>\n",
              "      <td>Jefferson</td>\n",
              "      <td>1824</td>\n",
              "      <td>2995</td>\n",
              "      <td>4.8</td>\n",
              "      <td>6.6</td>\n",
              "      <td>18479</td>\n",
              "      <td>18479</td>\n",
              "      <td>-4804</td>\n",
              "      <td>17953</td>\n",
              "      <td>23250</td>\n",
              "      <td>5297</td>\n",
              "      <td>60398</td>\n",
              "    </tr>\n",
              "    <tr>\n",
              "      <th>3</th>\n",
              "      <td>5955 Carr St, Arvada, CO 80004</td>\n",
              "      <td>Jefferson</td>\n",
              "      <td>1652</td>\n",
              "      <td>1039</td>\n",
              "      <td>5.5</td>\n",
              "      <td>6.4</td>\n",
              "      <td>20729</td>\n",
              "      <td>20729</td>\n",
              "      <td>-5389</td>\n",
              "      <td>20171</td>\n",
              "      <td>23250</td>\n",
              "      <td>3079</td>\n",
              "      <td>60398</td>\n",
              "    </tr>\n",
              "    <tr>\n",
              "      <th>4</th>\n",
              "      <td>7439 W 74th Ave, Arvada, CO 80003</td>\n",
              "      <td>Jefferson</td>\n",
              "      <td>1781</td>\n",
              "      <td>1163</td>\n",
              "      <td>4.8</td>\n",
              "      <td>6.4</td>\n",
              "      <td>18479</td>\n",
              "      <td>18479</td>\n",
              "      <td>-4804</td>\n",
              "      <td>18642</td>\n",
              "      <td>23250</td>\n",
              "      <td>4608</td>\n",
              "      <td>60398</td>\n",
              "    </tr>\n",
              "  </tbody>\n",
              "</table>\n",
              "</div>"
            ],
            "text/plain": [
              "                            addresses     county  ...  20_year_save  assumed_income\n",
              "0  13715 W 51st Ave, Arvada, CO 80002  Jefferson  ...          4171           60398\n",
              "1  5295 Gladiola St, Arvada, CO 80002  Jefferson  ...           133           60398\n",
              "2    5722 Xenon Way, Arvada, CO 80002  Jefferson  ...          5297           60398\n",
              "3      5955 Carr St, Arvada, CO 80004  Jefferson  ...          3079           60398\n",
              "4   7439 W 74th Ave, Arvada, CO 80003  Jefferson  ...          4608           60398\n",
              "\n",
              "[5 rows x 13 columns]"
            ]
          },
          "metadata": {
            "tags": []
          },
          "execution_count": 176
        }
      ]
    },
    {
      "cell_type": "code",
      "metadata": {
        "id": "bGKYIehaEZxL",
        "colab_type": "code",
        "colab": {}
      },
      "source": [
        "# Export the integration to csv ot excel file.\n",
        "df.to_excel('/content/drive/My Drive/datasets/data_practicum/integrated_random_address_solar_data.xlsx', sheet_name=\"cleaned\")"
      ],
      "execution_count": null,
      "outputs": []
    }
  ]
}